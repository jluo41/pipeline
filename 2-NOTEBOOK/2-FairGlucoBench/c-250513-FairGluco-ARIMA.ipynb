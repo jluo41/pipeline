{
 "cells": [
  {
   "cell_type": "code",
   "execution_count": null,
   "metadata": {},
   "outputs": [],
   "source": [
    "import sys\n",
    "import os\n",
    "import logging\n",
    "import pandas as pd\n",
    "import datasets\n",
    "from datasets import disable_caching; disable_caching()\n",
    "from pprint import pprint\n",
    "KEY = '2-NOTEBOOK'\n",
    "WORKSPACE_PATH = os.getcwd().split(KEY)[0]\n",
    "print(WORKSPACE_PATH); os.chdir(WORKSPACE_PATH)\n",
    "logger = logging.getLogger(__name__)\n",
    "logging.basicConfig(level=logging.INFO, format='[%(levelname)s:%(asctime)s:(%(filename)s@%(lineno)d %(name)s)]: %(message)s')\n",
    "\n",
    "SPACE = {\n",
    "    'DATA_RAW': f'_Data/0-Data_Raw',\n",
    "    'DATA_RFT': f'_Data/1-Data_RFT',\n",
    "    'DATA_CASE': f'_Data/2-Data_CASE',\n",
    "    'DATA_AIDATA': f'_Data/3-Data_AIDATA',\n",
    "    'DATA_EXTERNAL': f'code/external',\n",
    "    'DATA_HFDATA': f'_Data/5-Data_HFData',\n",
    "    'CODE_FN': f'code/pipeline',\n",
    "    'MODEL_ROOT': f'./_Model',\n",
    "}\n",
    "assert os.path.exists(SPACE['CODE_FN']), f'{SPACE[\"CODE_FN\"]} not found'\n",
    "print(SPACE['CODE_FN'])\n",
    "sys.path.append(SPACE['CODE_FN'])\n",
    "\n",
    "# os.environ[\"CUDA_VISIBLE_DEVICES\"]=\"1\""
   ]
  },
  {
   "cell_type": "markdown",
   "metadata": {},
   "source": [
    "# AI Data"
   ]
  },
  {
   "cell_type": "code",
   "execution_count": null,
   "metadata": {},
   "outputs": [],
   "source": [
    "HFDataName = 'FairGlucoBench-Bf24h-Af8h-Split'\n",
    "path = os.path.join(SPACE['DATA_HFDATA'], HFDataName)\n",
    "split_to_dataset = datasets.load_from_disk(path)\n",
    "remove_unused_columns = True # if using the processed dataset, set to True. \n",
    "print(split_to_dataset)\n",
    "Name_to_Data = {i: {'ds_tfm': split_to_dataset[i]} for i in split_to_dataset}\n"
   ]
  },
  {
   "cell_type": "code",
   "execution_count": null,
   "metadata": {},
   "outputs": [],
   "source": [
    "data_config = {}\n",
    "CF_to_CFvocab = {}\n",
    "data_config['CF_to_CFvocab'] = CF_to_CFvocab\n",
    "\n",
    "CFName = 'HM5MinStep'\n",
    "interval_delta = pd.Timedelta(minutes=5)\n",
    "idx2tkn = [pd.Timestamp('2022-01-01 00:00:00') + interval_delta * i for i in range(24 * 12)]\n",
    "idx2tkn = [f'{i.hour:02d}:{i.minute:02d}' for i in idx2tkn]\n",
    "tkn2idx = {tkn: idx for idx, tkn in enumerate(idx2tkn)}\n",
    "CF_to_CFvocab = data_config['CF_to_CFvocab']\n",
    "CF_to_CFvocab[CFName] = {'idx2tkn': idx2tkn, 'tkn2idx': tkn2idx}"
   ]
  },
  {
   "cell_type": "code",
   "execution_count": null,
   "metadata": {},
   "outputs": [],
   "source": [
    "CFName = 'CGMValue'\n",
    "idx2tkn = [\"PAD\", \"UNKNOWN\", \"MASK\"] + [f'Other_{i}' for i in range(0, 7)] + [str(i) for i in range(10, 401)]\n",
    "tkn2idx = {tkn: idx for idx, tkn in enumerate(idx2tkn)}\n",
    "CF_to_CFvocab[CFName] = {'idx2tkn': idx2tkn, 'tkn2idx': tkn2idx}"
   ]
  },
  {
   "cell_type": "markdown",
   "metadata": {},
   "source": [
    "# Config"
   ]
  },
  {
   "cell_type": "code",
   "execution_count": null,
   "metadata": {},
   "outputs": [],
   "source": [
    "import numpy as np\n",
    "import matplotlib.pyplot as plt\n",
    "from pmdarima import auto_arima\n",
    "from sklearn.metrics import mean_squared_error\n",
    "\n",
    "def arima_forecast_with_rmse(example):\n",
    "    series = np.array(example['input_ids'])\n",
    "    labels = np.array(example['labels'])\n",
    "    forecast_horizon = len(labels)\n",
    "\n",
    "    # Fit ARIMA\n",
    "    model = auto_arima(\n",
    "        series,\n",
    "        start_p=0, start_q=0,\n",
    "        max_p=5, max_q=5,\n",
    "        d=None,\n",
    "        seasonal=False,\n",
    "        stepwise=True,\n",
    "        error_action='ignore',\n",
    "        suppress_warnings=True,\n",
    "        trace=False\n",
    "    )\n",
    "\n",
    "    # Forecast\n",
    "    forecast = model.predict(n_periods=forecast_horizon)\n",
    "\n",
    "    # RMSE computation\n",
    "    rmse_results = {}\n",
    "    for n in [6, 12, 24, 72]:\n",
    "        if len(labels) >= n:\n",
    "            rmse = np.sqrt(mean_squared_error(labels[:n], forecast[:n]))\n",
    "            rmse_results[f'rmse@{n}'] = rmse\n",
    "        else:\n",
    "            rmse_results[f'rmse@{n}'] = None  # Not enough labels\n",
    "\n",
    "    results = {}\n",
    "    # results['rmse_results'] = rmse_results\n",
    "    results['forecast'] = forecast.tolist()\n",
    "    # results['labels'] = labels.tolist()\n",
    "    # results['series'] = series.tolist()\n",
    "    results.update(rmse_results)\n",
    "    return results"
   ]
  },
  {
   "cell_type": "code",
   "execution_count": null,
   "metadata": {},
   "outputs": [],
   "source": [
    "dataset = Name_to_Data['test-id']['ds_tfm']\n",
    "dataset"
   ]
  },
  {
   "cell_type": "code",
   "execution_count": null,
   "metadata": {},
   "outputs": [],
   "source": [
    "df = dataset.to_pandas()\n",
    "df"
   ]
  },
  {
   "cell_type": "code",
   "execution_count": null,
   "metadata": {},
   "outputs": [],
   "source": [
    "x = df.iloc[0]['input_ids']\n",
    "\n",
    "def get_mode_stats(arr):\n",
    "    \"\"\"\n",
    "    Calculate the mode and its percentage in an array.\n",
    "    \n",
    "    Args:\n",
    "        arr: Array-like object\n",
    "        \n",
    "    Returns:\n",
    "        dict: Dictionary containing mode value, count, and percentage\n",
    "    \"\"\"\n",
    "    from scipy import stats\n",
    "    mode_result = stats.mode(arr)\n",
    "    mode_value = mode_result.mode# [0]\n",
    "    mode_count = mode_result.count# [0]\n",
    "    mode_percentage = (mode_count / len(arr))\n",
    "    \n",
    "    return mode_percentage\n",
    "\n",
    "\n",
    "mode_percentage = get_mode_stats(x)\n",
    "mode_percentage\n",
    "# x\n"
   ]
  },
  {
   "cell_type": "code",
   "execution_count": null,
   "metadata": {},
   "outputs": [],
   "source": [
    "s = df['input_ids'].apply(lambda x: get_mode_stats(x))\n",
    "s"
   ]
  },
  {
   "cell_type": "code",
   "execution_count": null,
   "metadata": {},
   "outputs": [],
   "source": [
    "df[s == 1]"
   ]
  },
  {
   "cell_type": "code",
   "execution_count": null,
   "metadata": {},
   "outputs": [],
   "source": [
    "dataset = Name_to_Data['test-od']['ds_tfm']\n",
    "dataset = dataset.shuffle(seed=42).select(range(100))\n",
    "dataset = dataset.map(arima_forecast_with_rmse, num_proc=10)\n",
    "dataset"
   ]
  },
  {
   "cell_type": "code",
   "execution_count": null,
   "metadata": {},
   "outputs": [],
   "source": [
    "df = dataset.to_pandas()\n",
    "df[['rmse@6', 'rmse@12', 'rmse@24', 'rmse@72']].describe()"
   ]
  },
  {
   "cell_type": "code",
   "execution_count": null,
   "metadata": {},
   "outputs": [],
   "source": [
    "import matplotlib.pyplot as plt\n",
    "import numpy as np\n",
    "\n",
    "def plot_forecast(input_ids, labels, predicted_values, title=\"ARIMA Forecast vs Ground Truth\"):\n",
    "    forecast_horizon = len(predicted_values)\n",
    "\n",
    "    plt.figure(figsize=(12, 5))\n",
    "\n",
    "    # Plot historical series\n",
    "    plt.plot(input_ids, label='Historical', color='blue')\n",
    "\n",
    "    # Plot forecasted values\n",
    "    plt.plot(\n",
    "        range(len(input_ids), len(input_ids) + forecast_horizon), \n",
    "        predicted_values, \n",
    "        label='Forecast', \n",
    "        color='red'\n",
    "    )\n",
    "\n",
    "    # Plot ground truth labels\n",
    "    plt.plot(\n",
    "        range(len(input_ids), len(input_ids) + len(labels)), \n",
    "        labels, \n",
    "        label='Ground Truth (Labels)', \n",
    "        color='green', \n",
    "        linestyle='dashed'\n",
    "    )\n",
    "\n",
    "    plt.title(title)\n",
    "    plt.xlabel(\"Time Step\")\n",
    "    plt.ylabel(\"Value\")\n",
    "    plt.legend()\n",
    "    plt.grid(True)\n",
    "    plt.tight_layout()\n",
    "    plt.show()\n",
    "    \n",
    "# plot_forecast(results['series'], results['labels'], results['forecast'])"
   ]
  },
  {
   "cell_type": "code",
   "execution_count": null,
   "metadata": {},
   "outputs": [],
   "source": []
  }
 ],
 "metadata": {
  "language_info": {
   "name": "python"
  }
 },
 "nbformat": 4,
 "nbformat_minor": 2
}