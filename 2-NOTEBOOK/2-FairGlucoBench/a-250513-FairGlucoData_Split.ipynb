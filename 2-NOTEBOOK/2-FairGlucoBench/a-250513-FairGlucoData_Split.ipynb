{
 "cells": [
  {
   "cell_type": "code",
   "execution_count": null,
   "metadata": {},
   "outputs": [],
   "source": [
    "import sys\n",
    "import os\n",
    "import logging\n",
    "import pandas as pd\n",
    "import datasets\n",
    "from pprint import pprint\n",
    "KEY = '2-NOTEBOOK'\n",
    "WORKSPACE_PATH = os.getcwd().split(KEY)[0]\n",
    "print(WORKSPACE_PATH); os.chdir(WORKSPACE_PATH)\n",
    "logger = logging.getLogger(__name__)\n",
    "logging.basicConfig(level=logging.INFO, format='[%(levelname)s:%(asctime)s:(%(filename)s@%(lineno)d %(name)s)]: %(message)s')\n",
    "\n",
    "SPACE = {\n",
    "    'DATA_RAW': f'_Data/0-Data_Raw',\n",
    "    'DATA_RFT': f'_Data/1-Data_RFT',\n",
    "    'DATA_CASE': f'_Data/2-Data_CASE',\n",
    "    'DATA_AIDATA': f'_Data/3-Data_AIDATA',\n",
    "    'DATA_EXTERNAL': f'code/external',\n",
    "    'CODE_FN': f'code/pipeline',\n",
    "    'MODEL_ROOT': f'./_Model',\n",
    "}\n",
    "assert os.path.exists(SPACE['CODE_FN']), f'{SPACE[\"CODE_FN\"]} not found'\n",
    "print(SPACE['CODE_FN'])\n",
    "sys.path.append(SPACE['CODE_FN'])"
   ]
  },
  {
   "cell_type": "code",
   "execution_count": null,
   "metadata": {},
   "outputs": [],
   "source": [
    "# 2021-12-03:00:00 before 24h. \n",
    "# 2021-12-03:00:00"
   ]
  },
  {
   "cell_type": "code",
   "execution_count": null,
   "metadata": {},
   "outputs": [],
   "source": [
    "DATA_SPLIT = '_Data/4-Data_Split'\n",
    "path = os.path.join(DATA_SPLIT, 'WellDoc_full.parquet')\n",
    "df_case_all = pd.read_parquet(path)\n",
    "# df_case_all\n",
    "# df_case_all['hour'] = df_case_all['ObsDT'].dt.hour\n",
    "\n",
    "idx = df_case_all['ObsDT'].dt.minute == 0\n",
    "df_case_hours = df_case_all[idx].reset_index(drop = True)\n",
    "# df_case_hours\n",
    "\n",
    "df_case = df_case_hours\n",
    "\n",
    "idx1 = df_case['CGMInfoBf24h-Num-RecNum'] >= 289\n",
    "idx2 = df_case['CGMInfoAf2h-Num-RecNum'] >= 24\n",
    "idx3 = df_case['CGMInfoAf2to8h-Num-RecNum'] >= 12 * 6\n",
    "df_case_good = df_case[idx1 & idx2 & idx3].reset_index(drop = True)"
   ]
  },
  {
   "cell_type": "code",
   "execution_count": null,
   "metadata": {},
   "outputs": [],
   "source": [
    "df_patday_all =df_case_good[['PID', 'Date']].value_counts().sort_index().reset_index()"
   ]
  },
  {
   "cell_type": "code",
   "execution_count": null,
   "metadata": {},
   "outputs": [],
   "source": [
    "import pandas as pd\n",
    "DATA_SPLIT = '_Data/4-Data_Split'\n",
    "path = os.path.join(DATA_SPLIT, 'WellDoc_patient_split_info.parquet')\n",
    "df_patient_info = pd.read_parquet(path)\n",
    "df_patient_info"
   ]
  },
  {
   "cell_type": "code",
   "execution_count": null,
   "metadata": {},
   "outputs": [],
   "source": [
    "idx1 = df_patient_info['n_early_days'] >= 15\n",
    "idx2 = df_patient_info['n_middle_days'] >= 2\n",
    "idx3 = df_patient_info['n_late_days'] >= 3\n",
    "\n",
    "idx4 = df_patient_info['split'] != 'unassigned'\n",
    "\n",
    "print(df_patient_info.shape)\n",
    "df_patient_selected = df_patient_info[idx1 & idx2 & idx3 & idx4].reset_index(drop = True)\n",
    "print(df_patient_selected.shape)\n",
    "df_patient_selected"
   ]
  },
  {
   "cell_type": "code",
   "execution_count": null,
   "metadata": {},
   "outputs": [],
   "source": [
    "df_case_good.shape\n",
    "\n",
    "# df_case_good"
   ]
  },
  {
   "cell_type": "code",
   "execution_count": null,
   "metadata": {},
   "outputs": [],
   "source": [
    "df_patient_selected.columns"
   ]
  },
  {
   "cell_type": "code",
   "execution_count": null,
   "metadata": {},
   "outputs": [],
   "source": [
    "df_patient_stratum = df_patient_selected[['PID', 'split', 'stratum', 'middle_first_date','late_first_date']]\n",
    "# df_with_stratum = pd.merge(results['df'], patient_stratum, on='PID', how='left')\n",
    "\n",
    "df_patient_stratum = df_patient_stratum.reset_index(drop = True)\n",
    "df_patient_stratum['middle_first_date'] = pd.to_datetime(df_patient_stratum['middle_first_date'])\n",
    "df_patient_stratum['late_first_date'] = pd.to_datetime(df_patient_stratum['late_first_date'])\n",
    "# df_patday_all "
   ]
  },
  {
   "cell_type": "code",
   "execution_count": null,
   "metadata": {},
   "outputs": [],
   "source": [
    "df_patday_all =df_case_good[['PID', 'Date']].value_counts().sort_index().reset_index()\n",
    "\n",
    "idx = df_patday_all['count'] >= 24\n",
    "print(df_patday_all.shape)\n",
    "df_patday_good = df_patday_all[idx].reset_index(drop = True)\n",
    "print(df_patday_good.shape)\n",
    "df_patday_good = pd.merge(df_patday_good, df_patient_stratum, on='PID')\n",
    "print(df_patday_good.shape)\n",
    "df_patday_good['Date'] = pd.to_datetime(df_patday_good['Date'])\n",
    "df_patday_good"
   ]
  },
  {
   "cell_type": "code",
   "execution_count": null,
   "metadata": {},
   "outputs": [],
   "source": [
    "def get_early_middle_late_label(row):\n",
    "\n",
    "    if row['Date'] >= row['middle_first_date'] and row['Date'] < row['late_first_date']:\n",
    "        return 'middle'\n",
    "    elif row['Date'] >= row['late_first_date']:\n",
    "        return 'late'\n",
    "    else:\n",
    "        return 'early'\n",
    "\n",
    "df_patday_good['time_bin'] = df_patday_good.apply(get_early_middle_late_label, axis=1)\n",
    "df_patday_good['time_bin'].value_counts().sort_index()\n",
    "\n",
    "# df_patday_good['label'].value_counts().sort_index()\n"
   ]
  },
  {
   "cell_type": "code",
   "execution_count": null,
   "metadata": {},
   "outputs": [],
   "source": [
    "df_with_stratum = df_patday_good"
   ]
  },
  {
   "cell_type": "code",
   "execution_count": null,
   "metadata": {},
   "outputs": [],
   "source": [
    "stratum_list = df_with_stratum['stratum'].unique()\n",
    "\n",
    "stratum_stats = df_with_stratum.groupby('stratum').agg({\n",
    "    'PID': ['nunique', 'count']\n",
    "}).reset_index()\n",
    "stratum_stats.columns = ['stratum', 'n_patients', 'n_days']\n",
    "\n",
    "stratum_stats"
   ]
  },
  {
   "cell_type": "code",
   "execution_count": null,
   "metadata": {},
   "outputs": [],
   "source": [
    "insufficient_strata = stratum_stats[\n",
    "    (stratum_stats['n_patients'] < 13) | \n",
    "    (stratum_stats['n_days'] < 400)\n",
    "]\n",
    "\n",
    "if len(insufficient_strata) > 0:\n",
    "    print(\"WARNING: The following strata have insufficient data:\")\n",
    "    print(insufficient_strata)\n",
    "    raise ValueError(\"Some strata have insufficient patients or days\")\n"
   ]
  },
  {
   "cell_type": "code",
   "execution_count": null,
   "metadata": {},
   "outputs": [],
   "source": [
    "df_with_stratum"
   ]
  },
  {
   "cell_type": "code",
   "execution_count": null,
   "metadata": {},
   "outputs": [],
   "source": [
    "df_patient_selected[['stratum', 'split']].value_counts().sort_index().reset_index()"
   ]
  },
  {
   "cell_type": "code",
   "execution_count": null,
   "metadata": {},
   "outputs": [],
   "source": [
    "#  ------------ Process each stratum ------------\n",
    "\n",
    "final_df = pd.DataFrame()\n",
    "\n",
    "\n",
    "mini_set_day_info = {\n",
    "    'train': {'total': 10, 'early': 15, 'middle': 2, 'late': 3},\n",
    "    'val':   {'total': 2,  'early': 15, 'middle': 2, 'late': 3},\n",
    "    'test':  {'total': 3,  'early': 0, 'middle': 0, 'late': 0, 'recent': 10}\n",
    "}\n",
    "\n",
    "for stratum in stratum_list:\n",
    "    # print(f\"Processing stratum: {stratum}\")\n",
    "    df_one_group = df_with_stratum[df_with_stratum['stratum'] == stratum].copy()\n",
    "\n",
    "    # Initialize final collection\n",
    "    final_rows = []\n",
    "\n",
    "    # Split by 'train', 'val', 'test'\n",
    "    split_group = df_one_group.groupby(df_one_group['split'].str.split('-').str[0])\n",
    "\n",
    "    for split_name, group_df in split_group:\n",
    "        if split_name not in ['train', 'val', 'test']:\n",
    "            continue\n",
    "        # print(f\"Processing split: {split_name} ({len(group_df)} rows)\")\n",
    "        split_info = mini_set_day_info[split_name]\n",
    "\n",
    "        # Shuffle PIDs\n",
    "        pids = group_df['PID'].unique()\n",
    "        shuffled_pids = pd.Series(pids).sample(frac=1, random_state=42).tolist()\n",
    "\n",
    "        selected_count = 0\n",
    "        for pid in shuffled_pids:\n",
    "            patient_df = group_df[group_df['PID'] == pid].sort_values('Date')\n",
    "            counts = patient_df['time_bin'].value_counts()\n",
    "\n",
    "            # --- Train & Val logic ---\n",
    "            if split_name in ['train', 'val']:\n",
    "                if (counts.get('early', 0) >= split_info['early'] and\n",
    "                    counts.get('middle', 0) >= split_info['middle'] and\n",
    "                    counts.get('late', 0) >= split_info['late']):\n",
    "                    \n",
    "                    subset = pd.concat([\n",
    "                        patient_df[patient_df['time_bin'] == 'early'].tail(split_info['early']),\n",
    "                        patient_df[patient_df['time_bin'] == 'middle'].head(split_info['middle']),\n",
    "                        patient_df[patient_df['time_bin'] == 'late'].head(split_info['late']),\n",
    "                    ])\n",
    "                    subset['split_timebin'] = f\"{split_name}-\" + subset['time_bin']\n",
    "                    final_rows.append(subset[['PID', 'Date', 'stratum', 'split_timebin']])\n",
    "                    selected_count += 1\n",
    "\n",
    "            # --- Test logic ---\n",
    "            elif split_name == 'test':\n",
    "                if len(patient_df) >= split_info['recent']:\n",
    "                    subset = patient_df.tail(split_info['recent']).copy()\n",
    "                    subset['split_timebin'] = f\"{split_name}-recent\"\n",
    "                    final_rows.append(subset[['PID', 'Date', 'stratum', 'split_timebin']])\n",
    "                    selected_count += 1\n",
    "\n",
    "            if selected_count == split_info['total']:\n",
    "                break\n",
    "\n",
    "    # Final result\n",
    "    stratum_final_df = pd.concat(final_rows).reset_index(drop=True)\n",
    "    final_df = pd.concat([final_df, stratum_final_df])\n",
    "\n",
    "\n",
    "final_df"
   ]
  },
  {
   "cell_type": "code",
   "execution_count": null,
   "metadata": {},
   "outputs": [],
   "source": [
    "final_df[['split_timebin']].value_counts().sort_index().reset_index()"
   ]
  },
  {
   "cell_type": "code",
   "execution_count": null,
   "metadata": {},
   "outputs": [],
   "source": [
    "len(final_df) / 12 "
   ]
  },
  {
   "cell_type": "code",
   "execution_count": null,
   "metadata": {},
   "outputs": [],
   "source": [
    "final_df"
   ]
  },
  {
   "cell_type": "code",
   "execution_count": null,
   "metadata": {},
   "outputs": [],
   "source": [
    "15 * 12"
   ]
  },
  {
   "cell_type": "code",
   "execution_count": null,
   "metadata": {},
   "outputs": [],
   "source": [
    "df_case_good.head()"
   ]
  },
  {
   "cell_type": "code",
   "execution_count": null,
   "metadata": {},
   "outputs": [],
   "source": [
    "df_case_good['Date'] = pd.to_datetime(df_case_good['Date'])\n",
    "\n",
    "df_case_fairglucose = pd.merge(df_case_good, final_df, on = ['PID', 'Date'])\n",
    "\n",
    "len(df_case_fairglucose) / len(final_df)"
   ]
  },
  {
   "cell_type": "code",
   "execution_count": null,
   "metadata": {},
   "outputs": [],
   "source": [
    "df_case_fairglucose"
   ]
  },
  {
   "cell_type": "code",
   "execution_count": null,
   "metadata": {},
   "outputs": [],
   "source": [
    "path = os.path.join(DATA_SPLIT, 'WellDoc_ds_case_fairglucose_split.parquet')\n",
    "\n",
    "\n",
    "df_case_fairglucose.to_parquet(path)"
   ]
  },
  {
   "cell_type": "code",
   "execution_count": null,
   "metadata": {},
   "outputs": [],
   "source": [
    "df_count = df_case_fairglucose[['stratum', 'split_timebin']].value_counts().sort_index().reset_index()\n",
    "df_table = df_count.pivot(index = 'stratum', columns = 'split_timebin', values = 'count').fillna(0)\n",
    "\n",
    "\n",
    "cols = [ 'train-early', 'train-middle', 'train-late', 'val-early', 'val-middle', 'val-late', 'test-recent']\n",
    "\n",
    "df_table = df_table[cols]\n",
    "df_table"
   ]
  },
  {
   "cell_type": "code",
   "execution_count": null,
   "metadata": {},
   "outputs": [],
   "source": []
  }
 ],
 "metadata": {
  "language_info": {
   "name": "python"
  }
 },
 "nbformat": 4,
 "nbformat_minor": 2
}