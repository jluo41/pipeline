{
 "cells": [
  {
   "cell_type": "code",
   "execution_count": null,
   "metadata": {},
   "outputs": [],
   "source": [
    "import sys\n",
    "import os\n",
    "import logging\n",
    "import pandas as pd\n",
    "import datasets\n",
    "from pprint import pprint\n",
    "KEY = '2-NOTEBOOK'\n",
    "WORKSPACE_PATH = os.getcwd().split(KEY)[0]\n",
    "print(WORKSPACE_PATH); os.chdir(WORKSPACE_PATH)\n",
    "logger = logging.getLogger(__name__)\n",
    "logging.basicConfig(level=logging.INFO, format='[%(levelname)s:%(asctime)s:(%(filename)s@%(lineno)d %(name)s)]: %(message)s')\n",
    "\n",
    "SPACE = {\n",
    "    'DATA_RAW': f'_Data/0-Data_Raw',\n",
    "    'DATA_RFT': f'_Data/1-Data_RFT',\n",
    "    'DATA_CASE': f'_Data/2-Data_CASE',\n",
    "    'DATA_AIDATA': f'_Data/3-Data_AIDATA',\n",
    "    'DATA_EXTERNAL': f'code/external',\n",
    "    'DATA_HFDATA': f'_Data/5-Data_HFData',\n",
    "    'CODE_FN': f'code/pipeline',\n",
    "    'MODEL_ROOT': f'./_Model',\n",
    "}\n",
    "assert os.path.exists(SPACE['CODE_FN']), f'{SPACE[\"CODE_FN\"]} not found'\n",
    "print(SPACE['CODE_FN'])\n",
    "sys.path.append(SPACE['CODE_FN'])\n",
    "\n",
    "os.environ[\"CUDA_VISIBLE_DEVICES\"]=\"0\""
   ]
  },
  {
   "cell_type": "markdown",
   "metadata": {},
   "source": [
    "# AIData - MaskedLM"
   ]
  },
  {
   "cell_type": "code",
   "execution_count": null,
   "metadata": {},
   "outputs": [],
   "source": [
    "from recfldtkn.aidata_base.entry import EntryAIData_Builder\n",
    "\n",
    "OneAIDataName = 'PreTrainBench'\n",
    "Task = 'CausalLM'\n",
    "Version = 'v0515'\n",
    "DataName = f'{OneAIDataName}-{Task}-{Version}'\n",
    "\n",
    "CF_DataName = 'PreTrainBench-CGM5MinEntry-1ea9d787eef20fb7'\n",
    "CohortName_list = ['WellDoc2022CGM', 'WellDoc2025ALS', 'WellDoc2025CVS', 'WellDoc2025LLY']\n",
    "CF_DataName_list = [f'{i}/{CF_DataName}' for i in CohortName_list]\n",
    "entry = EntryAIData_Builder(SPACE=SPACE)\n",
    "dataset = entry.merge_one_cf_dataset(CF_DataName_list)"
   ]
  },
  {
   "cell_type": "code",
   "execution_count": null,
   "metadata": {},
   "outputs": [],
   "source": [
    "dataset"
   ]
  },
  {
   "cell_type": "code",
   "execution_count": null,
   "metadata": {},
   "outputs": [],
   "source": [
    "data_config = dataset.info.config_name \n",
    "CF_to_CFvocab = data_config['CF_to_CFvocab']\n",
    "\n",
    "CFName = 'HM5MinStep'\n",
    "interval_delta = pd.Timedelta(minutes=5)\n",
    "idx2tkn = [pd.Timestamp('2022-01-01 00:00:00') + interval_delta * i for i in range(24 * 12)]\n",
    "idx2tkn = [f'{i.hour:02d}:{i.minute:02d}' for i in idx2tkn]\n",
    "tkn2idx = {tkn: idx for idx, tkn in enumerate(idx2tkn)}\n",
    "CF_to_CFvocab = data_config['CF_to_CFvocab']\n",
    "CF_to_CFvocab[CFName] = {'idx2tkn': idx2tkn, 'tkn2idx': tkn2idx}\n",
    "\n",
    "CFName = 'CGMValue'\n",
    "idx2tkn = [\"PAD\", \"UNKNOWN\", \"MASK\"] + [f'Other_{i}' for i in range(0, 7)] + [str(i) for i in range(10, 401)]\n",
    "tkn2idx = {tkn: idx for idx, tkn in enumerate(idx2tkn)}\n",
    "CF_to_CFvocab[CFName] = {'idx2tkn': idx2tkn, 'tkn2idx': tkn2idx}\n",
    "\n",
    "print([i for i in CF_to_CFvocab])"
   ]
  },
  {
   "cell_type": "code",
   "execution_count": null,
   "metadata": {},
   "outputs": [],
   "source": [
    "OneEntryArgs = {\n",
    "    # ----------------- Input Part -----------------\n",
    "    'Split_Part': {}, # set to empty dict to avoid split\n",
    "    'Input_Part': {\n",
    "        'EntryInputMethod': '1TknInStepWt5MinHM',\n",
    "        'CF_list': [\n",
    "            'CGMValueBf24h',\n",
    "            'CGMValueAf2h',\n",
    "            'CGMValueAf2to8h',\n",
    "        ],\n",
    "        'BeforePeriods': ['Bf24h'],\n",
    "        'AfterPeriods': ['Af2h', 'Af2to8h'],\n",
    "        'TimeIndex': True, \n",
    "        'InferenceMode': False, # True, # True, # False, # True, \n",
    "        'TargetField': 'CGMValue',\n",
    "        'TargetRange': [40, 400],\n",
    "        # 'HM': None, \n",
    "        'HM': {'start': -24, 'unit': 'h', 'interval': '5m'},\n",
    "    }, \n",
    "    'Output_Part': {\n",
    "        'EntryOutputMethod': 'CausalLM',\n",
    "        'selected_columns': ['input_ids', 'hm_ids', 'labels', 'split_timebin', 'stratum'],\n",
    "        'set_transform': False,\n",
    "        'num_proc': 12, \n",
    "    },\n",
    "}\n",
    "\n",
    "entry = EntryAIData_Builder(OneEntryArgs=OneEntryArgs, SPACE=SPACE)\n",
    "entry.CF_to_CFvocab = CF_to_CFvocab"
   ]
  },
  {
   "cell_type": "code",
   "execution_count": null,
   "metadata": {},
   "outputs": [],
   "source": [
    "ds = dataset.select(range(10))\n",
    "Data = {'ds_case': ds}\n",
    "Data = entry.setup_EntryFn_to_Data(Data, CF_to_CFvocab)\n",
    "df = Data['ds_tfm'].to_pandas()\n",
    "df.iloc[1]"
   ]
  },
  {
   "cell_type": "code",
   "execution_count": null,
   "metadata": {},
   "outputs": [],
   "source": [
    "ds = dataset#.select(range(10))\n",
    "Data = {'ds_case': ds}\n",
    "Data = entry.setup_EntryFn_to_Data(Data, CF_to_CFvocab)"
   ]
  },
  {
   "cell_type": "code",
   "execution_count": null,
   "metadata": {},
   "outputs": [],
   "source": [
    "path = os.path.join(SPACE['DATA_HFDATA'], f'{DataName}')\n",
    "print(path)\n",
    "ds_tfm = Data['ds_tfm']\n",
    "ds_tfm.save_to_disk(path)"
   ]
  }
 ],
 "metadata": {
  "language_info": {
   "name": "python"
  }
 },
 "nbformat": 4,
 "nbformat_minor": 2
}