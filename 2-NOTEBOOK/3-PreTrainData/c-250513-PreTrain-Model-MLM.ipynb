{
 "cells": [
  {
   "cell_type": "code",
   "execution_count": null,
   "metadata": {},
   "outputs": [],
   "source": [
    "import sys\n",
    "import os\n",
    "import logging\n",
    "import pandas as pd\n",
    "import datasets\n",
    "from pprint import pprint\n",
    "KEY = '2-NOTEBOOK'\n",
    "WORKSPACE_PATH = os.getcwd().split(KEY)[0]\n",
    "print(WORKSPACE_PATH); os.chdir(WORKSPACE_PATH)\n",
    "logger = logging.getLogger(__name__)\n",
    "logging.basicConfig(level=logging.INFO, format='[%(levelname)s:%(asctime)s:(%(filename)s@%(lineno)d %(name)s)]: %(message)s')\n",
    "\n",
    "SPACE = {\n",
    "    'DATA_RAW': f'_Data/0-Data_Raw',\n",
    "    'DATA_RFT': f'_Data/1-Data_RFT',\n",
    "    'DATA_CASE': f'_Data/2-Data_CASE',\n",
    "    'DATA_AIDATA': f'_Data/3-Data_AIDATA',\n",
    "    'DATA_EXTERNAL': f'code/external',\n",
    "    'DATA_HFDATA': f'_Data/5-Data_HFData',\n",
    "    'CODE_FN': f'code/pipeline',\n",
    "    'MODEL_ROOT': f'./_Model',\n",
    "}\n",
    "assert os.path.exists(SPACE['CODE_FN']), f'{SPACE[\"CODE_FN\"]} not found'\n",
    "print(SPACE['CODE_FN'])\n",
    "sys.path.append(SPACE['CODE_FN'])\n",
    "\n",
    "os.environ[\"CUDA_VISIBLE_DEVICES\"]=\"1\""
   ]
  },
  {
   "cell_type": "markdown",
   "metadata": {},
   "source": [
    "# AI Data"
   ]
  },
  {
   "cell_type": "code",
   "execution_count": null,
   "metadata": {},
   "outputs": [],
   "source": [
    "HFDataName = 'PreTrainBench-MaskedLM-Split-v0515'\n",
    "path = os.path.join(SPACE['DATA_HFDATA'], HFDataName)\n",
    "split_to_dataset = datasets.load_from_disk(path)\n",
    "remove_unused_columns = True # if using the processed dataset, set to True. \n",
    "print(split_to_dataset)\n",
    "Name_to_Data = {i: {'ds_tfm': split_to_dataset[i]} for i in split_to_dataset}\n"
   ]
  },
  {
   "cell_type": "code",
   "execution_count": null,
   "metadata": {},
   "outputs": [],
   "source": [
    "data_config = {}\n",
    "CF_to_CFvocab = {}\n",
    "data_config['CF_to_CFvocab'] = CF_to_CFvocab\n",
    "\n",
    "CFName = 'HM5MinStep'\n",
    "interval_delta = pd.Timedelta(minutes=5)\n",
    "idx2tkn = [pd.Timestamp('2022-01-01 00:00:00') + interval_delta * i for i in range(24 * 12)]\n",
    "idx2tkn = [f'{i.hour:02d}:{i.minute:02d}' for i in idx2tkn]\n",
    "tkn2idx = {tkn: idx for idx, tkn in enumerate(idx2tkn)}\n",
    "CF_to_CFvocab = data_config['CF_to_CFvocab']\n",
    "CF_to_CFvocab[CFName] = {'idx2tkn': idx2tkn, 'tkn2idx': tkn2idx}"
   ]
  },
  {
   "cell_type": "code",
   "execution_count": null,
   "metadata": {},
   "outputs": [],
   "source": [
    "CFName = 'CGMValue'\n",
    "idx2tkn = [\"PAD\", \"UNKNOWN\", \"MASK\"] + [f'Other_{i}' for i in range(0, 7)] + [str(i) for i in range(10, 401)]\n",
    "tkn2idx = {tkn: idx for idx, tkn in enumerate(idx2tkn)}\n",
    "CF_to_CFvocab[CFName] = {'idx2tkn': idx2tkn, 'tkn2idx': tkn2idx}"
   ]
  },
  {
   "cell_type": "markdown",
   "metadata": {},
   "source": [
    "# Config"
   ]
  },
  {
   "cell_type": "code",
   "execution_count": null,
   "metadata": {},
   "outputs": [],
   "source": [
    "from tokenizers import Tokenizer\n",
    "from tokenizers.models import WordLevel\n",
    "from tokenizers.pre_tokenizers import Whitespace\n",
    "from transformers import PreTrainedTokenizerFast\n",
    "from transformers import RobertaConfig, RobertaForSequenceClassification, Trainer, TrainingArguments, PreTrainedTokenizerFast\n",
    "import torch\n",
    "\n",
    "\n",
    "# Step 1: Create a vocab dict\n",
    "# print(len(idx2tkn))\n",
    "# print(idx2tkn[400])\n",
    "\n",
    "idx2tkn = CF_to_CFvocab['CGMValue']['idx2tkn']\n",
    "vocab_dict = {token: idx for idx, token in enumerate(idx2tkn)}\n",
    "\n",
    "# Step 2: Build a WordLevel tokenizer from vocab\n",
    "wordlevel = WordLevel(vocab=vocab_dict, unk_token=\"UNKNOWN\")\n",
    "tokenizer_backend = Tokenizer(wordlevel)\n",
    "tokenizer_backend.pre_tokenizer = Whitespace()  # Simple whitespace split\n",
    "\n",
    "# Step 3: Save to disk (optional)\n",
    "# tokenizer_backend.save(\"tokenizer.json\")\n",
    "\n",
    "# Step 4: Wrap with Hugging Face's PreTrainedTokenizerFast\n",
    "tokenizer = PreTrainedTokenizerFast(\n",
    "    tokenizer_object=tokenizer_backend,\n",
    "    unk_token=\"UNKNOWN\",\n",
    "    pad_token=\"PAD\",\n",
    "    mask_token=\"MASK\"\n",
    ")\n",
    "\n",
    "# tokenizer.encode(\"PAD 11 42 MASK\")\n",
    "# num_labels = len([i for i in OneEntryArgs['Output_Part']['label_rule'] if i != -100])\n",
    "\n",
    "hm_idx2tkn = CF_to_CFvocab['HM5MinStep']['idx2tkn']"
   ]
  },
  {
   "cell_type": "code",
   "execution_count": null,
   "metadata": {},
   "outputs": [],
   "source": [
    "from transformers import RobertaConfig\n",
    "\n",
    "class RobertaWithHMConfig(RobertaConfig):\n",
    "    model_type = \"roberta\"       # keep HF happy\n",
    "\n",
    "    def __init__(self, hm_vocab_size=288, **kwargs):\n",
    "        super().__init__(**kwargs)\n",
    "        self.hm_vocab_size = hm_vocab_size\n",
    "\n",
    "config = RobertaWithHMConfig(\n",
    "    vocab_size=len(tokenizer),\n",
    "    # num_labels=num_labels,  # \u2190 Change this to match your task (e.g., 3 for multi-class)\n",
    "    hm_vocab_size = len(hm_idx2tkn)\n",
    ")\n",
    "\n",
    "config"
   ]
  },
  {
   "cell_type": "markdown",
   "metadata": {},
   "source": [
    "# Model"
   ]
  },
  {
   "cell_type": "code",
   "execution_count": null,
   "metadata": {},
   "outputs": [],
   "source": [
    "device = torch.device(\"cuda\" if torch.cuda.is_available() else \"cpu\")\n",
    "device"
   ]
  },
  {
   "cell_type": "code",
   "execution_count": null,
   "metadata": {},
   "outputs": [],
   "source": [
    "import torch\n",
    "from torch import nn\n",
    "from transformers import RobertaConfig, RobertaForSequenceClassification\n",
    "from transformers.models.roberta.modeling_roberta import SequenceClassifierOutput\n",
    "\n",
    "from nn.cgmencoder.modeling_cgmencoder import RobertaWithHMForMaskedLM"
   ]
  },
  {
   "cell_type": "code",
   "execution_count": null,
   "metadata": {},
   "outputs": [],
   "source": [
    "# Step 3: Initialize classification model\n",
    "model = RobertaWithHMForMaskedLM(config=config)\n",
    "model.to(device)"
   ]
  },
  {
   "cell_type": "code",
   "execution_count": null,
   "metadata": {},
   "outputs": [],
   "source": [
    "ds_tfm_train = Name_to_Data['train']['ds_tfm']\n",
    "batch = ds_tfm_train[:2]\n",
    "\n",
    "\n",
    "batch = {k: v for k, v in batch.items() if k in ['input_ids', 'hm_ids', 'labels']}\n",
    "\n",
    "pprint(batch, compact=True)\n",
    "\n",
    "batch = {k: torch.tensor(v, dtype=torch.long).to(device) for k, v in batch.items()}\n",
    "batch"
   ]
  },
  {
   "cell_type": "code",
   "execution_count": null,
   "metadata": {},
   "outputs": [],
   "source": [
    "model(**batch)"
   ]
  },
  {
   "cell_type": "markdown",
   "metadata": {},
   "source": [
    "# Train"
   ]
  },
  {
   "cell_type": "code",
   "execution_count": null,
   "metadata": {},
   "outputs": [],
   "source": [
    "[i for i in Name_to_Data]"
   ]
  },
  {
   "cell_type": "code",
   "execution_count": null,
   "metadata": {},
   "outputs": [],
   "source": [
    "from transformers import RobertaForSequenceClassification, RobertaConfig, Trainer, TrainingArguments\n",
    "from transformers import PreTrainedTokenizerFast\n",
    "import torch\n",
    "import numpy as np\n",
    "from sklearn.metrics import accuracy_score, precision_recall_fscore_support\n",
    "\n",
    "# Step 1: Define the compute_metrics function for masked language modeling\n",
    "def compute_metrics(pred):\n",
    "    logits, labels = pred\n",
    "    # For MLM, we only want to evaluate on the masked tokens (where labels != -100)\n",
    "    mask = labels != -100\n",
    "    \n",
    "    # Calculate loss on masked tokens only\n",
    "    loss_fct = torch.nn.CrossEntropyLoss()\n",
    "    masked_lm_loss = loss_fct(logits.view(-1, logits.size(-1))[mask.view(-1)], \n",
    "                             labels.view(-1)[mask.view(-1)])\n",
    "    \n",
    "    # Get predictions for masked tokens\n",
    "    predictions = torch.argmax(logits, dim=-1)\n",
    "    \n",
    "    # Calculate accuracy on masked tokens only\n",
    "    correct_preds = (predictions == labels) & mask\n",
    "    accuracy = correct_preds.sum().float() / mask.sum().float()\n",
    "    \n",
    "    # Calculate perplexity\n",
    "    perplexity = torch.exp(masked_lm_loss)\n",
    "    \n",
    "    return {\n",
    "        'masked_lm_loss': masked_lm_loss.item(),\n",
    "        'perplexity': perplexity.item(),\n",
    "        'accuracy': accuracy.item(),\n",
    "        'num_masked_tokens': mask.sum().item()\n",
    "    }\n",
    "\n",
    "\n",
    "# ---------------------- Training Arguments ----------------------\n",
    "model_name = \"roberta-cgm-mlm\"\n",
    "training_args = TrainingArguments(\n",
    "    output_dir=os.path.join(SPACE['MODEL_ROOT'], model_name),\n",
    "    num_train_epochs=3,\n",
    "    per_device_train_batch_size=32,\n",
    "    per_device_eval_batch_size=64,\n",
    "    evaluation_strategy=\"epoch\",\n",
    "    save_strategy=\"epoch\",\n",
    "    save_total_limit=2,\n",
    "    logging_steps=100,\n",
    "    load_best_model_at_end=True,\n",
    "    metric_for_best_model=\"valid_f1\",\n",
    "    greater_is_better=True,\n",
    "    remove_unused_columns=False,\n",
    "    dataloader_drop_last=True,\n",
    "    report_to=\"wandb\",  # <<--- wandb integration,\n",
    "    # eval_steps=1042,  # Number of datapoints used in evaluation set\n",
    ")\n",
    "\n",
    "\n",
    "eval_set_size = 1042\n",
    "random_seed = 42\n",
    "ds_tfm_train  = Name_to_Data['train']['ds_tfm']\n",
    "ds_tfm_valid  = Name_to_Data['valid']['ds_tfm'].shuffle(seed=random_seed).select(range(eval_set_size))\n",
    "ds_tfm_testid = Name_to_Data['test-id']['ds_tfm'].shuffle(seed=random_seed).select(range(eval_set_size))\n",
    "ds_tfm_testod = Name_to_Data['test-od']['ds_tfm'].shuffle(seed=random_seed).select(range(eval_set_size))\n",
    "\n",
    "\n",
    "eval_dict = {\n",
    "    'valid': ds_tfm_valid,\n",
    "    'test-id': ds_tfm_testid,\n",
    "    'test-od': ds_tfm_testod,\n",
    "}\n",
    "\n",
    "# Step 3: Set up Trainer with eval_dataset and metrics\n",
    "trainer = Trainer(\n",
    "    model=model,\n",
    "    args=training_args,\n",
    "    train_dataset=ds_tfm_train,        # your training set\n",
    "    eval_dataset=eval_dict,        # your validation set (needs same format)\n",
    "    # data_collator=data_collator,\n",
    "    tokenizer=tokenizer,\n",
    "    compute_metrics=compute_metrics,\n",
    ")\n",
    "\n",
    "# Step 7: Train\n",
    "trainer.train()"
   ]
  },
  {
   "cell_type": "code",
   "execution_count": null,
   "metadata": {},
   "outputs": [],
   "source": []
  },
  {
   "cell_type": "code",
   "execution_count": null,
   "metadata": {},
   "outputs": [],
   "source": []
  }
 ],
 "metadata": {
  "language_info": {
   "name": "python"
  }
 },
 "nbformat": 4,
 "nbformat_minor": 2
}