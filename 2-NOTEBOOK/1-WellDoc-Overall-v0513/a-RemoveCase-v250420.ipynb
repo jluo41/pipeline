{
 "cells": [
  {
   "cell_type": "code",
   "execution_count": null,
   "metadata": {},
   "outputs": [],
   "source": [
    "import os \n",
    "import logging\n",
    "KEY = '2-NOTEBOOK'\n",
    "WORKSPACE_PATH = os.getcwd().split(KEY)[0]\n",
    "print(WORKSPACE_PATH); os.chdir(WORKSPACE_PATH)\n",
    "\n",
    "import sys\n",
    "sys.path.append(WORKSPACE_PATH)\n",
    "logger = logging.getLogger(__name__)\n",
    "logging.basicConfig(level=logging.INFO, format='[%(levelname)s:%(asctime)s:(%(filename)s@%(lineno)d %(name)s)]: %(message)s')"
   ]
  },
  {
   "cell_type": "code",
   "execution_count": null,
   "metadata": {},
   "outputs": [],
   "source": [
    "import os\n",
    "import shutil\n",
    "\n",
    "def delete_target_folders(root_dir, target_folder_name=\"cf.Bf24hRecDME5MinInfo\"):\n",
    "    deleted_paths = []\n",
    "    for dirpath, dirnames, filenames in os.walk(root_dir, topdown=False):\n",
    "        if target_folder_name in dirnames:\n",
    "            full_path = os.path.join(dirpath, target_folder_name)\n",
    "            try:\n",
    "                shutil.rmtree(full_path)\n",
    "                deleted_paths.append(full_path)\n",
    "                print(f\"Deleted: {full_path}\")\n",
    "            except Exception as e:\n",
    "                print(f\"Failed to delete {full_path}: {e}\")\n",
    "    return deleted_paths\n",
    "\n",
    "def delete_target_files(root_dir, target_file_name=\"TagCF.Bf24hRecDME5MinInfo.p\"):\n",
    "    deleted_paths = []\n",
    "    for dirpath, dirnames, filenames in os.walk(root_dir, topdown=False):\n",
    "        if target_file_name in filenames:\n",
    "            full_path = os.path.join(dirpath, target_file_name)\n",
    "            try:\n",
    "                os.remove(full_path)\n",
    "                deleted_paths.append(full_path)\n",
    "                print(f\"Deleted file: {full_path}\")\n",
    "            except Exception as e:\n",
    "                print(f\"Failed to delete file {full_path}: {e}\")\n",
    "    return deleted_paths\n",
    "\n",
    "# Example usage:\n",
    "# root_path = \"/your/path/to/WellDoc2025ALS\"\n",
    "\n",
    "# target_folder_name = \"cf.Bf24hRecDME5MinInfo\"\n",
    "# target_folder_name = 'cf.Af2hRecDME5MinInfo'"
   ]
  },
  {
   "cell_type": "code",
   "execution_count": null,
   "metadata": {},
   "outputs": [],
   "source": [
    "# root_path = '_Data/2-Data_CASE/WellDoc2025ALS'\n",
    "# root_path = '_Data/2-Data_CASE/WellDoc2025CVS'\n",
    "\n",
    "\n",
    "# root_path = '_Data/2-Data_CASE/WellDoc2022CGM'\n",
    "root_path = '_Data/2-Data_CASE/WellDoc2025LLY_1n3'\n",
    "# root_path = '_Data/2-Data_CASE/WellDoc2025LLY_2n3'\n",
    "# root_path = '_Data/2-Data_CASE/WellDoc2025LLY_3n3'\n",
    "\n",
    "\n",
    "folders = [\n",
    "    'CGMInfoBf24h',\n",
    "    'CGMInfoAf2h',\n",
    "    'CGMInfoAf2to8h'\n",
    "]\n",
    "\n",
    "\n",
    "files = [i.replace('cf.', 'TagCF.') + '.p' for i in folders]\n",
    "print(files)\n",
    "\n",
    "for target_folder_name in folders:\n",
    "    deleted = delete_target_folders(root_path, target_folder_name)\n",
    "\n",
    "for target_file_name in files:\n",
    "    deleted = delete_target_files(root_path, target_file_name)\n"
   ]
  },
  {
   "cell_type": "code",
   "execution_count": null,
   "metadata": {},
   "outputs": [],
   "source": [
    "\n",
    "# # root_path = '_Data/2-Data_CASE/WellDoc2022CGM'\n",
    "# root_path = '_Data/2-Data_CASE/WellDoc2025LLY'\n",
    "# folders = [\n",
    "#     # \"cf.Af2hCGMinfo\",\n",
    "#     # \"cf.Bf24hCGMinfo\",\n",
    "#     # \"cf.Af2hRecDME5MinInfo\",\n",
    "#     # \"cf.Bf24hRecDME5MinInfo\",\n",
    "\n",
    "#     \"cf.Bf5MinRecNum\",\n",
    "#     \"cf.Bf24hRec5MinInfo\",\n",
    "#     \"cf.Bf24hRecInfo\"\n",
    "# ]\n",
    "\n",
    "# files = [i.replace('cf.', 'TagCF.') + '.p' for i in folders]\n",
    "# print(files)\n",
    "\n",
    "# for target_folder_name in folders:\n",
    "#     deleted = delete_target_folders(root_path, target_folder_name)\n",
    "\n",
    "# for target_file_name in files:\n",
    "#     deleted = delete_target_files(root_path, target_file_name)\n"
   ]
  },
  {
   "cell_type": "code",
   "execution_count": null,
   "metadata": {},
   "outputs": [],
   "source": [
    "os.path.exists(root_path)"
   ]
  },
  {
   "cell_type": "code",
   "execution_count": null,
   "metadata": {},
   "outputs": [],
   "source": []
  }
 ],
 "metadata": {
  "language_info": {
   "name": "python"
  }
 },
 "nbformat": 4,
 "nbformat_minor": 2
}