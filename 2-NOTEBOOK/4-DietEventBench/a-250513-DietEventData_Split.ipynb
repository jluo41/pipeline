{
 "cells": [
  {
   "cell_type": "code",
   "execution_count": null,
   "metadata": {},
   "outputs": [],
   "source": [
    "import sys\n",
    "import os\n",
    "import logging\n",
    "import pandas as pd\n",
    "import datasets\n",
    "from pprint import pprint\n",
    "KEY = '2-NOTEBOOK'\n",
    "WORKSPACE_PATH = os.getcwd().split(KEY)[0]\n",
    "print(WORKSPACE_PATH); os.chdir(WORKSPACE_PATH)\n",
    "logger = logging.getLogger(__name__)\n",
    "logging.basicConfig(level=logging.INFO, format='[%(levelname)s:%(asctime)s:(%(filename)s@%(lineno)d %(name)s)]: %(message)s')\n",
    "\n",
    "SPACE = {\n",
    "    'DATA_RAW': f'_Data/0-Data_Raw',\n",
    "    'DATA_RFT': f'_Data/1-Data_RFT',\n",
    "    'DATA_CASE': f'_Data/2-Data_CASE',\n",
    "    'DATA_AIDATA': f'_Data/3-Data_AIDATA',\n",
    "    'DATA_EXTERNAL': f'code/external',\n",
    "    'CODE_FN': f'code/pipeline',\n",
    "    'MODEL_ROOT': f'./_Model',\n",
    "}\n",
    "assert os.path.exists(SPACE['CODE_FN']), f'{SPACE[\"CODE_FN\"]} not found'\n",
    "print(SPACE['CODE_FN'])\n",
    "sys.path.append(SPACE['CODE_FN'])"
   ]
  },
  {
   "cell_type": "code",
   "execution_count": null,
   "metadata": {},
   "outputs": [],
   "source": [
    "# 2021-12-03:00:00 before 24h. \n",
    "# 2021-12-03:00:00"
   ]
  },
  {
   "cell_type": "markdown",
   "metadata": {},
   "source": [
    "# df_case_good and df_patday_all"
   ]
  },
  {
   "cell_type": "code",
   "execution_count": null,
   "metadata": {},
   "outputs": [],
   "source": [
    "DATA_SPLIT = '_Data/4-Data_Split'\n",
    "path = os.path.join(DATA_SPLIT, 'WellDoc_full.parquet')\n",
    "df_case_all = pd.read_parquet(path)\n",
    "# df_case_all\n",
    "df_case_all['hour'] = df_case_all['ObsDT'].dt.hour\n",
    "\n",
    "idx = df_case_all['ObsDT'].dt.minute == 0\n",
    "df_case_hours = df_case_all[idx].reset_index(drop = True)\n",
    "# df_case_hours\n",
    "\n"
   ]
  },
  {
   "cell_type": "code",
   "execution_count": null,
   "metadata": {},
   "outputs": [],
   "source": [
    "df_case = df_case_hours\n",
    "\n",
    "print(df_case.shape)\n",
    "idx1 = df_case['CGMInfoBf24h-Num-RecNum'] >= 289\n",
    "idx2 = df_case['MEDInfoBf24h-DietLastToNow'] <= 60 * 12\n",
    "idx3 = df_case['MEDInfoBf24h-DietRecNum'] >= 1\n",
    "# idx3 = df_case['CGMInfoAf2to8h-Num-RecNum'] >= 12 * 6\n",
    "df_case_good = df_case[idx1 & idx2 & idx3].reset_index(drop = True)\n",
    "\n",
    "print(df_case_good.shape)"
   ]
  },
  {
   "cell_type": "code",
   "execution_count": null,
   "metadata": {},
   "outputs": [],
   "source": [
    "df_case_good.columns"
   ]
  },
  {
   "cell_type": "code",
   "execution_count": null,
   "metadata": {},
   "outputs": [],
   "source": [
    "print(df_case_good.shape)"
   ]
  },
  {
   "cell_type": "code",
   "execution_count": null,
   "metadata": {},
   "outputs": [],
   "source": [
    "# we use the df_patday_all to do the early, middle, late split\n",
    "\n",
    "df_patday_all =df_case_good[['PID', 'Date']].value_counts().sort_index().reset_index()\n",
    "df_patday_all"
   ]
  },
  {
   "cell_type": "markdown",
   "metadata": {},
   "source": [
    "# df_patient_info"
   ]
  },
  {
   "cell_type": "code",
   "execution_count": null,
   "metadata": {},
   "outputs": [],
   "source": [
    "import pandas as pd\n",
    "DATA_SPLIT = '_Data/4-Data_Split'\n",
    "path = os.path.join(DATA_SPLIT, 'WellDoc_patient_split_info.parquet')\n",
    "df_patient_info = pd.read_parquet(path)\n",
    "df_patient_info\n",
    "\n",
    "\n",
    "\n",
    "stratum_list = [\n",
    " '18-39_1_1.0',\n",
    " '18-39_1_2.0',\n",
    " '18-39_2_1.0',\n",
    " '18-39_2_2.0',\n",
    "\n",
    " '40-64_1_1.0',\n",
    " '40-64_1_2.0',\n",
    " '40-64_2_1.0',\n",
    " '40-64_2_2.0',\n",
    "\n",
    " '65+_1_1.0',\n",
    " '65+_1_2.0',\n",
    " '65+_2_1.0',\n",
    " '65+_2_2.0',\n",
    " ]\n",
    "\n",
    "\n",
    "print(df_patient_info.shape)\n",
    "\n",
    "idx = df_patient_info['stratum'].isin(stratum_list)\n",
    "\n",
    "\n",
    "df_patient_selected = df_patient_info[idx].reset_index(drop = True)# [idx1 & idx2 & idx3 & idx4].reset_index(drop = True)\n",
    "print(df_patient_selected.shape)\n",
    "df_patient_selected\n",
    "\n",
    "\n",
    "df_patient_stratum = df_patient_selected[['PID', 'split', 'stratum', 'middle_first_date','late_first_date']]\n",
    "# df_with_stratum = pd.merge(results['df'], patient_stratum, on='PID', how='left')\n",
    "\n",
    "df_patient_stratum = df_patient_stratum.reset_index(drop = True)\n",
    "df_patient_stratum['middle_first_date'] = pd.to_datetime(df_patient_stratum['middle_first_date'])\n",
    "df_patient_stratum['late_first_date'] = pd.to_datetime(df_patient_stratum['late_first_date'])\n",
    "# df_patday_all \n",
    "df_patient_stratum"
   ]
  },
  {
   "cell_type": "code",
   "execution_count": null,
   "metadata": {},
   "outputs": [],
   "source": [
    "df_patday_all =df_case_good[['PID', 'Date']].value_counts().sort_index().reset_index()\n",
    "\n",
    "# idx = df_patday_all['count'] >= 24\n",
    "# print(df_patday_all.shape)\n",
    "# df_patday_good = df_patday_all[idx].reset_index(drop = True)\n",
    "\n",
    "df_patday_good = df_patday_all\n",
    "print(df_patday_good.shape)\n",
    "df_patday_good = pd.merge(df_patday_good, df_patient_stratum, on='PID')\n",
    "print(df_patday_good.shape)\n",
    "df_patday_good['Date'] = pd.to_datetime(df_patday_good['Date'])\n",
    "df_patday_good"
   ]
  },
  {
   "cell_type": "code",
   "execution_count": null,
   "metadata": {},
   "outputs": [],
   "source": [
    "def get_early_middle_late_label(row):\n",
    "\n",
    "    if row['Date'] >= row['middle_first_date'] and row['Date'] < row['late_first_date']:\n",
    "        return 'middle'\n",
    "    elif row['Date'] >= row['late_first_date']:\n",
    "        return 'late'\n",
    "    else:\n",
    "        return 'early'\n",
    "\n",
    "df_patday_good['time_bin'] = df_patday_good.apply(get_early_middle_late_label, axis=1)\n",
    "df_patday_good['time_bin'].value_counts().sort_index()\n",
    "# df_patday_good['label'].value_counts().sort_index()\n",
    "\n",
    "df_with_stratum = df_patday_good # df_patday_with_stratum\n",
    "df_with_stratum\n"
   ]
  },
  {
   "cell_type": "code",
   "execution_count": null,
   "metadata": {},
   "outputs": [],
   "source": [
    "stratum_list = df_with_stratum['stratum'].unique()\n",
    "stratum_list"
   ]
  },
  {
   "cell_type": "code",
   "execution_count": null,
   "metadata": {},
   "outputs": [],
   "source": [
    "stratum_list = df_with_stratum['stratum'].unique()\n",
    "\n",
    "stratum_stats = df_with_stratum.groupby('stratum').agg({\n",
    "    'PID': ['nunique', 'count']\n",
    "}).reset_index()\n",
    "stratum_stats.columns = ['stratum', 'n_patients', 'n_days']\n",
    "\n",
    "stratum_stats"
   ]
  },
  {
   "cell_type": "code",
   "execution_count": null,
   "metadata": {},
   "outputs": [],
   "source": [
    "# df_with_stratum"
   ]
  },
  {
   "cell_type": "code",
   "execution_count": null,
   "metadata": {},
   "outputs": [],
   "source": [
    "# df_patient_selected[['stratum', 'split']].value_counts().sort_index().reset_index()"
   ]
  },
  {
   "cell_type": "code",
   "execution_count": null,
   "metadata": {},
   "outputs": [],
   "source": [
    "stratum_list = df_patient_selected['stratum'].unique()\n",
    "print(stratum_list)"
   ]
  },
  {
   "cell_type": "code",
   "execution_count": null,
   "metadata": {},
   "outputs": [],
   "source": [
    "df_with_stratum"
   ]
  },
  {
   "cell_type": "code",
   "execution_count": null,
   "metadata": {},
   "outputs": [],
   "source": [
    "final_df = df_with_stratum\n",
    "final_df['split_timebin'] = final_df['split'] + '-' + final_df['time_bin']\n",
    "final_df[['split_timebin']].value_counts().sort_index().reset_index()"
   ]
  },
  {
   "cell_type": "code",
   "execution_count": null,
   "metadata": {},
   "outputs": [],
   "source": [
    "df_case_good.shape"
   ]
  },
  {
   "cell_type": "code",
   "execution_count": null,
   "metadata": {},
   "outputs": [],
   "source": [
    "df_case_good.head()"
   ]
  },
  {
   "cell_type": "code",
   "execution_count": null,
   "metadata": {},
   "outputs": [],
   "source": [
    "df_case_good['Date'] = pd.to_datetime(df_case_good['Date'])\n",
    "\n",
    "df_case_pretrain_split = pd.merge(df_case_good, final_df, on = ['PID', 'Date'])\n",
    "\n",
    "len(df_case_pretrain_split) / len(final_df)"
   ]
  },
  {
   "cell_type": "code",
   "execution_count": null,
   "metadata": {},
   "outputs": [],
   "source": [
    "df_case_pretrain_split"
   ]
  },
  {
   "cell_type": "code",
   "execution_count": null,
   "metadata": {},
   "outputs": [],
   "source": [
    "path = os.path.join(DATA_SPLIT, 'WellDoc_ds_case_dietevent_split.parquet')\n",
    "df_case_pretrain_split.to_parquet(path)"
   ]
  },
  {
   "cell_type": "code",
   "execution_count": null,
   "metadata": {},
   "outputs": [],
   "source": [
    "df_count = df_case_pretrain_split[['stratum', 'split_timebin']].value_counts().sort_index().reset_index()\n",
    "df_table = df_count.pivot(index = 'stratum', columns = 'split_timebin', values = 'count').fillna(0)\n",
    "\n",
    "cols = [ 'train-early', 'train-middle', 'train-late', \n",
    "        'val-early', 'val-middle', 'val-late', \n",
    "        'test-early', 'test-middle', 'test-late'\n",
    "        ]\n",
    "\n",
    "df_table = df_table[cols]\n",
    "\n",
    "# Add row totals\n",
    "df_table['Total'] = df_table.sum(axis=1)\n",
    "\n",
    "# Add column totals\n",
    "df_table.loc['Total'] = df_table.sum()\n",
    "\n",
    "df_table = df_table[df_table['train-early'] > 0].reset_index()\n",
    "df_table"
   ]
  },
  {
   "cell_type": "code",
   "execution_count": null,
   "metadata": {},
   "outputs": [],
   "source": [
    "# df_case_pretrain_split"
   ]
  },
  {
   "cell_type": "code",
   "execution_count": null,
   "metadata": {},
   "outputs": [],
   "source": [
    "DATA_SPLIT = '_Data/4-Data_Split'\n",
    "\n",
    "\n",
    "path = path # os.path.join(DATA_SPLIT, 'WellDoc_ds_case_pretrain_split.parquet')\n",
    "# df_case_pretrain_split.to_parquet(path)\n",
    "\n",
    "df_case_pretrain_split = pd.read_parquet(path)\n",
    "df_case_pretrain_split"
   ]
  },
  {
   "cell_type": "code",
   "execution_count": null,
   "metadata": {},
   "outputs": [],
   "source": []
  }
 ],
 "metadata": {
  "language_info": {
   "name": "python"
  }
 },
 "nbformat": 4,
 "nbformat_minor": 2
}