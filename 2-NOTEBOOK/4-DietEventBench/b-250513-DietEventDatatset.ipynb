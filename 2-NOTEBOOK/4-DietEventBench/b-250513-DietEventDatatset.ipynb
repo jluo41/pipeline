{
 "cells": [
  {
   "cell_type": "code",
   "execution_count": null,
   "metadata": {},
   "outputs": [],
   "source": [
    "import sys\n",
    "import os\n",
    "import logging\n",
    "import pandas as pd\n",
    "import datasets\n",
    "from pprint import pprint\n",
    "KEY = '2-NOTEBOOK'\n",
    "WORKSPACE_PATH = os.getcwd().split(KEY)[0]\n",
    "print(WORKSPACE_PATH); os.chdir(WORKSPACE_PATH)\n",
    "logger = logging.getLogger(__name__)\n",
    "logging.basicConfig(level=logging.INFO, format='[%(levelname)s:%(asctime)s:(%(filename)s@%(lineno)d %(name)s)]: %(message)s')\n",
    "\n",
    "SPACE = {\n",
    "    'DATA_RAW': f'_Data/0-Data_Raw',\n",
    "    'DATA_RFT': f'_Data/1-Data_RFT',\n",
    "    'DATA_CASE': f'_Data/2-Data_CASE',\n",
    "    'DATA_AIDATA': f'_Data/3-Data_AIDATA',\n",
    "    'DATA_EXTERNAL': f'code/external',\n",
    "    'CODE_FN': f'code/pipeline',\n",
    "    'MODEL_ROOT': f'./_Model',\n",
    "}\n",
    "assert os.path.exists(SPACE['CODE_FN']), f'{SPACE[\"CODE_FN\"]} not found'\n",
    "print(SPACE['CODE_FN'])\n",
    "sys.path.append(SPACE['CODE_FN'])"
   ]
  },
  {
   "cell_type": "code",
   "execution_count": null,
   "metadata": {},
   "outputs": [],
   "source": [
    "from recfldtkn.aidata_base.entry import EntryAIData_Builder\n",
    "from recfldtkn.case_base.casefnutils.casefn import Case_Fn\n",
    "from datasets import DatasetInfo\n",
    "\n",
    "OneAIDataName = 'DietEventBench'\n",
    " \n",
    "CF_DataName = 'DietEvent-CGM5MinEntry-1ea9d787eef20fb7'\n",
    "CohortName_list = [\n",
    "    'WellDoc2022CGM',\n",
    "    'WellDoc2025ALS',\n",
    "    'WellDoc2025CVS', \n",
    "    'WellDoc2025LLY',\n",
    "]\n",
    "\n",
    "######################## get the CF_DataName list\n",
    "CF_DataName_list = [\n",
    "    f'{i}/{CF_DataName}' for i in CohortName_list\n",
    "]\n",
    "########################\n",
    "CF_DataName_list\n"
   ]
  },
  {
   "cell_type": "code",
   "execution_count": null,
   "metadata": {},
   "outputs": [],
   "source": [
    "entry = EntryAIData_Builder(SPACE = SPACE)\n",
    "entry"
   ]
  },
  {
   "cell_type": "code",
   "execution_count": null,
   "metadata": {},
   "outputs": [],
   "source": [
    "dataset = entry.merge_one_cf_dataset(CF_DataName_list)\n",
    "dataset"
   ]
  },
  {
   "cell_type": "code",
   "execution_count": null,
   "metadata": {},
   "outputs": [],
   "source": [
    "# dataset.info.config_name"
   ]
  },
  {
   "cell_type": "markdown",
   "metadata": {},
   "source": [
    "# AI Data"
   ]
  },
  {
   "cell_type": "code",
   "execution_count": null,
   "metadata": {},
   "outputs": [],
   "source": [
    "OneEntryArgs = {\n",
    "    'Split_Part': {\n",
    "        'SplitMethod': 'SplitFromColumns', # <--- you need to design this function. \n",
    "        'Split_to_Selection': {\n",
    "            'train': {'Rules': [\n",
    "                                ['split_timebin', 'in', ('train-early', 'valid-early')],\n",
    "                                ['MEDInfoBf24h-DietRecNum', '>', 0],\n",
    "                                ['MEDInfoBf24h-DietLastToNow', '>=', 120], \n",
    "                                ['MEDInfoBf24h-DietLastToNow', '<=', 420], \n",
    "                                ['ObsDT_Minute', '==', 0], \n",
    "\n",
    "                                ],\n",
    "                      'Op': 'and'},\n",
    "\n",
    "\n",
    "\n",
    "            'valid':  {'Rules': [\n",
    "                                # ['split', '==', 'valid'],\n",
    "                                ['split_timebin', 'in', ('train-middle', 'valid-middle')],\n",
    "\n",
    "                                ['MEDInfoBf24h-DietRecNum', '>', 0],\n",
    "                                ['MEDInfoBf24h-DietLastToNow', '>=', 120], \n",
    "                                ['MEDInfoBf24h-DietLastToNow', '<=', 420], \n",
    "                                ['ObsDT_Minute', '==', 0], \n",
    "\n",
    "\n",
    "                                ],\n",
    "                      'Op': 'and'},\n",
    "\n",
    "\n",
    "            'test-id':  {'Rules': [\n",
    "                                # ['split', '==', 'test'],\n",
    "                                ['split_timebin', 'in', ('train-late', 'valid-late')],\n",
    "\n",
    "                                ['MEDInfoBf24h-DietRecNum', '>', 0],\n",
    "                                ['MEDInfoBf24h-DietLastToNow', '>=', 120], \n",
    "                                ['MEDInfoBf24h-DietLastToNow', '<=', 420], \n",
    "                                ['ObsDT_Minute', '==', 0], \n",
    "\n",
    "\n",
    "                                ],\n",
    "                      'Op': 'and'},\n",
    "\n",
    "\n",
    "            'test-od':  {'Rules': [\n",
    "                                # ['split', '==', 'test'],\n",
    "                                ['split_timebin', 'in', ('test-early', 'test-middle', 'test-late')],\n",
    "\n",
    "                                ['MEDInfoBf24h-DietRecNum', '>', 0],\n",
    "                                ['MEDInfoBf24h-DietLastToNow', '>=', 120], \n",
    "                                ['MEDInfoBf24h-DietLastToNow', '<=', 420], \n",
    "                                ['ObsDT_Minute', '==', 0], \n",
    "\n",
    "\n",
    "                                ],\n",
    "                      'Op': 'and'},\n",
    "        }\n",
    "    },\n",
    "    \n",
    "    # ----------------- Input Part -----------------\n",
    "    'Input_Part': {\n",
    "        'EntryInputMethod': '1TknInStep',\n",
    "        'CF_list': [\n",
    "            'CGMValueBf24h',\n",
    "            # 'CGMValueAf2h',\n",
    "        ],\n",
    "        'BeforePeriods': ['Bf24h'],\n",
    "        # 'AfterPeriods': ['Af2h'],\n",
    "        'InferenceMode': False, # True, # True, # False, # True, \n",
    "        'TargetField': 'CGMValue', \n",
    "    }, \n",
    "\n",
    "\n",
    "    # ----------------- Output Part -----------------\n",
    "    'Output_Part': {\n",
    "        'EntryOutputMethod': 'UniLabelRules',\n",
    "        'CF_list': ['MEDInfoBf24h'],\n",
    "        'label_rule': {                                          # eat between 0 to 2 hours. \n",
    "            1: ('MEDInfoBf24h-DietLastToNow', 'in', [120, 180]), # eat between before 2 to 3 hours\n",
    "            0: ('MEDInfoBf24h-DietLastToNow', 'in', [180, 420]), # eat between before 3 to 7 hours\n",
    "            -100: 'others'\n",
    "        },\n",
    "        'assertion': [\n",
    "            ('MEDInfoBf24h-DietLastToNow', 'in', [120, 420]),\n",
    "        ],\n",
    "        'set_transform': False,\n",
    "        'num_proc': 4, \n",
    "    },\n",
    "}\n",
    "\n",
    "SplitMethod = OneEntryArgs['Split_Part']['SplitMethod']\n",
    "SplitMethod"
   ]
  },
  {
   "cell_type": "code",
   "execution_count": null,
   "metadata": {},
   "outputs": [],
   "source": [
    "from recfldtkn.aidata_base.entry import EntryAIData_Builder\n",
    "\n",
    "entry = EntryAIData_Builder(OneEntryArgs = OneEntryArgs, \n",
    "                            SPACE = SPACE)\n",
    "\n",
    "split_to_dataset = entry.split_cf_dataset(dataset, config = config)\n",
    "split_to_dataset"
   ]
  },
  {
   "cell_type": "code",
   "execution_count": null,
   "metadata": {},
   "outputs": [],
   "source": [
    "split_to_dataset['train']"
   ]
  },
  {
   "cell_type": "code",
   "execution_count": null,
   "metadata": {},
   "outputs": [],
   "source": [
    "split_to_dataset.info"
   ]
  },
  {
   "cell_type": "code",
   "execution_count": null,
   "metadata": {},
   "outputs": [],
   "source": [
    "SPACE['DATA_HFDATA'] = '_Data/5-Data_HFDATA'\n",
    "\n",
    "path = os.path.join(SPACE['DATA_HFDATA'], CF_DataName)\n",
    "\n",
    "print(path)\n",
    "# split_to_dataset.\n",
    "\n",
    "split_to_dataset.save_to_disk(path)"
   ]
  },
  {
   "cell_type": "code",
   "execution_count": null,
   "metadata": {},
   "outputs": [],
   "source": [
    "dataset = split_to_dataset['train']\n",
    "dataset.info"
   ]
  },
  {
   "cell_type": "code",
   "execution_count": null,
   "metadata": {},
   "outputs": [],
   "source": [
    "# split_to_dataset.config_name "
   ]
  },
  {
   "cell_type": "code",
   "execution_count": null,
   "metadata": {},
   "outputs": [],
   "source": [
    "Name_to_Data = entry.setup_EntryFn_to_NameToData(split_to_dataset, CF_to_CFvocab, OneEntryArgs)\n",
    "Name_to_Data"
   ]
  },
  {
   "cell_type": "code",
   "execution_count": null,
   "metadata": {},
   "outputs": [],
   "source": [
    "Data = Name_to_Data['train']\n",
    "ds_tfm = Data['ds_tfm']\n",
    "ds_tfm"
   ]
  },
  {
   "cell_type": "code",
   "execution_count": null,
   "metadata": {},
   "outputs": [],
   "source": [
    "batch = ds_tfm[:5]\n",
    "# pprint(batch)\n",
    "\n",
    "from pprint import pprint\n",
    "pprint(batch['input_ids'], compact=True)"
   ]
  },
  {
   "cell_type": "code",
   "execution_count": null,
   "metadata": {},
   "outputs": [],
   "source": [
    "pprint(batch['labels'], compact=True)"
   ]
  },
  {
   "cell_type": "code",
   "execution_count": null,
   "metadata": {},
   "outputs": [],
   "source": []
  }
 ],
 "metadata": {
  "language_info": {
   "name": "python"
  }
 },
 "nbformat": 4,
 "nbformat_minor": 2
}