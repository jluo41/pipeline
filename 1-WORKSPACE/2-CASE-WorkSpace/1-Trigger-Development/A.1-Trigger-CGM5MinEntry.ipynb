{
 "cells": [
  {
   "cell_type": "markdown",
   "id": "6c938bf1",
   "metadata": {},
   "source": [
    "# Space\n"
   ]
  },
  {
   "cell_type": "code",
   "execution_count": null,
   "id": "1c872edd",
   "metadata": {},
   "outputs": [],
   "source": [
    "import sys\n",
    "import os \n",
    "import logging\n",
    "import pandas as pd\n",
    "from pprint import pprint \n",
    "from IPython.display import display, HTML\n",
    "\n",
    "KEY = '1-WORKSPACE'\n",
    "WORKSPACE_PATH = os.getcwd().split(KEY)[0]\n",
    "print(WORKSPACE_PATH); os.chdir(WORKSPACE_PATH)\n",
    "logger = logging.getLogger(__name__)\n",
    "logging.basicConfig(level=logging.INFO, format='[%(levelname)s:%(asctime)s:(%(filename)s@%(lineno)d %(name)s)]: %(message)s')\n",
    "\n",
    "SPACE = {\n",
    "    'DATA_RAW': f'./_Data/0-Data_Raw',\n",
    "    'DATA_RFT': f'./_Data/1-Data_RFT',\n",
    "    'DATA_CASE': f'./_Data/2-Data_CASE',\n",
    "    'DATA_AIDATA': f'./_Data/3-Data_AIDATA',\n",
    "    'DATA_EXTERNAL': f'./code/external',\n",
    "    'CODE_FN': f'./code/pipeline', \n",
    "}\n",
    "assert os.path.exists(SPACE['CODE_FN']), f'{SPACE[\"CODE_FN\"]} not found'\n",
    "\n",
    "print(SPACE['CODE_FN'])\n",
    "sys.path.append(SPACE['CODE_FN'])"
   ]
  },
  {
   "cell_type": "markdown",
   "id": "35aca990",
   "metadata": {},
   "source": [
    "# Step 1: OneCohort Record Base"
   ]
  },
  {
   "cell_type": "code",
   "execution_count": null,
   "id": "d59920d2",
   "metadata": {},
   "outputs": [],
   "source": [
    "from config.config_record.Cohort import CohortName_to_OneCohortArgs\n",
    "CohortNames = [i for i in CohortName_to_OneCohortArgs.keys()]\n",
    "CohortNames "
   ]
  },
  {
   "cell_type": "code",
   "execution_count": null,
   "id": "df109c21",
   "metadata": {},
   "outputs": [],
   "source": [
    "# create a dictionary to store the arguments for the HumanRecordRecfeat module\n",
    "CohortName = 'WellDoc2023CVSDeRx'\n",
    "HumanRecordRecfeat_Args = {\n",
    "    'P': {\n",
    "        'P': [], \n",
    "        'CGM5Min': []\n",
    "    }\n",
    "}\n",
    "HumanRecordRecfeat_Args"
   ]
  },
  {
   "cell_type": "code",
   "execution_count": null,
   "id": "28f7837a",
   "metadata": {},
   "outputs": [],
   "source": [
    "# Import the OneCohort_Record_Base class from the recfldtkn.record_base module\n",
    "from recfldtkn.record_base import OneCohort_Record_Base\n",
    "# Create an instance of the OneCohort_Record_Base class\n",
    "onecohort_record_base = OneCohort_Record_Base(CohortName, \n",
    "                                              HumanRecordRecfeat_Args,\n",
    "                                              CohortName_to_OneCohortArgs,\n",
    "                                              SPACE\n",
    "                                            )\n",
    "# Set up the mapping from the feature name to the function that will be used to extract the feature\n",
    "onecohort_record_base.setup_NameToFn()\n",
    "# Initialize the NameToObject dictionary\n",
    "onecohort_record_base.initialize_NameToObject()"
   ]
  },
  {
   "cell_type": "code",
   "execution_count": null,
   "id": "1f29933d",
   "metadata": {},
   "outputs": [],
   "source": [
    "print(onecohort_record_base.Name_to_HRF)\n",
    "print(onecohort_record_base.Name_to_Fn)\n",
    "print(onecohort_record_base)"
   ]
  },
  {
   "cell_type": "markdown",
   "id": "d6e03e0b",
   "metadata": {},
   "source": [
    "# Step 2: ROName Parser"
   ]
  },
  {
   "cell_type": "code",
   "execution_count": null,
   "id": "80597710",
   "metadata": {},
   "outputs": [],
   "source": [
    "record = onecohort_record_base.Name_to_HRF[('P', 'P')] # HumanRecordFeat\n",
    "# Access the ds_RecAttr attribute of the record object \n",
    "# The ds_RecAttr attribute is a dataset object with features and it contains 69 rows of data.\n",
    "record.ds_RecAttr\n",
    "\n",
    "# ds_RecAttr appears to be an actual dataset, not just a list of column names"
   ]
  },
  {
   "cell_type": "code",
   "execution_count": null,
   "id": "29cdd8c8",
   "metadata": {},
   "outputs": [],
   "source": [
    "onecohort_record_base.Name_to_HRF[('P', 'CGM5Min')].ds_RecAttr"
   ]
  },
  {
   "cell_type": "markdown",
   "id": "2aaf6b9c",
   "metadata": {},
   "source": [
    "# Step 3: TriggerName"
   ]
  },
  {
   "cell_type": "code",
   "execution_count": null,
   "id": "8f1c7e02",
   "metadata": {},
   "outputs": [],
   "source": [
    "# from recfldtkn.case_base.cohort_case_base import CaseSet_Trigger_Fn\n",
    "\n",
    "###################################### # user \n",
    "Trigger = 'CGM5MinEntry'\n",
    "Trigger_Args = {\n",
    "    'Trigger': 'CGM5MinEntry',\n",
    "    'case_id_columns': [\"PID\", \"ObsDT\"], \n",
    "    'HumanID_list': ['PID'],\n",
    "    'ObsDT': 'ObsDT',\n",
    "    'ROName_to_RONameArgs': {\n",
    "        'hP.rCGM5Min': {\n",
    "            'attribute_columns': ['PID', 'DT_s'],\n",
    "        },\n",
    "    },\n",
    "}\n",
    "######################################\n"
   ]
  },
  {
   "cell_type": "code",
   "execution_count": null,
   "id": "abef7b78",
   "metadata": {},
   "outputs": [],
   "source": [
    "# Import 'inspect' module, which provides several useful functions to help get information about live objects\n",
    "import inspect\n",
    "import random\n",
    "import numpy as np\n",
    "\n",
    "\n",
    "###################################### user\n",
    "def get_CaseTrigger_from_RecordBase(onecohort_record_base, Trigger_Args):\n",
    "\n",
    "    TriggerName = Trigger_Args['Trigger']\n",
    "    if TriggerName in onecohort_record_base.TriggerName_to_dfCaseTrigger:\n",
    "        df_case_raw = onecohort_record_base.TriggerName_to_dfCaseTrigger[TriggerName]\n",
    "    else:\n",
    "        ROName_to_RONameArgs = Trigger_Args['ROName_to_RONameArgs']\n",
    "        ROName_to_RODS = {}\n",
    "        for ROName, ROName_Args in ROName_to_RONameArgs.items():\n",
    "            RONameInfo = onecohort_record_base.parse_ROName(ROName)\n",
    "            # print(RONameInfo)\n",
    "            HumanName, RecordName = RONameInfo['HumanName'], RONameInfo['RecordName']\n",
    "            record = onecohort_record_base.Name_to_HRF[(HumanName, RecordName)]\n",
    "\n",
    "            attribute_columns = ROName_Args['attribute_columns']\n",
    "            if hasattr(record, 'ds_RecAttr'):\n",
    "                df_case = record.ds_RecAttr.select_columns(attribute_columns).to_pandas()\n",
    "            else:\n",
    "                df_case = record.df_RecAttr\n",
    "            ROName_to_RODS[ROName] = df_case\n",
    "        ROName = 'hP.rCGM5Min'\n",
    "        df_case_raw = ROName_to_RODS[ROName]\n",
    "        # --------------------------------------------------------------------------\n",
    "\n",
    "    df_case = df_case_raw\n",
    "    # ------------------------------ Determine the ObsDT ------------------------------\n",
    "    if 'ObsDT' not in df_case.columns:\n",
    "        df_case['ObsDT'] = df_case['DT_s'] # [df_case_raw['drug_name'] == 'Trulicity']\n",
    "        df_case = df_case.drop(columns = 'DT_s') # .from_pandas(df_case_filter)\n",
    "        df_case['ObsDT'] = pd.to_datetime(df_case['ObsDT'])\n",
    "    else:\n",
    "        df_case['ObsDT'] = pd.to_datetime(df_case['ObsDT'])\n",
    "    # --------------------------------------------------------------------------\n",
    "\n",
    "    # ------------------------------- Update Column Sequence ------------------------\n",
    "    case_id_columns = Trigger_Args['case_id_columns']\n",
    "    columns = df_case.columns \n",
    "    columns = case_id_columns + [col for col in columns if col not in case_id_columns]\n",
    "    df_case = df_case[columns].reset_index(drop=True)\n",
    "\n",
    "    df_case = df_case.groupby(case_id_columns).last().reset_index()\n",
    "\n",
    "    random.seed(42)\n",
    "    np.random.seed(42)\n",
    "    # torch.manual_seed(42)\n",
    "    # torch.cuda.manual_seed_all(42)\n",
    "    df_case['_keep_ratio'] = np.random.rand(len(df_case))\n",
    "    # -------------------- e: deal with ROName = 'hP.rCGM5Min' ------------------\n",
    "    return df_case\n",
    "\n",
    "get_CaseTrigger_from_RecordBase.fn_string = inspect.getsource(get_CaseTrigger_from_RecordBase)\n",
    "######################################"
   ]
  },
  {
   "cell_type": "code",
   "execution_count": null,
   "id": "5a2201cb",
   "metadata": {},
   "outputs": [],
   "source": [
    "from recfldtkn.case_base.case_base import CASESET_TRIGGER_PATH\n",
    "from recfldtkn.base import Base\n",
    "\n",
    "pypath = os.path.join(SPACE['CODE_FN'], CASESET_TRIGGER_PATH, f'{Trigger}.py')\n",
    "print(pypath) \n",
    "\n",
    "\n",
    "prefix = ['import pandas as pd', 'import random', 'import numpy as np']\n",
    "string_variables = [Trigger]\n",
    "iterative_variables = [Trigger_Args]\n",
    "fn_variables = [get_CaseTrigger_from_RecordBase]\n",
    "pycode = Base.convert_variables_to_pystirng(string_variables = string_variables, \n",
    "                                       iterative_variables = iterative_variables, \n",
    "                                       fn_variables = fn_variables, prefix = prefix)\n",
    "\n",
    "# print(pypath)\n",
    "if not os.path.exists(os.path.dirname(pypath)): os.makedirs(os.path.dirname(pypath))\n",
    "with open(pypath, 'w') as file: file.write(pycode)"
   ]
  },
  {
   "cell_type": "code",
   "execution_count": null,
   "id": "d0745ffe",
   "metadata": {},
   "outputs": [],
   "source": [
    "df_case = get_CaseTrigger_from_RecordBase(onecohort_record_base, Trigger_Args)\n",
    "df_case"
   ]
  },
  {
   "cell_type": "code",
   "execution_count": null,
   "id": "6496d0d3",
   "metadata": {},
   "outputs": [],
   "source": [
    "\n",
    "# df_case['feature1'] = 122\n",
    "# df_case['feature2'] = 1232\n",
    "# df_case['feature_list'] = len(df_case) * 'a b c d'\n",
    "# df_case"
   ]
  },
  {
   "cell_type": "code",
   "execution_count": null,
   "id": "c2bc8385",
   "metadata": {},
   "outputs": [],
   "source": []
  },
  {
   "cell_type": "code",
   "execution_count": null,
   "id": "62c1b66b",
   "metadata": {},
   "outputs": [],
   "source": []
  }
 ],
 "metadata": {
  "kernelspec": {
   "display_name": "torch",
   "language": "python",
   "name": "python3"
  },
  "language_info": {
   "codemirror_mode": {
    "name": "ipython",
    "version": 3
   },
   "file_extension": ".py",
   "mimetype": "text/x-python",
   "name": "python",
   "nbconvert_exporter": "python",
   "pygments_lexer": "ipython3",
   "version": "3.11.9"
  },
  "toc": {
   "base_numbering": 1,
   "nav_menu": {},
   "number_sections": true,
   "sideBar": true,
   "skip_h1_title": false,
   "title_cell": "Table of Contents",
   "title_sidebar": "Contents",
   "toc_cell": false,
   "toc_position": {
    "height": "calc(100% - 180px)",
    "left": "10px",
    "top": "150px",
    "width": "165px"
   },
   "toc_section_display": true,
   "toc_window_display": true
  },
  "toc-autonumbering": true
 },
 "nbformat": 4,
 "nbformat_minor": 5
}