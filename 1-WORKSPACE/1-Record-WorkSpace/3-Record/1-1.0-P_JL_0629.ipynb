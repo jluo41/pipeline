{
 "cells": [
  {
   "cell_type": "markdown",
   "id": "6c938bf1",
   "metadata": {},
   "source": [
    "# Space"
   ]
  },
  {
   "cell_type": "code",
   "execution_count": null,
   "id": "1c872edd",
   "metadata": {},
   "outputs": [],
   "source": [
    "import sys\n",
    "import os \n",
    "import logging\n",
    "import pandas as pd\n",
    "from pprint import pprint \n",
    "from IPython.display import display, HTML\n",
    "\n",
    "KEY = '1-WORKSPACE'\n",
    "WORKSPACE_PATH = os.getcwd().split(KEY)[0]\n",
    "print(WORKSPACE_PATH); os.chdir(WORKSPACE_PATH)\n",
    "logger = logging.getLogger(__name__)\n",
    "logging.basicConfig(level=logging.INFO, format='[%(levelname)s:%(asctime)s:(%(filename)s@%(lineno)d %(name)s)]: %(message)s')\n",
    "\n",
    "SPACE = {\n",
    "    'DATA_RAW': f'./_Data/0-Data_Raw',\n",
    "    'DATA_RFT': f'./_Data/1-Data_RFT',\n",
    "    'DATA_CASE': f'./_Data/2-Data_CASE',\n",
    "    'DATA_AIDATA': f'./_Data/3-Data_AIDATA',\n",
    "    'DATA_EXTERNAL': f'./code/external',\n",
    "    'CODE_FN': f'./code/pipeline', \n",
    "}\n",
    "assert os.path.exists(SPACE['CODE_FN']), f'{SPACE[\"CODE_FN\"]} not found'\n",
    "\n",
    "print(SPACE['CODE_FN'])\n",
    "sys.path.append(SPACE['CODE_FN'])"
   ]
  },
  {
   "cell_type": "markdown",
   "id": "224fd1df",
   "metadata": {},
   "source": [
    "# Step 1: Cohort and Human"
   ]
  },
  {
   "cell_type": "code",
   "execution_count": null,
   "id": "c3c3710e",
   "metadata": {},
   "outputs": [],
   "source": [
    "from config.config_record.Cohort import CohortName_to_OneCohortArgs\n",
    "\n",
    "# %%%%%%%%%%%%%%%%%%%%% user\n",
    "# CohortName = 'WellDoc2023CVSDeRx'\n",
    "CohortName = 'WellDoc2025ALS'\n",
    "OneCohort_Args = CohortName_to_OneCohortArgs[CohortName]\n",
    "# %%%%%%%%%%%%%%%%%%%%%"
   ]
  },
  {
   "cell_type": "code",
   "execution_count": null,
   "id": "3a85b658",
   "metadata": {},
   "outputs": [],
   "source": [
    "# %%%%%%%%%%%%%%%%%%%%% user\n",
    "HumanName = 'P'\n",
    "# %%%%%%%%%%%%%%%%%%%%% user"
   ]
  },
  {
   "cell_type": "code",
   "execution_count": null,
   "id": "f206ff3a",
   "metadata": {},
   "outputs": [],
   "source": [
    "from recfldtkn.record_base.cohort import CohortFn, Cohort\n",
    "Source2CohortName = OneCohort_Args['Source2CohortName']\n",
    "cohort_fn = CohortFn(Source2CohortName, SPACE)\n",
    "cohort = Cohort(OneCohort_Args, SPACE, cohort_fn)\n",
    "cohort.setup_fn(cohort_fn)\n",
    "cohort.initialize_cohort()"
   ]
  },
  {
   "cell_type": "code",
   "execution_count": null,
   "id": "bc2a922a",
   "metadata": {},
   "outputs": [],
   "source": [
    "cohort.process_Source_to_Raw"
   ]
  },
  {
   "cell_type": "code",
   "execution_count": null,
   "id": "a31abe0f",
   "metadata": {},
   "outputs": [],
   "source": [
    "cohort.RawName_to_dfRaw"
   ]
  },
  {
   "cell_type": "code",
   "execution_count": null,
   "id": "5f8895d2",
   "metadata": {},
   "outputs": [],
   "source": [
    "from recfldtkn.record_base.human import HumanFn, Human   \n",
    "\n",
    "human_fn = HumanFn(HumanName, SPACE)\n",
    "human = Human(HumanName, cohort, human_fn)\n",
    "human.setup_fn(human_fn)\n",
    "human.initialize_human()"
   ]
  },
  {
   "cell_type": "code",
   "execution_count": null,
   "id": "6638c250",
   "metadata": {},
   "outputs": [],
   "source": [
    "human.pypath"
   ]
  },
  {
   "cell_type": "code",
   "execution_count": null,
   "id": "1e1a9bbb",
   "metadata": {},
   "outputs": [],
   "source": [
    "human.df_Human"
   ]
  },
  {
   "cell_type": "markdown",
   "id": "84480a8d",
   "metadata": {},
   "source": [
    "# Step 2: OneRecord_Args"
   ]
  },
  {
   "cell_type": "code",
   "execution_count": null,
   "id": "95a11c3e",
   "metadata": {},
   "outputs": [],
   "source": [
    "# %%%%%%%%%%%%%%%%%%%%% user\n",
    "# Define the Record Name, representing a Patient record\n",
    "RecordName = 'P'\n",
    "# %%%%%%%%%%%%%%%%%%%%% user\n",
    "\n",
    "## %%%%%%%%%%%%%%%%%%%%% user\n",
    "# Configuration dictionary for a single record type to centralize configuration and\n",
    "# keep all relevant parameters in one place \n",
    "OneRecord_Args = {\n",
    "    'RecordName': 'P', \n",
    "    'RecID': 'PID',\n",
    "    'RecIDChain': ['PID'],\n",
    "\n",
    "    'ParentRecName': None, \n",
    "    'RawHumanID': 'PatientID',\n",
    "\n",
    "    'RecDT': None, \n",
    "    'RawNameList': ['Ptt'],\n",
    "    'human_group_size': 100000,\n",
    "    'rec_chunk_size': 100000,\n",
    "    'UseTzColName': 'UserTimeZoneOffset',\n",
    "\n",
    "}\n",
    "## %%%%%%%%%%%%%%%%%%%%% user"
   ]
  },
  {
   "cell_type": "code",
   "execution_count": null,
   "id": "a7534d6f",
   "metadata": {},
   "outputs": [],
   "source": [
    "RawName_to_dfRaw = cohort.RawName_to_dfRaw\n",
    "[RawName for RawName in RawName_to_dfRaw]"
   ]
  },
  {
   "cell_type": "code",
   "execution_count": null,
   "id": "056a8648",
   "metadata": {},
   "outputs": [],
   "source": [
    "from recfldtkn.record_base.record import RecordFn, Record\n",
    "# Initialize record_fn as None, This variable will be used later to \n",
    "# assign a specific function for record processing if needed.\n",
    "record_fn = None \n",
    "\n",
    "# Create an instance of Record class \n",
    "record = Record(RecordName, human, record_fn)\n",
    "# The 'record' variable now holds an instance of the Record class,\n",
    "# representing a specific type of record for the given human subject\n",
    "record"
   ]
  },
  {
   "cell_type": "code",
   "execution_count": null,
   "id": "801d6e57",
   "metadata": {},
   "outputs": [],
   "source": [
    "OneCohort_Args = cohort.OneCohort_Args\n",
    "RawName_to_dfRaw = cohort.RawName_to_dfRaw\n",
    "df_Human = human.df_Human"
   ]
  },
  {
   "cell_type": "markdown",
   "id": "6bfcb809",
   "metadata": {},
   "source": [
    "# Step 3: RecordPrtInfo"
   ]
  },
  {
   "cell_type": "code",
   "execution_count": null,
   "id": "9de71ef7",
   "metadata": {},
   "outputs": [],
   "source": [
    "OneHuman_Args = human.OneHuman_Args"
   ]
  },
  {
   "cell_type": "code",
   "execution_count": null,
   "id": "0c0eceb1",
   "metadata": {},
   "outputs": [],
   "source": [
    "OneCohort_Args"
   ]
  },
  {
   "cell_type": "code",
   "execution_count": null,
   "id": "5eb85b14",
   "metadata": {},
   "outputs": [],
   "source": [
    "if OneRecord_Args['ParentRecName'] is not None:\n",
    "\n",
    "    # full version\n",
    "    # record_prt_fn = RecordFn(OneRecord_Args['ParentRecName'], SPACE)\n",
    "    # record_prt = Record(OneRecord_Args['ParentRecName'], human)\n",
    "    # record_prt.setup_fn(record_prt_fn)\n",
    "    # record_prt.initialize_record()\n",
    "\n",
    "    # neat version\n",
    "    record_prt = Record(OneRecord_Args['ParentRecName'], human)\n",
    "    record_prt.setup_fn()\n",
    "    record_prt.initialize_record()\n",
    "else:\n",
    "    record_prt = None \n",
    "    \n",
    "print('record_prt:', record_prt)"
   ]
  },
  {
   "cell_type": "code",
   "execution_count": null,
   "id": "680bf4ec",
   "metadata": {},
   "outputs": [],
   "source": [
    "human = human\n",
    "RecordPrtInfo = record.get_RecordPrtInfo(OneRecord_Args, \n",
    "                                         human, \n",
    "                                         record_prt) \n",
    "df_Human = human.df_Human\n",
    "RecordPrtInfo"
   ]
  },
  {
   "cell_type": "markdown",
   "id": "45ee8e32",
   "metadata": {},
   "source": [
    "# Step 4: Display Record's RawColumns"
   ]
  },
  {
   "cell_type": "code",
   "execution_count": null,
   "id": "b0a36286",
   "metadata": {},
   "outputs": [],
   "source": [
    "RawNameList = OneRecord_Args['RawNameList']\n",
    "RawName_to_dfRaw = cohort.RawName_to_dfRaw\n",
    "RawName_to_Sample = record.display_Record_RawNameCols(RawNameList, RawName_to_dfRaw)"
   ]
  },
  {
   "cell_type": "code",
   "execution_count": null,
   "id": "8421d784",
   "metadata": {},
   "outputs": [],
   "source": [
    "for RawName, df_sample in RawName_to_Sample.items():\n",
    "    print(f'\\n===== {RawName} =====')\n",
    "    display(df_sample)"
   ]
  },
  {
   "cell_type": "markdown",
   "id": "e8919728",
   "metadata": {},
   "source": [
    "# Step 5: Select Useful Raw Columns\n"
   ]
  },
  {
   "cell_type": "code",
   "execution_count": null,
   "id": "3e87cd31",
   "metadata": {},
   "outputs": [],
   "source": [
    "## %%%%%%%%%%%%%%%%%%%%% user\n",
    "RawName_to_RawConfig = {}\n",
    "\n",
    "RawName = 'Ptt'\n",
    "raw_columns = [\n",
    " 'PatientID', # 'PatientRegistrationPageID', 'AlertSystemEnabled',\n",
    " # 'PatientLastMobileActivationID', 'MaritalStatusID', 'RaceID', 'EthinicityID',\n",
    " # 'IsEligible', 'MedicationReminderEnabled', 'AppointmentReminderEnabled',\n",
    " # 'PatientCreatedDate', 'PatientModifiedDate', 'RowVersionID_x',\n",
    " # 'MedicationViewMode', 'InPersonTrainingStatus',\n",
    "#  'InPersonTrainingStatusDatetime', 'InPersonTrainingContactNumber',\n",
    "#  'InPersonTrainingScheduledSlot', 'IsRefillRequired',\n",
    "#  'IsRefillRequiredAnsweredDate', 'PAPEligibility', 'PAPStatus',\n",
    "#  'PAPStatusReason', \n",
    " 'MRSegmentID', \n",
    " # 'RefillReason', 'LastPushNotificationID',\n",
    "#  'LastPushNotificationDate', 'IsTermsAgreed',\n",
    "#  'NextWeeklyReportGeneratedDatetime', 'AllowMarketingMessages',\n",
    "#  'IsWeeklyChallengeStartShown', 'WeeklyChallengeCount',\n",
    "#  'IsWeeklyChallengeTwelveWeekShown', \n",
    "'MRSegmentModifiedDateTime',\n",
    "#  'IsWeeklyChallengeEnabled', 'NextWeeklyReportGeneratedTimeZoneOffset',\n",
    "#  'NextEmailReminderCheckDateTime', 'RxRefillNotificationCheckDateTime',\n",
    "#  'TrendingMessageLatestTriggerDate', 'FastingTrendingMessageLatestTriggerDate',\n",
    "#  'IsEmailUnSubscribed', 'BGUOMID', 'HeightUOMID', 'WeightUOMID',\n",
    "#  'IsBPIntroShown', 'DistanceUOMID', 'ExternalPatientCode', 'OnboardingStepId',\n",
    "#  'IsWelcomeEmailSend', 'ChallengeNoEngagementEmailId',\n",
    "#  'NonChallengeNoEngagementEmailId', 'LastNoEngagementEmailSentDateTime',\n",
    "#  'IsSVReportReminderEmailSend', 'IsNoEngagementEmailStopped', \n",
    " 'DiseaseType',\n",
    "#  'IsIOBEnabled', 'IOBChangedDate', 'IsInsulinAdded', 'IsCGMConnected',\n",
    "#  'NextDailyReportGeneratedDatetime', 'ExternalPatientCodeHashed',\n",
    "#  'PrescribedDIA', 'LevelOfEducationID', 'IDCQuizAnswers',\n",
    "#  'IDCQuizRespondedDateTime', 'TitrationMode', 'IsTermsAgreedDateTime',\n",
    "#  'IsSharePersonalInfoAgreed', 'IsSharePersonalInfoAgreedDateTime',\n",
    "#  'TitrationType', 'ESIInvitationCode', 'EnabledNotificationCategories',\n",
    "#  'IsPregnant', 'AdaptHealthUserConfiguration', 'DiseaseCombinationID', 'RoleID',\n",
    "#  'UserFirstName', 'UserMiddleName', 'UserLastName', 'DateOfBirth', \n",
    "'Gender',\n",
    "#  'TitleID', 'SuffixID', 'StatusID', 'StatusReason', 'EntrySourceID',\n",
    "#  'UserEmail', 'UserEmailHashed', 'ExternalSystemUserID',\n",
    "#  'RegistrationCompletedDate', 'RegistrationCompletedTimeZoneOffset',\n",
    "#  'RegistrationCompletedTimeZone', \n",
    " 'ActivationDate',\n",
    "#  'ActivationDateTimeZoneOffset', \n",
    "#  'ActivationDateTimeZone', \n",
    " # 'CreatedDate',\n",
    "#  'ModifiedDate', 'UserSkey', 'RowVersionID_y', 'CellPhoneNumber',\n",
    "#  'FeatureProfileID', 'SystemUserID', 'SystemAccessCode', 'PatientAuthorization',\n",
    "#  'TrainingCompletedDate', 'IsTrainingSkipped', 'UserNickName', 'UpdateSourceID',\n",
    "#  'FirstNameHashed', 'LastNameHashed', 'PatientDrivenRegistrationDate',\n",
    "#  'PatientDrivenRegistrationDateTimeZoneOffset',\n",
    "#  'PatientDrivenRegistrationDateTimeZone', 'RegisteredSourceID', 'AccountID',\n",
    " 'UserTimeZoneOffset', 'UserTimeZone', \n",
    " 'Description', 'YearOfBirth',\n",
    "#  'RxRefillCheckDateTime', 'Language', 'Country', 'ExternalUserID',\n",
    "#  'AHPatientKey', 'CommunityConsentDateTime', 'RecipeCommentConsentDateTime',\n",
    "#  'ProfileLookupID', 'FullNameHashed'\n",
    " ]\n",
    "\n",
    "raw_datetime_column = None \n",
    "\n",
    "raw_base_columns = ['PatientID', 'UserTimeZoneOffset', 'UserTimeZone', ]\n",
    "\n",
    "RawConfig = {\n",
    "    'raw_columns': raw_columns, \n",
    "    'rec_chunk_size': 100000,\n",
    "    'raw_datetime_column': raw_datetime_column,\n",
    "    'raw_base_columns': raw_base_columns,\n",
    "}\n",
    "RawName_to_RawConfig[RawName] = RawConfig\n",
    "## %%%%%%%%%%%%%%%%%%%%% user\n",
    "\n",
    "RawName_to_RawConfig"
   ]
  },
  {
   "cell_type": "code",
   "execution_count": null,
   "id": "0f251462",
   "metadata": {},
   "outputs": [],
   "source": [
    "OneRecord_Args['RawNameList']"
   ]
  },
  {
   "cell_type": "code",
   "execution_count": null,
   "id": "2732d5e0",
   "metadata": {},
   "outputs": [],
   "source": [
    "OneCohort_Args['CohortLabel']"
   ]
  },
  {
   "cell_type": "markdown",
   "id": "b39df674-65c3-4307-a81b-97e2a0180454",
   "metadata": {},
   "source": [
    "# Step 6: Get df_HumanSelected"
   ]
  },
  {
   "cell_type": "code",
   "execution_count": null,
   "id": "0bcc1bc5",
   "metadata": {},
   "outputs": [],
   "source": [
    "[RawName for RawName in OneRecord_Args['RawNameList']]"
   ]
  },
  {
   "cell_type": "code",
   "execution_count": null,
   "id": "a161edce",
   "metadata": {},
   "outputs": [],
   "source": [
    "RawName_to_dfRaw"
   ]
  },
  {
   "cell_type": "code",
   "execution_count": null,
   "id": "dce147a5",
   "metadata": {},
   "outputs": [],
   "source": [
    "OneCohort_Args = cohort.OneCohort_Args\n",
    "OneHuman_Args = human.OneHuman_Args\n",
    "OneRecord_Args = OneRecord_Args\n",
    "df_Human = human.df_Human\n",
    "\n",
    "df_HumanSelected = record.get_dfHumanSelected(OneCohort_Args, OneHuman_Args, OneRecord_Args, df_Human)\n",
    "df_HumanSelected"
   ]
  },
  {
   "cell_type": "markdown",
   "id": "2feb768a",
   "metadata": {},
   "source": [
    "# Step 7: Get df_HumanGroup"
   ]
  },
  {
   "cell_type": "code",
   "execution_count": null,
   "id": "07bd80be",
   "metadata": {},
   "outputs": [],
   "source": [
    "# Iterate through each group in the DataFrame df_HumanSelected\n",
    "for human_group, df_HumanGroup in df_HumanSelected.groupby('human_group'):\n",
    "    logger.info(f'\\n====={human_group}=====')\n",
    "    display(df_HumanGroup)"
   ]
  },
  {
   "cell_type": "markdown",
   "id": "6dd8b754",
   "metadata": {},
   "source": [
    "# Step 8: Get df_RawRec_for_HumanGroup"
   ]
  },
  {
   "cell_type": "code",
   "execution_count": null,
   "id": "23e2206a",
   "metadata": {},
   "outputs": [],
   "source": [
    "df_RawRec_for_HumanGroup = record.get_dfRawRec_from_dfHumanGroup(OneHuman_Args,\n",
    "                                                                df_HumanGroup,\n",
    "                                                                RawName_to_RawConfig, \n",
    "                                                                RawName_to_dfRaw)\n",
    "df_RawRec_for_HumanGroup"
   ]
  },
  {
   "cell_type": "markdown",
   "id": "13cf407f-4864-406a-a79e-2e538fced9c7",
   "metadata": {},
   "source": [
    "# Step 9: Get df_RawRecProc_for_HumanGroup"
   ]
  },
  {
   "cell_type": "code",
   "execution_count": null,
   "id": "22fdd621",
   "metadata": {},
   "outputs": [],
   "source": [
    "import inspect \n",
    "\n",
    "\n",
    "## %%%%%%%%%%%%%%%%%%%%% user\n",
    "def get_RawRecProc_for_HumanGroup(df_RawRec_for_HumanGroup, OneRecord_Args, df_Human):\n",
    "    df = df_RawRec_for_HumanGroup\n",
    "    # 1. filter out the records we don't need (optional) \n",
    "    # 2. create a new column for raw record id (optional)\n",
    "    # 3. update datetime columns \n",
    "    column = 'ActivationDate'\n",
    "    df[column] = pd.to_datetime(df[column], format='mixed')\n",
    "    column = 'MRSegmentModifiedDateTime'\n",
    "    df[column] = pd.to_datetime(df[column], format = 'mixed')\n",
    "\n",
    "    column = 'DiseaseType'\n",
    "    df[column] = df[column].astype(float).round(1).astype(str)\n",
    "\n",
    "\n",
    "    df['UserTimeZoneOffset'] = df['UserTimeZoneOffset'].fillna(0).astype(int)\n",
    "    df_RawRecProc = df\n",
    "    return df_RawRecProc \n",
    "## %%%%%%%%%%%%%%%%%%%%% user\n",
    "\n",
    "get_RawRecProc_for_HumanGroup.fn_string = inspect.getsource(get_RawRecProc_for_HumanGroup)\n"
   ]
  },
  {
   "cell_type": "code",
   "execution_count": null,
   "id": "c2a97f25",
   "metadata": {},
   "outputs": [],
   "source": [
    "df_RawRecProc_for_HumanGroup = get_RawRecProc_for_HumanGroup(df_RawRec_for_HumanGroup, OneRecord_Args, df_Human)\n",
    "df_RawRecProc_for_HumanGroup "
   ]
  },
  {
   "cell_type": "markdown",
   "id": "39dcf4b4",
   "metadata": {},
   "source": [
    "# Step 10: Get dfRecAttr from dfRawRec"
   ]
  },
  {
   "cell_type": "code",
   "execution_count": null,
   "id": "8292cb39",
   "metadata": {},
   "outputs": [],
   "source": [
    "df_RecAttr_for_HumanGroup = record.get_dfRecAttr_from_dfRawRec(df_RawRecProc_for_HumanGroup, OneRecord_Args, RecordPrtInfo)\n",
    "df_RecAttr_for_HumanGroup"
   ]
  },
  {
   "cell_type": "markdown",
   "id": "88d8d9a5",
   "metadata": {},
   "source": [
    "# Step 11: Attr_Cols"
   ]
  },
  {
   "cell_type": "code",
   "execution_count": null,
   "id": "c06d35b1",
   "metadata": {},
   "outputs": [],
   "source": [
    "## %%%%%%%%%%%%%%%%%%%%% user\n",
    "\n",
    "base_cols = [\n",
    "    'PID', 'PatientID', \n",
    "    'ActivationDate', \n",
    "    'UserTimeZone', 'UserTimeZoneOffset', \n",
    "]\n",
    "\n",
    "attr_cols = base_cols + [\n",
    "    'YearOfBirth', \n",
    "    'MRSegmentModifiedDateTime', \n",
    "    'Gender', 'MRSegmentID', 'DiseaseType'\n",
    "]\n",
    "## %%%%%%%%%%%%%%%%%%%%% user\n",
    "\n",
    "df_RecAttr_for_HumanGroup = df_RecAttr_for_HumanGroup[attr_cols].reset_index(drop=True)\n",
    "df_RecAttr_for_HumanGroup"
   ]
  },
  {
   "cell_type": "markdown",
   "id": "857a02b6",
   "metadata": {},
   "source": [
    "# Step 12: ds_RecAttr"
   ]
  },
  {
   "cell_type": "code",
   "execution_count": null,
   "id": "124a4050",
   "metadata": {},
   "outputs": [],
   "source": [
    "ds_RecAttr = record.get_dsRecAttr(OneRecord_Args = OneRecord_Args, \n",
    "                                  human = human, \n",
    "                                  RawName_to_RawConfig = RawName_to_RawConfig,\n",
    "                                  attr_cols = attr_cols,\n",
    "                                  get_RawRecProc_for_HumanGroup = get_RawRecProc_for_HumanGroup,\n",
    "                                  record_prt = record_prt, \n",
    "                                  RecordPrtInfo = RecordPrtInfo)\n",
    "ds_RecAttr"
   ]
  },
  {
   "cell_type": "markdown",
   "id": "cbf30d17",
   "metadata": {},
   "source": [
    "# Step 13: ds_RecIndex"
   ]
  },
  {
   "cell_type": "code",
   "execution_count": null,
   "id": "f810a5c2",
   "metadata": {},
   "outputs": [],
   "source": [
    "ds_RecIndex = record.get_dsRecIndex(OneHuman_Args, OneRecord_Args, ds_RecAttr)\n",
    "ds_RecIndex"
   ]
  },
  {
   "cell_type": "code",
   "execution_count": null,
   "id": "3884518a",
   "metadata": {},
   "outputs": [],
   "source": [
    "ds_RecIndex.to_pandas()"
   ]
  },
  {
   "cell_type": "markdown",
   "id": "ceb99f4a",
   "metadata": {},
   "source": [
    "# Step 14: Save Fn"
   ]
  },
  {
   "cell_type": "code",
   "execution_count": null,
   "id": "1c3fe922-f168-4545-abf4-2c7b3fac9ba3",
   "metadata": {},
   "outputs": [],
   "source": [
    "from recfldtkn.base import Base \n",
    "\n",
    "prefix = ['import pandas as pd', 'import numpy as np']\n",
    "\n",
    "iterative_variables = [OneRecord_Args, RawName_to_RawConfig, attr_cols]\n",
    "fn_variables = [get_RawRecProc_for_HumanGroup]\n",
    "pypath = record.pypath\n",
    "print(pypath)\n",
    "\n",
    "pycode = Base.convert_variables_to_pystirng(fn_variables = fn_variables, \n",
    "                                            iterative_variables = iterative_variables,\n",
    "                                            prefix = prefix)\n",
    "\n",
    "if not os.path.exists(os.path.dirname(pypath)): os.makedirs(os.path.dirname(pypath))\n",
    "with open(pypath, 'w') as file: file.write(pycode)"
   ]
  },
  {
   "cell_type": "markdown",
   "id": "12460598",
   "metadata": {},
   "source": [
    "# Step 15: Test "
   ]
  },
  {
   "cell_type": "code",
   "execution_count": null,
   "id": "d53c6f88",
   "metadata": {},
   "outputs": [],
   "source": [
    "from recfldtkn.record_base.cohort import CohortFn, Cohort\n",
    "from config.config_record.Cohort import CohortName_to_OneCohortArgs\n",
    "\n",
    "# %%%%%%%%%%%%%%%%%%%%% user\n",
    "CohortName = 'WellDoc2023CVSDeRx'\n",
    "OneCohort_Args = CohortName_to_OneCohortArgs[CohortName]\n",
    "# %%%%%%%%%%%%%%%%%%%%%\n",
    "\n",
    "Source2CohortName = OneCohort_Args['Source2CohortName']\n",
    "cohort_fn = CohortFn(Source2CohortName, SPACE)\n",
    "cohort = Cohort(OneCohort_Args, SPACE, cohort_fn)\n",
    "cohort.setup_fn(cohort_fn)\n",
    "cohort.initialize_cohort()"
   ]
  },
  {
   "cell_type": "code",
   "execution_count": null,
   "id": "c55a762b",
   "metadata": {},
   "outputs": [],
   "source": [
    "from recfldtkn.record_base.human import HumanFn, Human   \n",
    "\n",
    "# %%%%%%%%%%%%%%%%%%%%% user\n",
    "HumanName = 'P'\n",
    "# %%%%%%%%%%%%%%%%%%%%% user\n",
    "\n",
    "human_fn = HumanFn(HumanName, SPACE)\n",
    "human = Human(HumanName, cohort, human_fn)\n",
    "human.setup_fn(human_fn)\n",
    "human.initialize_human()"
   ]
  },
  {
   "cell_type": "code",
   "execution_count": null,
   "id": "f28a22dc",
   "metadata": {},
   "outputs": [],
   "source": [
    "from recfldtkn.record_base.record import RecordFn, Record\n",
    "# %%%%%%%%%%%%%%%%%%%%%\n",
    "RecordName = 'P' # Pat\n",
    "# %%%%%%%%%%%%%%%%%%%%%\n",
    "\n",
    "\n",
    "\n",
    "record_fn = RecordFn(RecordName, SPACE) \n",
    "record = Record(RecordName, human, record_fn)\n",
    "record.setup_fn(record_fn)\n",
    "record.initialize_record()    "
   ]
  },
  {
   "cell_type": "code",
   "execution_count": null,
   "id": "96baf3d6",
   "metadata": {},
   "outputs": [],
   "source": [
    "record.ds_RecAttr"
   ]
  },
  {
   "cell_type": "code",
   "execution_count": null,
   "id": "e71b7a9f",
   "metadata": {},
   "outputs": [],
   "source": [
    "record.ds_RecIndex"
   ]
  },
  {
   "cell_type": "code",
   "execution_count": null,
   "id": "c78e4c96",
   "metadata": {},
   "outputs": [],
   "source": []
  },
  {
   "cell_type": "code",
   "execution_count": null,
   "id": "cce17e50",
   "metadata": {},
   "outputs": [],
   "source": []
  },
  {
   "cell_type": "code",
   "execution_count": null,
   "id": "7762dcec",
   "metadata": {},
   "outputs": [],
   "source": []
  }
 ],
 "metadata": {
  "kernelspec": {
   "display_name": "torch",
   "language": "python",
   "name": "python3"
  },
  "language_info": {
   "codemirror_mode": {
    "name": "ipython",
    "version": 3
   },
   "file_extension": ".py",
   "mimetype": "text/x-python",
   "name": "python",
   "nbconvert_exporter": "python",
   "pygments_lexer": "ipython3",
   "version": "3.11.9"
  },
  "toc": {
   "base_numbering": 1,
   "nav_menu": {},
   "number_sections": true,
   "sideBar": true,
   "skip_h1_title": false,
   "title_cell": "Table of Contents",
   "title_sidebar": "Contents",
   "toc_cell": false,
   "toc_position": {
    "height": "calc(100% - 180px)",
    "left": "10px",
    "top": "150px",
    "width": "165px"
   },
   "toc_section_display": true,
   "toc_window_display": true
  },
  "toc-autonumbering": true
 },
 "nbformat": 4,
 "nbformat_minor": 5
}