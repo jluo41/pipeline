{
 "cells": [
  {
   "cell_type": "markdown",
   "id": "6c938bf1",
   "metadata": {},
   "source": [
    "# Space"
   ]
  },
  {
   "cell_type": "code",
   "execution_count": null,
   "id": "1c872edd",
   "metadata": {},
   "outputs": [],
   "source": [
    "import sys\n",
    "import os \n",
    "import logging\n",
    "import pandas as pd\n",
    "from pprint import pprint \n",
    "from IPython.display import display, HTML\n",
    "\n",
    "KEY = '1-WORKSPACE'\n",
    "WORKSPACE_PATH = os.getcwd().split(KEY)[0]\n",
    "print(WORKSPACE_PATH); os.chdir(WORKSPACE_PATH)\n",
    "logger = logging.getLogger(__name__)\n",
    "logging.basicConfig(level=logging.INFO, format='[%(levelname)s:%(asctime)s:(%(filename)s@%(lineno)d %(name)s)]: %(message)s')\n",
    "\n",
    "SPACE = {\n",
    "    'DATA_RAW': f'./_Data/0-Data_Raw',\n",
    "    'DATA_RFT': f'./_Data/1-Data_RFT',\n",
    "    'DATA_CASE': f'./_Data/2-Data_CASE',\n",
    "    'DATA_AIDATA': f'./_Data/3-Data_AIDATA',\n",
    "    'DATA_EXTERNAL': f'./code/external',\n",
    "    'CODE_FN': f'./code/pipeline', \n",
    "}\n",
    "assert os.path.exists(SPACE['CODE_FN']), f'{SPACE[\"CODE_FN\"]} not found'\n",
    "\n",
    "print(SPACE['CODE_FN'])\n",
    "sys.path.append(SPACE['CODE_FN'])"
   ]
  },
  {
   "cell_type": "markdown",
   "id": "224fd1df",
   "metadata": {},
   "source": [
    "# Step 1: Cohort and Human"
   ]
  },
  {
   "cell_type": "code",
   "execution_count": null,
   "id": "555dc2cc",
   "metadata": {},
   "outputs": [],
   "source": [
    "from config.config_record.Cohort import CohortName_to_OneCohortArgs\n",
    "\n",
    "# %%%%%%%%%%%%%%%%%%%%% user\n",
    "# CohortName = 'WellDoc2023CVSDeRx'\n",
    "# CohortName = 'WellDoc2025LLY'\n",
    "CohortName = 'WellDoc2025ALS'\n",
    "# CohortName = 'WellDoc2025CVS'\n",
    "OneCohort_Args = CohortName_to_OneCohortArgs[CohortName]\n",
    "# %%%%%%%%%%%%%%%%%%%%%\n"
   ]
  },
  {
   "cell_type": "code",
   "execution_count": null,
   "id": "5e6f8ee1",
   "metadata": {},
   "outputs": [],
   "source": [
    "[i for i in CohortName_to_OneCohortArgs]"
   ]
  },
  {
   "cell_type": "code",
   "execution_count": null,
   "id": "53856227",
   "metadata": {},
   "outputs": [],
   "source": [
    "# %%%%%%%%%%%%%%%%%%%%% user\n",
    "HumanName = 'P'\n",
    "# %%%%%%%%%%%%%%%%%%%%% user\n"
   ]
  },
  {
   "cell_type": "code",
   "execution_count": null,
   "id": "f206ff3a",
   "metadata": {},
   "outputs": [],
   "source": [
    "from recfldtkn.record_base.cohort import CohortFn, Cohort\n",
    "Source2CohortName = OneCohort_Args['Source2CohortName']\n",
    "cohort_fn = CohortFn(Source2CohortName, SPACE)\n",
    "cohort = Cohort(OneCohort_Args, SPACE, cohort_fn)\n",
    "cohort.setup_fn(cohort_fn)\n",
    "cohort.initialize_cohort(load_data = True)"
   ]
  },
  {
   "cell_type": "code",
   "execution_count": null,
   "id": "bc2a922a",
   "metadata": {},
   "outputs": [],
   "source": [
    "cohort.pypath"
   ]
  },
  {
   "cell_type": "code",
   "execution_count": null,
   "id": "6f6e90dd",
   "metadata": {},
   "outputs": [],
   "source": [
    "cohort.RawName_to_dfRaw\n"
   ]
  },
  {
   "cell_type": "code",
   "execution_count": null,
   "id": "5f8895d2",
   "metadata": {},
   "outputs": [],
   "source": [
    "from recfldtkn.record_base.human import HumanFn, Human   \n",
    "\n",
    "human_fn = HumanFn(HumanName, SPACE)\n",
    "human = Human(HumanName, cohort, human_fn)\n",
    "human.setup_fn(human_fn)\n",
    "human.initialize_human(load_data = False)"
   ]
  },
  {
   "cell_type": "code",
   "execution_count": null,
   "id": "6638c250",
   "metadata": {},
   "outputs": [],
   "source": [
    "human.pypath"
   ]
  },
  {
   "cell_type": "code",
   "execution_count": null,
   "id": "1e1a9bbb",
   "metadata": {},
   "outputs": [],
   "source": [
    "human.df_Human"
   ]
  },
  {
   "cell_type": "markdown",
   "id": "84480a8d",
   "metadata": {},
   "source": [
    "# Step 2: OneRecord_Args"
   ]
  },
  {
   "cell_type": "code",
   "execution_count": null,
   "id": "f3cda82c",
   "metadata": {},
   "outputs": [],
   "source": [
    "# %%%%%%%%%%%%%%%%%%%%% user\n",
    "RecordName = 'Exercise5Min'\n",
    "# %%%%%%%%%%%%%%%%%%%%% user\n",
    "\n",
    "## %%%%%%%%%%%%%%%%%%%%% user\n",
    "OneRecord_Args = {\n",
    "    'RecordName': 'Exercise5Min', \n",
    "    'RecID': 'Exercise5MinID',\n",
    "    'RecIDChain': ['PID'],\n",
    "\n",
    "    'RawHumanID': 'PatientID',\n",
    "    'ParentRecName': 'P', \n",
    "\n",
    "    'RecDT': 'DT_s', \n",
    "    'RawNameList': ['Exercise'],\n",
    "    'human_group_size': 100,\n",
    "    'rec_chunk_size': 100000,\n",
    "}\n",
    "## %%%%%%%%%%%%%%%%%%%%% user"
   ]
  },
  {
   "cell_type": "code",
   "execution_count": null,
   "id": "0e5e058d",
   "metadata": {},
   "outputs": [],
   "source": [
    "RawName_to_dfRaw = cohort.RawName_to_dfRaw\n",
    "[RawName for RawName in RawName_to_dfRaw]"
   ]
  },
  {
   "cell_type": "code",
   "execution_count": null,
   "id": "ba8219e5",
   "metadata": {},
   "outputs": [],
   "source": [
    "from recfldtkn.record_base.record import RecordFn, Record\n",
    "\n",
    "record_fn = None \n",
    "record = Record(RecordName, human, record_fn)\n",
    "record "
   ]
  },
  {
   "cell_type": "code",
   "execution_count": null,
   "id": "b80d5112",
   "metadata": {},
   "outputs": [],
   "source": [
    "OneCohort_Args = cohort.OneCohort_Args\n",
    "RawName_to_dfRaw = cohort.RawName_to_dfRaw\n",
    "df_Human = human.df_Human"
   ]
  },
  {
   "cell_type": "markdown",
   "id": "6bfcb809",
   "metadata": {},
   "source": [
    "# Step 3: RecordPrtInfo"
   ]
  },
  {
   "cell_type": "code",
   "execution_count": null,
   "id": "9de71ef7",
   "metadata": {},
   "outputs": [],
   "source": [
    "OneHuman_Args = human.OneHuman_Args\n",
    "\n",
    "OneCohort_Args"
   ]
  },
  {
   "cell_type": "code",
   "execution_count": null,
   "id": "6eae19f0",
   "metadata": {},
   "outputs": [],
   "source": [
    "if OneRecord_Args['ParentRecName'] is not None:\n",
    "\n",
    "    # full version\n",
    "    record_prt = Record(OneRecord_Args['ParentRecName'], human)\n",
    "    record_prt.setup_fn()\n",
    "    record_prt.setup_prt()\n",
    "    record_prt.initialize_record()\n",
    "\n",
    "    # neat version\n",
    "    # record_prt = Record(OneRecord_Args['ParentRecName'], human)\n",
    "    # record_prt.setup_fn()\n",
    "    # record_prt.initialize_record()\n",
    "else:\n",
    "    record_prt = None \n",
    "    \n",
    "print('record_prt:', record_prt)"
   ]
  },
  {
   "cell_type": "code",
   "execution_count": null,
   "id": "680bf4ec",
   "metadata": {},
   "outputs": [],
   "source": [
    "human = human\n",
    "RecordPrtInfo = record.get_RecordPrtInfo(OneRecord_Args, \n",
    "                                         human, \n",
    "                                         record_prt) \n",
    "df_Human = human.df_Human\n",
    "RecordPrtInfo\n",
    "# "
   ]
  },
  {
   "cell_type": "code",
   "execution_count": null,
   "id": "81a819c8",
   "metadata": {},
   "outputs": [],
   "source": [
    "df_Human.columns"
   ]
  },
  {
   "cell_type": "markdown",
   "id": "45ee8e32",
   "metadata": {},
   "source": [
    "# Step 4: Display Record's RawColumns"
   ]
  },
  {
   "cell_type": "code",
   "execution_count": null,
   "id": "05c8f89d",
   "metadata": {},
   "outputs": [],
   "source": [
    "OneRecord_Args['RawNameList']"
   ]
  },
  {
   "cell_type": "code",
   "execution_count": null,
   "id": "b0a36286",
   "metadata": {},
   "outputs": [],
   "source": [
    "RawNameList = OneRecord_Args['RawNameList']\n",
    "RawName_to_dfRaw = cohort.RawName_to_dfRaw\n",
    "RawName_to_Sample = record.display_Record_RawNameCols(RawNameList, RawName_to_dfRaw)"
   ]
  },
  {
   "cell_type": "code",
   "execution_count": null,
   "id": "8421d784",
   "metadata": {},
   "outputs": [],
   "source": [
    "for RawName, df_sample in RawName_to_Sample.items():\n",
    "    print(f'\\n===== {RawName} =====')\n",
    "    display(df_sample)"
   ]
  },
  {
   "cell_type": "markdown",
   "id": "e8919728",
   "metadata": {},
   "source": [
    "# Step 5: Select Useful Raw Columns\n"
   ]
  },
  {
   "cell_type": "code",
   "execution_count": null,
   "id": "c3b55005",
   "metadata": {},
   "outputs": [],
   "source": [
    "OneRecord_Args['RawNameList']"
   ]
  },
  {
   "cell_type": "code",
   "execution_count": null,
   "id": "3e87cd31",
   "metadata": {},
   "outputs": [],
   "source": [
    "## %%%%%%%%%%%%%%%%%%%%% user\n",
    "RawName_to_RawConfig = {}\n",
    "\n",
    "RawName = 'Exercise'\n",
    "raw_columns = ['PatientID', 'ObservationDateTime', 'ObservationEntryDateTime',\n",
    " 'TimezoneOffset', 'Timezone', 'ExerciseType', 'ExerciseIntensity',\n",
    " 'TimeSinceExercise', 'ActivityTypeID', 'ExerciseDuration', 'CaloriesBurned',\n",
    " 'DistanceInMeters', 'ActivityType']\n",
    "\n",
    "RawConfig = {\n",
    "    'raw_columns': raw_columns, \n",
    "    # 'raw_base_columns': raw_base_columns,\n",
    "    'rec_chunk_size': 100000,\n",
    "    # 'raw_datetime_column': raw_datetime_column,\n",
    "}\n",
    "RawName_to_RawConfig[RawName] = RawConfig\n",
    "## %%%%%%%%%%%%%%%%%%%%% user\n",
    "\n",
    "RawName_to_RawConfig"
   ]
  },
  {
   "cell_type": "markdown",
   "id": "b39df674-65c3-4307-a81b-97e2a0180454",
   "metadata": {},
   "source": [
    "# Step 6: Get df_HumanSelected"
   ]
  },
  {
   "cell_type": "code",
   "execution_count": null,
   "id": "0bcc1bc5",
   "metadata": {},
   "outputs": [],
   "source": [
    "[RawName for RawName in OneRecord_Args['RawNameList']]"
   ]
  },
  {
   "cell_type": "code",
   "execution_count": null,
   "id": "a161edce",
   "metadata": {},
   "outputs": [],
   "source": [
    "RawName_to_dfRaw"
   ]
  },
  {
   "cell_type": "code",
   "execution_count": null,
   "id": "dce147a5",
   "metadata": {},
   "outputs": [],
   "source": [
    "OneCohort_Args = cohort.OneCohort_Args\n",
    "OneHuman_Args = human.OneHuman_Args\n",
    "OneRecord_Args = OneRecord_Args\n",
    "df_Human = human.df_Human\n",
    "\n",
    "df_HumanSelected = record.get_dfHumanSelected(OneCohort_Args, OneHuman_Args, OneRecord_Args, df_Human)\n",
    "df_HumanSelected"
   ]
  },
  {
   "cell_type": "markdown",
   "id": "2feb768a",
   "metadata": {},
   "source": [
    "# Step 7: Get df_HumanGroup"
   ]
  },
  {
   "cell_type": "code",
   "execution_count": null,
   "id": "07bd80be",
   "metadata": {},
   "outputs": [],
   "source": [
    "for human_group, df_HumanGroup in df_HumanSelected.groupby('human_group'):\n",
    "    logger.info(f'\\n====={human_group}=====')\n",
    "    display(df_HumanGroup)\n",
    "    break"
   ]
  },
  {
   "cell_type": "markdown",
   "id": "6dd8b754",
   "metadata": {},
   "source": [
    "# Step 8: Get df_RawRec_for_HumanGroup"
   ]
  },
  {
   "cell_type": "code",
   "execution_count": null,
   "id": "23e2206a",
   "metadata": {},
   "outputs": [],
   "source": [
    "df_RawRec_for_HumanGroup = record.get_dfRawRec_from_dfHumanGroup(OneHuman_Args,\n",
    "                                                                df_HumanGroup,\n",
    "                                                                RawName_to_RawConfig, \n",
    "                                                                RawName_to_dfRaw)\n",
    "df_RawRec_for_HumanGroup"
   ]
  },
  {
   "cell_type": "markdown",
   "id": "13cf407f-4864-406a-a79e-2e538fced9c7",
   "metadata": {},
   "source": [
    "# Step 9: Get df_RawRecProc_for_HumanGroup"
   ]
  },
  {
   "cell_type": "code",
   "execution_count": null,
   "id": "22fdd621",
   "metadata": {},
   "outputs": [],
   "source": [
    "import inspect \n",
    "\n",
    "## %%%%%%%%%%%%%%%%%%%%% user\n",
    "def get_RawRecProc_for_HumanGroup(df_RawRec_for_HumanGroup, OneRecord_Args, df_Human):\n",
    "    df = df_RawRec_for_HumanGroup\n",
    "    \n",
    "    # 1. filter out the records we don't need (optional) \n",
    "    df = df[df['TimezoneOffset'].abs() < 1000].reset_index(drop = True)\n",
    "\n",
    "    # 2. entry type\n",
    "\n",
    "    # 3. update datetime columns \n",
    "    DTCol_list = [\n",
    "        'ObservationDateTime', \n",
    "        'ObservationEntryDateTime',\n",
    "        # 'EntryCreatedDateTime', \n",
    "        # 'ModifiedDateTime',\n",
    "    ]\n",
    "\n",
    "    for DTCol in DTCol_list: \n",
    "        df[DTCol] = pd.to_datetime(df[DTCol], format = 'mixed')\n",
    "\n",
    "    # x1. localize the datetime columns to based on time zone. \n",
    "    a = len(df)\n",
    "    df = pd.merge(df, df_Human[['PatientID', 'user_tz']],  how = 'left')\n",
    "    b = len(df)\n",
    "    assert a == b\n",
    "    df['DT_tz'] = df['TimezoneOffset'].replace(0, None).fillna(df['user_tz']).infer_objects(copy=False)\n",
    "    \n",
    "\n",
    "    DTCol = 'DT_r'\n",
    "    DTCol_source = 'ObservationEntryDateTime'\n",
    "    df[DTCol] = df[DTCol_source]\n",
    "    df[DTCol] = pd.to_datetime(df[DTCol]) + pd.to_timedelta(df['DT_tz'], 'm')\n",
    "    assert df[DTCol].isna().sum() == 0\n",
    "\n",
    "    DTCol = 'DT_s'\n",
    "    DTCol_source = 'ObservationDateTime'\n",
    "    df[DTCol] = df[DTCol_source]\n",
    "    df[DTCol] = pd.to_datetime(df[DTCol]).apply(lambda x: None if x <= pd.to_datetime('2010-01-01') else x)\n",
    "    df[DTCol] = pd.to_datetime(df[DTCol]) + pd.to_timedelta(df['DT_tz'], 'm')\n",
    "    df[DTCol] = df[DTCol].fillna(df['DT_r'])\n",
    "    assert df[DTCol].isna().sum() == 0\n",
    "\n",
    "    DTCol = 'DT_e'\n",
    "    DTCol_source = None\n",
    "    # select\n",
    "    df['DT_e'] = df['DT_s'] + pd.to_timedelta(df['ExerciseDuration'], 'm')\n",
    "    assert df[DTCol].isna().sum() == 0\n",
    "   \n",
    "    # # x3. drop duplicates\n",
    "    df = df.drop_duplicates()\n",
    "\n",
    "    df['DT_tz'] = df['DT_tz'].fillna(0).astype(int)\n",
    "\n",
    "\n",
    "    \n",
    "\n",
    "    # 4. select a DT as the RecDT\n",
    "    # RecDT = 'DT_s'\n",
    "\n",
    "    def densify_timestamps(df):\n",
    "        time_interval = pd.Timedelta(minutes=31)\n",
    "        df_sorted = df.sort_values(by=['PatientID', 'DT_s']).copy()  # Ensure sorting\n",
    "\n",
    "        def adjust_group(group):\n",
    "            timestamps = group['DT_s'].tolist()\n",
    "            updated_timestamps = timestamps.copy()  # Preserve original order\n",
    "            i = 0\n",
    "            \n",
    "            while i < len(timestamps):\n",
    "                t1 = timestamps[i]\n",
    "                j = i + 1  # Start checking from the next timestamp\n",
    "                \n",
    "                # Adjust following timestamps if they fall within the 15-minute window\n",
    "                while j < len(timestamps) and timestamps[j] <= t1 + time_interval:\n",
    "                    updated_timestamps[j] = t1  # Set to t1\n",
    "                    j += 1\n",
    "                \n",
    "                i = j  # Move to the next unprocessed timestamp\n",
    "\n",
    "            group['DT_s'] = updated_timestamps\n",
    "            return group\n",
    "\n",
    "        # Apply to each patient group separately\n",
    "        columns = df_sorted.columns.tolist()\n",
    "        columns = [i for i in columns if i != 'PatientID']\n",
    "        df_updated = df_sorted.groupby('PatientID')[columns].apply(adjust_group)\n",
    "        \n",
    "        return df_updated\n",
    "    \n",
    "\n",
    "    df = densify_timestamps(df)\n",
    "\n",
    "    DTCol_list = ['DT_s', \n",
    "                  'DT_r', \n",
    "                  'DT_e',\n",
    "                  ] # \n",
    "    for DTCol in DTCol_list:\n",
    "        # DateTimeUnit ='5Min'\n",
    "        date = df[DTCol].dt.date.astype(str)\n",
    "        hour = df[DTCol].dt.hour.astype(str)\n",
    "        minutes = ((df[DTCol].dt.minute / 5).astype(int) * 5).astype(str)\n",
    "        df[DTCol] = pd.to_datetime(date + ' ' + hour +':' + minutes + ':' + '00')\n",
    "\n",
    "    df = df.drop_duplicates()\n",
    "    df['ExerciseDuration'] = df['ExerciseDuration'].astype(float)\n",
    "\n",
    "    RawHumanID = OneRecord_Args['RawHumanID']\n",
    "    RecDT = 'DT_s'\n",
    "    df = df.groupby([RawHumanID, RecDT]).agg(\n",
    "        {\n",
    "            # 'PatientID': 'first',\n",
    "            'DT_r': 'first',\n",
    "            'DT_tz': 'first',\n",
    "\n",
    "            \"ExerciseType\": lambda x: \"; \".join(x),\n",
    "            \"ExerciseIntensity\": \"first\",\n",
    "            'ExerciseDuration': 'sum', # should this be sum?\n",
    "            \"CaloriesBurned\": \"sum\",\n",
    "            'DistanceInMeters': 'sum',\n",
    "            \"ActivityType\": \"first\",\n",
    "        }\n",
    "    ).reset_index()\n",
    "    df['time_to_last_entry'] = df.groupby('PatientID', group_keys=False)['DT_s'].diff().dt.total_seconds() / 60 / 5\n",
    "    # ----------------------------------------------------------------- #\n",
    "\n",
    "    # drop the ExerciseDuration > 1000\n",
    "    df = df[df['ExerciseDuration'] <= 120].reset_index(drop=True)\n",
    "    df = df[df['ExerciseDuration'] >=5].reset_index(drop=True)\n",
    "    \n",
    "    df_RawRecProc = df\n",
    "    return df_RawRecProc \n",
    "## %%%%%%%%%%%%%%%%%%%%% user\n",
    "\n",
    "get_RawRecProc_for_HumanGroup.fn_string = inspect.getsource(get_RawRecProc_for_HumanGroup)"
   ]
  },
  {
   "cell_type": "code",
   "execution_count": null,
   "id": "c2a97f25",
   "metadata": {},
   "outputs": [],
   "source": [
    "print('df_RawRec_for_HumanGroup:', df_RawRec_for_HumanGroup.shape)\n",
    "df_RawRecProc_for_HumanGroup = get_RawRecProc_for_HumanGroup(df_RawRec_for_HumanGroup, OneRecord_Args, df_Human)\n",
    "print('df_RawRecProc_for_HumanGroup:', df_RawRecProc_for_HumanGroup.shape)\n",
    "df_RawRecProc_for_HumanGroup "
   ]
  },
  {
   "cell_type": "markdown",
   "id": "9663f979",
   "metadata": {},
   "source": [
    "# Step 10: Get dfRecAttr from dfRawRec"
   ]
  },
  {
   "cell_type": "code",
   "execution_count": null,
   "id": "088bea78",
   "metadata": {},
   "outputs": [],
   "source": [
    "df_RecAttr_for_HumanGroup = record.get_dfRecAttr_from_dfRawRec(df_RawRecProc_for_HumanGroup, OneRecord_Args, RecordPrtInfo)\n",
    "df_RecAttr_for_HumanGroup"
   ]
  },
  {
   "cell_type": "markdown",
   "id": "06f88821",
   "metadata": {},
   "source": [
    "# Step 11: Attr_Cols"
   ]
  },
  {
   "cell_type": "code",
   "execution_count": null,
   "id": "f5cd57dc",
   "metadata": {},
   "outputs": [],
   "source": [
    "## %%%%%%%%%%%%%%%%%%%%% user\n",
    "attr_cols = [\n",
    "    'PID', 'PatientID', 'Exercise5MinID',\n",
    "    'DT_tz', 'DT_r', 'DT_s', # 'DT_e', \n",
    "    # ----- Value\n",
    "    # 'EntryType',\n",
    "    'ExerciseDuration', 'ExerciseIntensity', 'CaloriesBurned','DistanceInMeters',\n",
    "    # 'ActivityTypeID', \n",
    "    'ExerciseType',\n",
    "    'time_to_last_entry',\n",
    "    ]\n",
    "\n",
    "## %%%%%%%%%%%%%%%%%%%%% user"
   ]
  },
  {
   "cell_type": "code",
   "execution_count": null,
   "id": "fa3ebaa7",
   "metadata": {},
   "outputs": [],
   "source": [
    "df_RecAttr_for_HumanGroup = df_RecAttr_for_HumanGroup[attr_cols].reset_index(drop=True)\n",
    "df_RecAttr_for_HumanGroup"
   ]
  },
  {
   "cell_type": "markdown",
   "id": "28cd52d9",
   "metadata": {},
   "source": [
    "# Step 12: ds_RecAttr"
   ]
  },
  {
   "cell_type": "code",
   "execution_count": null,
   "id": "dc87ff97",
   "metadata": {},
   "outputs": [],
   "source": [
    "ds_RecAttr = record.get_dsRecAttr(OneRecord_Args = OneRecord_Args, \n",
    "                                  human = human, \n",
    "                                  RawName_to_RawConfig = RawName_to_RawConfig,\n",
    "                                  attr_cols = attr_cols,\n",
    "                                  get_RawRecProc_for_HumanGroup = get_RawRecProc_for_HumanGroup,\n",
    "                                  record_prt = record_prt, \n",
    "                                  RecordPrtInfo = RecordPrtInfo)\n",
    "ds_RecAttr"
   ]
  },
  {
   "cell_type": "code",
   "execution_count": null,
   "id": "8ef2000b",
   "metadata": {},
   "outputs": [],
   "source": [
    "df = ds_RecAttr.to_pandas()\n",
    "df['ExerciseDuration'].describe()"
   ]
  },
  {
   "cell_type": "code",
   "execution_count": null,
   "id": "636d5ab8",
   "metadata": {},
   "outputs": [],
   "source": [
    "df"
   ]
  },
  {
   "cell_type": "markdown",
   "id": "cec78ae7",
   "metadata": {},
   "source": [
    "# Step 13: ds_RecIndex"
   ]
  },
  {
   "cell_type": "code",
   "execution_count": null,
   "id": "2acd40f4",
   "metadata": {},
   "outputs": [],
   "source": [
    "ds_RecIndex = record.get_dsRecIndex(OneHuman_Args, OneRecord_Args, ds_RecAttr)\n",
    "ds_RecIndex"
   ]
  },
  {
   "cell_type": "code",
   "execution_count": null,
   "id": "58db6aa4",
   "metadata": {},
   "outputs": [],
   "source": [
    "ds_RecIndex.to_pandas()"
   ]
  },
  {
   "cell_type": "markdown",
   "id": "ceb99f4a",
   "metadata": {},
   "source": [
    "# Step 14: Save Fn"
   ]
  },
  {
   "cell_type": "code",
   "execution_count": null,
   "id": "1c3fe922-f168-4545-abf4-2c7b3fac9ba3",
   "metadata": {},
   "outputs": [],
   "source": [
    "pypath = record.pypath\n",
    "print(pypath)\n",
    "\n",
    "from recfldtkn.base import Base \n",
    "prefix = ['import pandas as pd', 'import numpy as np']\n",
    "iterative_variables = [OneRecord_Args, RawName_to_RawConfig, attr_cols]\n",
    "fn_variables = [get_RawRecProc_for_HumanGroup]\n",
    "pycode = Base.convert_variables_to_pystirng(fn_variables = fn_variables, \n",
    "                                            iterative_variables = iterative_variables,\n",
    "                                            prefix = prefix)\n",
    "if not os.path.exists(os.path.dirname(pypath)): os.makedirs(os.path.dirname(pypath))\n",
    "with open(pypath, 'w') as file: file.write(pycode)"
   ]
  },
  {
   "cell_type": "markdown",
   "id": "12460598",
   "metadata": {},
   "source": [
    "# Step 15: Test"
   ]
  },
  {
   "cell_type": "code",
   "execution_count": null,
   "id": "e3023543",
   "metadata": {},
   "outputs": [],
   "source": [
    "from recfldtkn.record_base.cohort import CohortFn, Cohort\n",
    "from config.config_record.Cohort import CohortName_to_OneCohortArgs\n",
    "\n",
    "# %%%%%%%%%%%%%%%%%%%%% user\n",
    "# CohortName = 'WellDoc2023CVSDeRx'\n",
    "OneCohort_Args = CohortName_to_OneCohortArgs[CohortName]\n",
    "# %%%%%%%%%%%%%%%%%%%%%\n",
    "\n",
    "Source2CohortName = OneCohort_Args['Source2CohortName']\n",
    "cohort_fn = CohortFn(Source2CohortName, SPACE)\n",
    "cohort = Cohort(OneCohort_Args, SPACE, cohort_fn)\n",
    "cohort.setup_fn(cohort_fn)\n",
    "cohort.initialize_cohort(load_data = True)"
   ]
  },
  {
   "cell_type": "code",
   "execution_count": null,
   "id": "290dce45",
   "metadata": {},
   "outputs": [],
   "source": [
    "from recfldtkn.record_base.human import HumanFn, Human   \n",
    "\n",
    "# %%%%%%%%%%%%%%%%%%%%% user\n",
    "HumanName = 'P'\n",
    "# %%%%%%%%%%%%%%%%%%%%% user\n",
    "\n",
    "human_fn = HumanFn(HumanName, SPACE)\n",
    "human = Human(HumanName, cohort, human_fn)\n",
    "human.setup_fn(human_fn)\n",
    "human.initialize_human(load_data = True)"
   ]
  },
  {
   "cell_type": "code",
   "execution_count": null,
   "id": "0b69536e",
   "metadata": {},
   "outputs": [],
   "source": [
    "RecordName"
   ]
  },
  {
   "cell_type": "code",
   "execution_count": null,
   "id": "343a16ba",
   "metadata": {},
   "outputs": [],
   "source": [
    "from recfldtkn.record_base.record import RecordFn, Record\n",
    "# %%%%%%%%%%%%%%%%%%%%%\n",
    "# RecordName = 'Exercise' # Pat\n",
    "# RecordName = 'Exercise5Min'\n",
    "# %%%%%%%%%%%%%%%%%%%%%\n",
    "\n",
    "record = Record(RecordName, human)\n",
    "record.setup_fn()\n",
    "record.setup_prt() # <--- you can also put a given record_prt here.\n",
    "record.initialize_record()    "
   ]
  },
  {
   "cell_type": "code",
   "execution_count": null,
   "id": "b1ecb093",
   "metadata": {},
   "outputs": [],
   "source": [
    "record.ds_RecAttr"
   ]
  },
  {
   "cell_type": "code",
   "execution_count": null,
   "id": "79b2ce9b",
   "metadata": {},
   "outputs": [],
   "source": [
    "record.ds_RecIndex"
   ]
  },
  {
   "cell_type": "code",
   "execution_count": null,
   "id": "c242a6ce",
   "metadata": {},
   "outputs": [],
   "source": [
    " "
   ]
  },
  {
   "cell_type": "code",
   "execution_count": null,
   "id": "48aeab9d",
   "metadata": {},
   "outputs": [],
   "source": []
  },
  {
   "cell_type": "code",
   "execution_count": null,
   "id": "a87e1976",
   "metadata": {},
   "outputs": [],
   "source": []
  }
 ],
 "metadata": {
  "kernelspec": {
   "display_name": "torch",
   "language": "python",
   "name": "python3"
  },
  "language_info": {
   "codemirror_mode": {
    "name": "ipython",
    "version": 3
   },
   "file_extension": ".py",
   "mimetype": "text/x-python",
   "name": "python",
   "nbconvert_exporter": "python",
   "pygments_lexer": "ipython3",
   "version": "3.10.14"
  },
  "toc": {
   "base_numbering": 1,
   "nav_menu": {},
   "number_sections": true,
   "sideBar": true,
   "skip_h1_title": false,
   "title_cell": "Table of Contents",
   "title_sidebar": "Contents",
   "toc_cell": false,
   "toc_position": {
    "height": "calc(100% - 180px)",
    "left": "10px",
    "top": "150px",
    "width": "165px"
   },
   "toc_section_display": true,
   "toc_window_display": true
  },
  "toc-autonumbering": true
 },
 "nbformat": 4,
 "nbformat_minor": 5
}