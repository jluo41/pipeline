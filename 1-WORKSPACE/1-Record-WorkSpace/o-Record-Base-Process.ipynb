{
 "cells": [
  {
   "cell_type": "markdown",
   "id": "6c938bf1",
   "metadata": {},
   "source": [
    "# Space\n"
   ]
  },
  {
   "cell_type": "code",
   "execution_count": null,
   "id": "1c872edd",
   "metadata": {},
   "outputs": [],
   "source": [
    "import sys\n",
    "import os \n",
    "import logging\n",
    "import pandas as pd\n",
    "from pprint import pprint \n",
    "from IPython.display import display, HTML\n",
    "\n",
    "KEY = '1-WORKSPACE'\n",
    "WORKSPACE_PATH = os.getcwd().split(KEY)[0]\n",
    "print(WORKSPACE_PATH); os.chdir(WORKSPACE_PATH)\n",
    "logger = logging.getLogger(__name__)\n",
    "logging.basicConfig(level=logging.INFO, format='[%(levelname)s:%(asctime)s:(%(filename)s@%(lineno)d %(name)s)]: %(message)s')\n",
    "\n",
    "SPACE = {\n",
    "    'DATA_RAW': f'./_Data/0-Data_Raw',\n",
    "    'DATA_RFT': f'./_Data/1-Data_RFT',\n",
    "    'DATA_CASE': f'./_Data/2-Data_CASE',\n",
    "    'DATA_AIDATA': f'./_Data/3-Data_AIDATA',\n",
    "    'DATA_EXTERNAL': f'./code/external',\n",
    "    'CODE_FN': f'./code/pipeline', \n",
    "}\n",
    "assert os.path.exists(SPACE['CODE_FN']), f'{SPACE[\"CODE_FN\"]} not found'\n",
    "\n",
    "print(SPACE['CODE_FN'])\n",
    "sys.path.append(SPACE['CODE_FN'])"
   ]
  },
  {
   "cell_type": "markdown",
   "id": "35aca990",
   "metadata": {},
   "source": [
    "# Step 1: OneCohort Record Base"
   ]
  },
  {
   "cell_type": "code",
   "execution_count": null,
   "id": "d59920d2",
   "metadata": {},
   "outputs": [],
   "source": [
    "from config.config_record.Cohort import CohortName_to_OneCohortArgs\n",
    "CohortNames = [i for i in CohortName_to_OneCohortArgs.keys()]\n",
    "print(CohortNames)"
   ]
  },
  {
   "cell_type": "code",
   "execution_count": null,
   "id": "df109c21",
   "metadata": {},
   "outputs": [],
   "source": [
    "# from recfldtkn.record_base import OneCohort_Record_Base\n",
    "from recfldtkn.record_base import Record_Base\n",
    "\n",
    "\n",
    "#########################################\n",
    "CohortName_list = [\n",
    "    'WellDoc2022CGM', \n",
    "    # 'WellDoc2023CVSDeRx',\n",
    "    # 'WellDoc2025ALS', \n",
    "]\n",
    "\n",
    "HumanRecordRecfeat_Args = {\n",
    "    # Human\n",
    "    'P': {\n",
    "        # --------------------- patient ---------------------\n",
    "        'P': [],  # patient\n",
    "        'CGM5Min': [], # CGM5Min\n",
    "        'Diet5Min': [], # Diet5Min\n",
    "        'Exercise5Min': [], # Exercise5Min\n",
    "        'Med5Min': [], # Med5Min.\n",
    "    }\n",
    "}\n",
    "\n",
    "Record_Proc_Config = {'save_data': True, 'load_data':True, 'via_method': 'ds'}\n",
    "Inference_Entry = None \n",
    "#########################################\n",
    "\n",
    "\n",
    "record_base = Record_Base(CohortName_list, \n",
    "                        HumanRecordRecfeat_Args,\n",
    "                        CohortName_to_OneCohortArgs,\n",
    "                        SPACE = SPACE, \n",
    "                        Inference_Entry = Inference_Entry,\n",
    "                        Record_Proc_Config = Record_Proc_Config)\n",
    "record_base"
   ]
  },
  {
   "cell_type": "code",
   "execution_count": null,
   "id": "28f7837a",
   "metadata": {},
   "outputs": [],
   "source": [
    "record_base.CohortName_to_OneCohortRecordBase"
   ]
  },
  {
   "cell_type": "code",
   "execution_count": null,
   "id": "22bf7628",
   "metadata": {},
   "outputs": [],
   "source": [
    "CohortName = CohortName_list[0]\n",
    "CohortName"
   ]
  },
  {
   "cell_type": "code",
   "execution_count": null,
   "id": "cae9ed1e",
   "metadata": {},
   "outputs": [],
   "source": [
    "onecohort_record_base = record_base.CohortName_to_OneCohortRecordBase[CohortName]\n",
    "onecohort_record_base"
   ]
  },
  {
   "cell_type": "code",
   "execution_count": null,
   "id": "2024c557",
   "metadata": {},
   "outputs": [],
   "source": [
    "onecohort_record_base.Name_to_HRF\n",
    "\n",
    "# P: patient \n",
    "# ('P', 'P') # (First: HumanType: Patient, Second: RecordType: Patient)\n",
    "\n",
    "\n",
    "\n",
    "# (Student, Class) # StudentID, ClassID\n",
    "# (Teacher, Class) # TeacherID, ClassID\n",
    "\n",
    "\n",
    "# ('P',      'Diet5Min') # PatientID, Diet5MinID\n",
    "# ('P',      'Diet5Min') # (First: HumanType: Patient, Second: RecordType: Diet5Min) # PID, Diet5MinID\n",
    "# ('Doctor', 'Diet5Min') # (First: HumanType: Doctor, Second: RecordType: Diet5Min)  # DoctorID, Diet5MinID\n",
    "\n",
    "\n",
    "# 'P', 'Med5Min'"
   ]
  },
  {
   "cell_type": "code",
   "execution_count": null,
   "id": "e941666d",
   "metadata": {},
   "outputs": [],
   "source": [
    "# where we get this df_Human. \n",
    "# directory \n",
    "human_p = onecohort_record_base.Name_to_HRF['P']\n",
    "human_p.df_Human"
   ]
  },
  {
   "cell_type": "code",
   "execution_count": null,
   "id": "8331e80b",
   "metadata": {},
   "outputs": [],
   "source": [
    "# rec_p.RecAttr.to_pandas()\n",
    "rec = onecohort_record_base.Name_to_HRF[('P', 'P')]\n",
    "# pprint(rec_diet5min.RawName_to_RawConfig, sort_dicts=False)\n",
    "rec.OneRecord_Args\n",
    "rec.ds_RecAttr.to_pandas()"
   ]
  },
  {
   "cell_type": "code",
   "execution_count": null,
   "id": "e3a0820c",
   "metadata": {},
   "outputs": [],
   "source": [
    "# rec_p.RecAttr.to_pandas()\n",
    "rec = onecohort_record_base.Name_to_HRF[('P', 'CGM5Min')]\n",
    "# pprint(rec_diet5min.RawName_to_RawConfig, sort_dicts=False)\n",
    "rec.OneRecord_Args\n",
    "rec.ds_RecAttr.to_pandas()"
   ]
  },
  {
   "cell_type": "code",
   "execution_count": null,
   "id": "f6a5987c",
   "metadata": {},
   "outputs": [],
   "source": [
    "# rec_p.RecAttr.to_pandas()\n",
    "rec = onecohort_record_base.Name_to_HRF[('P', 'Exercise5Min')]\n",
    "# pprint(rec_diet5min.RawName_to_RawConfig, sort_dicts=False)\n",
    "rec.OneRecord_Args\n",
    "rec.ds_RecAttr.to_pandas()"
   ]
  },
  {
   "cell_type": "code",
   "execution_count": null,
   "id": "b3d29fec",
   "metadata": {},
   "outputs": [],
   "source": [
    "# rec_p.RecAttr.to_pandas()\n",
    "rec = onecohort_record_base.Name_to_HRF[('P', 'Med5Min')]\n",
    "pprint(rec.RawName_to_RawConfig, sort_dicts=False)\n",
    "rec.OneRecord_Args\n",
    "rec.ds_RecAttr.to_pandas()"
   ]
  },
  {
   "cell_type": "code",
   "execution_count": null,
   "id": "a5fcd1c0",
   "metadata": {},
   "outputs": [],
   "source": [
    "# rec_p.RecAttr.to_pandas()\n",
    "rec = onecohort_record_base.Name_to_HRF[('P', 'Diet5Min')]\n",
    "pprint(rec.RawName_to_RawConfig, sort_dicts=False)\n",
    "rec.OneRecord_Args\n",
    "rec.ds_RecAttr.to_pandas()"
   ]
  },
  {
   "cell_type": "code",
   "execution_count": null,
   "id": "bfe9d35f",
   "metadata": {},
   "outputs": [],
   "source": []
  }
 ],
 "metadata": {
  "kernelspec": {
   "display_name": "torch",
   "language": "python",
   "name": "python3"
  },
  "language_info": {
   "codemirror_mode": {
    "name": "ipython",
    "version": 3
   },
   "file_extension": ".py",
   "mimetype": "text/x-python",
   "name": "python",
   "nbconvert_exporter": "python",
   "pygments_lexer": "ipython3",
   "version": "3.11.9"
  },
  "toc": {
   "base_numbering": 1,
   "nav_menu": {},
   "number_sections": true,
   "sideBar": true,
   "skip_h1_title": false,
   "title_cell": "Table of Contents",
   "title_sidebar": "Contents",
   "toc_cell": false,
   "toc_position": {
    "height": "calc(100% - 180px)",
    "left": "10px",
    "top": "150px",
    "width": "165px"
   },
   "toc_section_display": true,
   "toc_window_display": true
  },
  "toc-autonumbering": true
 },
 "nbformat": 4,
 "nbformat_minor": 5
}