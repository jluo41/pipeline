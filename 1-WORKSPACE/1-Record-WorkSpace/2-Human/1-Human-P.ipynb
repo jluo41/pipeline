{
 "cells": [
  {
   "cell_type": "markdown",
   "id": "5ab3f242",
   "metadata": {},
   "source": [
    "# Space"
   ]
  },
  {
   "cell_type": "code",
   "execution_count": null,
   "id": "80023bfe",
   "metadata": {},
   "outputs": [],
   "source": [
    "import sys\n",
    "import os \n",
    "import logging\n",
    "import pandas as pd\n",
    "from pprint import pprint \n",
    "from IPython.display import display, HTML\n",
    "\n",
    "KEY = '1-WORKSPACE'\n",
    "WORKSPACE_PATH = os.getcwd().split(KEY)[0]\n",
    "print(WORKSPACE_PATH); os.chdir(WORKSPACE_PATH)\n",
    "logger = logging.getLogger(__name__)\n",
    "logging.basicConfig(level=logging.INFO, format='[%(levelname)s:%(asctime)s:(%(filename)s@%(lineno)d %(name)s)]: %(message)s')\n",
    "\n",
    "SPACE = {\n",
    "    'DATA_RAW': f'./_Data/0-Data_Raw',\n",
    "    'DATA_RFT': f'./_Data/1-Data_RFT',\n",
    "    'DATA_CASE': f'./_Data/2-Data_CASE',\n",
    "    'DATA_AIDATA': f'./_Data/3-Data_AIDATA',\n",
    "    'DATA_EXTERNAL': f'./code/external',\n",
    "    'CODE_FN': f'./code/pipeline', \n",
    "}\n",
    "assert os.path.exists(SPACE['CODE_FN']), f'{SPACE[\"CODE_FN\"]} not found'\n",
    "\n",
    "print(SPACE['CODE_FN'])\n",
    "sys.path.append(SPACE['CODE_FN'])"
   ]
  },
  {
   "cell_type": "markdown",
   "id": "275cb063",
   "metadata": {},
   "source": [
    "# Step 1: Prepare Cohort"
   ]
  },
  {
   "cell_type": "code",
   "execution_count": null,
   "id": "21804066",
   "metadata": {},
   "outputs": [],
   "source": [
    "from recfldtkn.base import Base\n",
    "from recfldtkn.record_base.cohort import CohortFn, Cohort\n",
    "from config.config_record.Cohort import CohortName_to_OneCohortArgs\n",
    "\n",
    "# %%%%%%%%%%%%%%%%%%%%% user\n",
    "# CohortName = 'WellDoc2022CGM'\n",
    "# CohortName = 'WellDoc2023CVSDeRx'\n",
    "# CohortName = 'WellDoc2023CVSTDC'\n",
    "\n",
    "\n",
    "\n",
    "# CohortName = 'WellDoc2025CVS'\n",
    "# CohortName = 'WellDoc2025ALS'\n",
    "\n",
    "\n",
    "CohortName = 'WellDoc2025LLY'\n",
    "# CohortName = 'WellDoc2025LLY_1n3'\n",
    "# CohortName = 'WellDoc2025LLY_2n3'\n",
    "# CohortName = 'WellDoc2025LLY_3n3'\n",
    "\n",
    "# CohortName = 'aireadi-noimage-v2'\n",
    "OneCohort_Args = CohortName_to_OneCohortArgs[CohortName]\n",
    "# %%%%%%%%%%%%%%%%%%%%%\n",
    "\n",
    "Source2CohortName = OneCohort_Args['Source2CohortName']\n",
    "cohort_fn = CohortFn(Source2CohortName, SPACE)\n",
    "cohort = Cohort(OneCohort_Args, SPACE, cohort_fn)\n",
    "cohort.setup_fn(cohort_fn)\n",
    "cohort.initialize_cohort()"
   ]
  },
  {
   "cell_type": "code",
   "execution_count": null,
   "id": "611d2f26",
   "metadata": {},
   "outputs": [],
   "source": [
    "RawName_to_dfRaw  = cohort.RawName_to_dfRaw\n",
    "RawName_to_dfRaw_Type = cohort.get_RawName_to_dfRaw_Type(RawName_to_dfRaw)\n",
    "print(RawName_to_dfRaw_Type)\n",
    "\n",
    "pprint(RawName_to_dfRaw, sort_dicts=False)"
   ]
  },
  {
   "cell_type": "code",
   "execution_count": null,
   "id": "2cf7c707",
   "metadata": {},
   "outputs": [],
   "source": [
    "# RawName_to_dfRaw  = cohort.RawName_to_dfRaw\n",
    "# RawName_to_dfRaw_Type = cohort.get_RawName_to_dfRaw_Type(RawName_to_dfRaw)\n",
    "# print(RawName_to_dfRaw_Type)\n",
    "\n",
    "# pprint(RawName_to_dfRaw, sort_dicts=False)"
   ]
  },
  {
   "cell_type": "markdown",
   "id": "16a53ca0",
   "metadata": {},
   "source": [
    "# Step 2: OneHuman_Args"
   ]
  },
  {
   "cell_type": "code",
   "execution_count": null,
   "id": "4d180923",
   "metadata": {},
   "outputs": [],
   "source": [
    "from recfldtkn.record_base.human import Human   \n",
    "\n",
    "HumanName = 'P'\n",
    "human_fn = None\n",
    "human = Human(HumanName, cohort, human_fn)"
   ]
  },
  {
   "cell_type": "code",
   "execution_count": null,
   "id": "23fb77cf",
   "metadata": {},
   "outputs": [],
   "source": [
    "# %%%%%%%%%%%%%%%%%%%%% user\n",
    "OneHuman_Args = {\n",
    "    'HumanName': 'P', \n",
    "    'HumanID': 'PID', \n",
    "    'RawHumanID': 'PatientID', \n",
    "    'HumanIDLength': 10,\n",
    "}\n",
    "# %%%%%%%%%%%%%%%%%%%%% user"
   ]
  },
  {
   "cell_type": "markdown",
   "id": "171922c5",
   "metadata": {},
   "source": [
    "# Step 3: Get RawHumanID from dfRawColumns"
   ]
  },
  {
   "cell_type": "code",
   "execution_count": null,
   "id": "657fa5ca",
   "metadata": {},
   "outputs": [],
   "source": [
    "import inspect \n",
    "\n",
    "# %%%%%%%%%%%%%%%%%%%%% user\n",
    "def get_RawHumanID_from_dfRawColumns(dfRawColumns):\n",
    "    RawHumanID_selected = None \n",
    "    if 'PatientID' in dfRawColumns: \n",
    "        RawHumanID_selected = 'PatientID'  \n",
    "    return RawHumanID_selected\n",
    "\n",
    "get_RawHumanID_from_dfRawColumns.fn_string = inspect.getsource(get_RawHumanID_from_dfRawColumns)\n",
    "# %%%%%%%%%%%%%%%%%%%%% user\n"
   ]
  },
  {
   "cell_type": "code",
   "execution_count": null,
   "id": "2b84be39",
   "metadata": {},
   "outputs": [],
   "source": [
    "human.display_dfRaw_with_Columns(RawName_to_dfRaw, get_RawHumanID_from_dfRawColumns)"
   ]
  },
  {
   "cell_type": "code",
   "execution_count": null,
   "id": "d1a2c4e8",
   "metadata": {},
   "outputs": [],
   "source": [
    "# CurriculumLessonProgressDetails"
   ]
  },
  {
   "cell_type": "markdown",
   "id": "0f0a3d4e",
   "metadata": {},
   "source": [
    "# Step 4: Excluded RawName List\n",
    "\n",
    "\n",
    "We only focus on the patients who have at least one records.\n",
    "\n",
    "But some table we don't want to consider it. For example, Patient Table. \n",
    "\n",
    "eg. \n",
    "\n",
    "patient A: PatientTable 1, ATable 0, BTable 0, CTable 0. \n",
    "\n",
    "patient B: PatientTable 1, ATable 1, BTable 0, CTable 0\n",
    "\n",
    "\n",
    "We don't want A because A's total record number except PatientTable is 0. \n",
    "We want B because B's total  record number except PatientTable is larger than 0.\n",
    "\n",
    "\n",
    "So we put `PatientTable` into `Excluded_RawNameList`.\n"
   ]
  },
  {
   "cell_type": "code",
   "execution_count": null,
   "id": "03f2abed",
   "metadata": {},
   "outputs": [],
   "source": [
    "# How to get the list. \n",
    "\n",
    "# initially, the list is empty\n",
    "# based on excluded_raw_table_name is empty\n",
    "# we will get the df_Human (df_Human2RawRecNum) at the end of this notebook.\n",
    "# Then, we will check the df_Human, and see if there is any table that we want to exclude.\n",
    "# if there is, we will add the table name to the excluded_raw_table_name list.\n",
    "\n",
    "# %%%%%%%%%%%%%%%%%%%%% user\n",
    "# Excluded_RawNameList = [] \n",
    "Excluded_RawNameList = [   'Patient', \n",
    "                           'QuestionResponse', \n",
    "                           'PatientBloodGlucoseTargets', \n",
    "                           'Rx', 'PatientObservationSummary', \n",
    "                           'PatientTargetSegment', 'TDC']\n",
    "# %%%%%%%%%%%%%%%%%%%%% user"
   ]
  },
  {
   "cell_type": "markdown",
   "id": "2b5ddaa1",
   "metadata": {},
   "source": [
    "# Step 5: Human2RawNum"
   ]
  },
  {
   "cell_type": "code",
   "execution_count": null,
   "id": "3d30bcf2",
   "metadata": {},
   "outputs": [],
   "source": [
    "cohort = cohort \n",
    "RawName_to_dfRaw = cohort.CohortInfo['RawName_to_dfRaw']\n",
    "OneHuman_Args = OneHuman_Args\n",
    "get_RawHumanID_from_dfRawColumns = get_RawHumanID_from_dfRawColumns\n",
    "Excluded_RawNameList = Excluded_RawNameList\n",
    "\n",
    "df_Human2RawNum = human.get_df_Human2RawNum_on_RawNameTodfRaw(cohort, \n",
    "                                                                RawName_to_dfRaw, \n",
    "                                                                OneHuman_Args,\n",
    "                                                                get_RawHumanID_from_dfRawColumns, \n",
    "                                                                Excluded_RawNameList, \n",
    "                                                                )"
   ]
  },
  {
   "cell_type": "code",
   "execution_count": null,
   "id": "9aef6d9a",
   "metadata": {},
   "outputs": [],
   "source": [
    "df_Human2RawNum.columns"
   ]
  },
  {
   "cell_type": "code",
   "execution_count": null,
   "id": "ce611c44",
   "metadata": {},
   "outputs": [],
   "source": [
    "df_Human2RawNum"
   ]
  },
  {
   "cell_type": "code",
   "execution_count": null,
   "id": "31083d8b",
   "metadata": {},
   "outputs": [],
   "source": [
    "# (df_Human2RawNum['ELogFoodItem'] > 0).sum()"
   ]
  },
  {
   "cell_type": "code",
   "execution_count": null,
   "id": "71262a50",
   "metadata": {},
   "outputs": [],
   "source": [
    "print(CohortName, df_Human2RawNum['ElogBGEntry'].sum())\n",
    "\n",
    "# WellDoc2025LLY_1n3 20395361.0\n",
    "# WellDoc2025LLY_2n3 20648519.0\n",
    "# WellDoc2025LLY_3n3 13665602.0"
   ]
  },
  {
   "cell_type": "code",
   "execution_count": null,
   "id": "1e9f5abe",
   "metadata": {},
   "outputs": [],
   "source": [
    "20395361 + 20648519 + 13665602"
   ]
  },
  {
   "cell_type": "code",
   "execution_count": null,
   "id": "6dc35aae",
   "metadata": {},
   "outputs": [],
   "source": [
    "# df_Human2RawNum['ElogBGEntry'].describe()"
   ]
  },
  {
   "cell_type": "code",
   "execution_count": null,
   "id": "2d95d0c0",
   "metadata": {},
   "outputs": [],
   "source": [
    "# (df_Human2RawNum['ElogBGEntry'] > 0).sum()"
   ]
  },
  {
   "cell_type": "code",
   "execution_count": null,
   "id": "dde2a2fc",
   "metadata": {},
   "outputs": [],
   "source": [
    "# df_Human2RawNum.columns"
   ]
  },
  {
   "cell_type": "markdown",
   "id": "cded7769",
   "metadata": {},
   "source": [
    "# Step 6: Save Human Fn"
   ]
  },
  {
   "cell_type": "code",
   "execution_count": null,
   "id": "edbc98ff",
   "metadata": {},
   "outputs": [],
   "source": [
    "pypath = human.pypath \n",
    "\n",
    "prefix = [\n",
    "    'import os',\n",
    "    'import pandas as pd', \n",
    "    'import numpy as np'\n",
    "    ]\n",
    "\n",
    "iterative_variables = [OneHuman_Args, Excluded_RawNameList]\n",
    "fn_variables = [get_RawHumanID_from_dfRawColumns]\n",
    "\n",
    "pycode = Base.convert_variables_to_pystirng(iterative_variables = iterative_variables, \n",
    "                                            fn_variables = fn_variables, \n",
    "                                            prefix = prefix)\n",
    "\n",
    "if not os.path.exists(os.path.dirname(pypath)): os.makedirs(os.path.dirname(pypath))\n",
    "# print(pypath)\n",
    "\n",
    "with open(pypath, 'w') as file: file.write(pycode)\n",
    "# Create a HTML link and display it\n",
    "full_path = os.path.join(WORKSPACE_PATH, pypath)\n",
    "\n",
    "display(HTML(f'{pypath} <a href=\"{full_path}\" target=\"_blank\">Open File</a>'))"
   ]
  },
  {
   "cell_type": "markdown",
   "id": "c43f6336",
   "metadata": {},
   "source": [
    "# Step 7: Test"
   ]
  },
  {
   "cell_type": "code",
   "execution_count": null,
   "id": "a07d8557",
   "metadata": {},
   "outputs": [],
   "source": [
    "from recfldtkn.record_base.cohort import CohortFn, Cohort\n",
    "from config.config_record.Cohort import CohortName_to_OneCohortArgs\n",
    "\n",
    "# %%%%%%%%%%%%%%%%%%%%% user\n",
    "# CohortName = 'WellDoc2023CVSDeRx'\n",
    "# CohortName = 'WellDoc2022CGM'\n",
    "OneCohort_Args = CohortName_to_OneCohortArgs[CohortName]\n",
    "# %%%%%%%%%%%%%%%%%%%%%\n",
    "\n",
    "Source2CohortName = OneCohort_Args['Source2CohortName']\n",
    "cohort_fn = CohortFn(Source2CohortName, SPACE) # object of this class\n",
    "cohort = Cohort(OneCohort_Args, SPACE, cohort_fn)\n",
    "cohort.setup_fn(cohort_fn)\n",
    "cohort.initialize_cohort()"
   ]
  },
  {
   "cell_type": "code",
   "execution_count": null,
   "id": "944e8667",
   "metadata": {},
   "outputs": [],
   "source": [
    "from recfldtkn.record_base.human import HumanFn, Human   \n",
    "\n",
    "# %%%%%%%%%%%%%%%%%%%%% user\n",
    "HumanName = 'P'\n",
    "# %%%%%%%%%%%%%%%%%%%%% user\n",
    "\n",
    "human_fn = HumanFn(HumanName, SPACE)\n",
    "human = Human(HumanName, cohort, human_fn)\n",
    "human.setup_fn(human_fn)\n",
    "human.initialize_human(load_data=False)"
   ]
  },
  {
   "cell_type": "code",
   "execution_count": null,
   "id": "cb151a81",
   "metadata": {},
   "outputs": [],
   "source": [
    "human.df_Human"
   ]
  },
  {
   "cell_type": "code",
   "execution_count": null,
   "id": "cb151a81",
   "metadata": {},
   "outputs": [],
   "source": [
    "human.df_Human.columns"
   ]
  },
  {
   "cell_type": "markdown",
   "id": "25fe3455",
   "metadata": {},
   "source": [
    "# Step 8: Select Human"
   ]
  },
  {
   "cell_type": "code",
   "execution_count": null,
   "id": "c5d4f718",
   "metadata": {},
   "outputs": [],
   "source": [
    "# human.df_Human.columns\n",
    "\n",
    "# df = human.df_Human.copy()\n",
    "\n",
    "# df = df[df['ElogBGEntry'] > 10000]\n",
    "# df = df[df['ElogBGEntry'] < 40000]\n",
    "# df = df[df['ElogWeightEntry'] > 10]\n",
    "# df = df[df['PatientHeight'] >= 1]\n",
    "# df = df[df['ELogFoodItem'] > 10]\n",
    "# df = df[df['ELogExerciseEntry'] > 10]\n",
    "# df = df[df['MedAdministration'] > 10]\n",
    "# df = df[df['SleepEntry'] > 10]\n",
    "\n",
    "\n",
    "# df_human_selected = df\n",
    "# df_human_selected\n",
    "\n",
    "\n",
    "# PID_to_RawName_to_dfRaw = {}\n",
    "# template_RawName_to_dfRaw = {}\n",
    "# for RawName in cohort.RawName_to_dfRaw:\n",
    "#     dfRaw_Path = cohort.RawName_to_dfRaw[RawName]\n",
    "#     print(f'\\n\\n{RawName}', dfRaw_Path)\n",
    "\n",
    "#     try:\n",
    "#         dfRaw = pd.read_csv(dfRaw_Path, low_memory= False)\n",
    "#     except:\n",
    "#         print(f'Error: {dfRaw_Path}')\n",
    "#         continue \n",
    "\n",
    "#     for idx, onehuman in df_human_selected.iterrows():\n",
    "#         # print(onehuman)\n",
    "#         PatientID = onehuman['PatientID']\n",
    "\n",
    "#         if PatientID not in PID_to_RawName_to_dfRaw:\n",
    "#             PID_to_RawName_to_dfRaw[PatientID] = {}\n",
    "\n",
    "#         RawName_to_dfRaw = PID_to_RawName_to_dfRaw[PatientID]\n",
    "\n",
    "        \n",
    "#         template_RawName_to_dfRaw[RawName] = dfRaw.iloc[0:0].to_dict('list')\n",
    "#         if 'PatientID' in dfRaw.columns:\n",
    "#             PatientID_column = 'PatientID'\n",
    "#         elif 'PatientId' in dfRaw.columns:\n",
    "#             PatientID_column = 'PatientId'\n",
    "#             print('***PatientID is not the column name, PatientId is the column name**')\n",
    "#         elif 'UserID' in dfRaw.columns:\n",
    "#             PatientID_column = 'UserID'\n",
    "#             print('***PatientID is not the column name, UserID is the column name**')\n",
    "#         else:\n",
    "#             # raise ValueError(f'Error: {RawName}')\n",
    "#             print(f'Error: {RawName}, now PatientID columns: {dfRaw.columns}')\n",
    "#             continue \n",
    "\n",
    "#         dfRaw_selected = dfRaw[dfRaw[PatientID_column] == PatientID]\n",
    "#         print(RawName, len(dfRaw_selected))\n",
    "#         RawName_to_dfRaw[RawName] = dfRaw_selected\n",
    "\n",
    "\n",
    "# # case\n",
    "# # PID + ObsDT\n",
    "# RawName_list\n",
    "\n",
    "# RawName_to_RawNameInfo = {\n",
    "#     'DT_column\": []\n",
    "# }\n",
    "\n",
    "# # RawName_list\n",
    "\n",
    "# [i for i in cohort.RawName_to_dfRaw]\n",
    "\n",
    "# # ObsPeriod\n",
    "\n",
    "# # from ObsDT - 2m, ObsDT\n",
    "\n",
    "# # PID + ObsDT\n",
    "# select * from TableName where PID = PID and Observatiions >= ObsDT - 2m and Observatiions <= ObsDT\n",
    "\n",
    "\n",
    "# df_table \n",
    "\n",
    "# df_table --> json. \n"
   ]
  },
  {
   "cell_type": "code",
   "execution_count": null,
   "metadata": {},
   "outputs": [],
   "source": [
    "# import json \n",
    "\n",
    "# for PID, RawName_to_dfRaw in PID_to_RawName_to_dfRaw.items():\n",
    "\n",
    "#     folder = os.path.join(SPACE['DATA_RAW'], 'Inference', 'patient_sample')\n",
    "#     PID = str(int(PID))\n",
    "#     path = os.path.join(folder, f'inference_form_sample_{PID}.json')\n",
    "#     d = {}\n",
    "#     d['PatientID'] = PID\n",
    "#     for RawName, dfRaw in RawName_to_dfRaw.items():\n",
    "#         d[RawName] = dfRaw.to_dict(orient='list')\n",
    "\n",
    "#     with open(path, 'w') as file:\n",
    "#         json.dump(d, file, indent=4)\n",
    "\n",
    "\n",
    "# pprint(d)\n",
    "\n",
    "\n",
    "# folder = os.path.join(SPACE['DATA_RAW'], 'Inference', 'patient_sample')\n",
    "# path = os.path.join(folder, f'inference_form_template.json')\n",
    "\n",
    "# d = template_RawName_to_dfRaw\n",
    "# with open(path, 'w') as file:\n",
    "#     json.dump(d, file, indent=4)"
   ]
  }
 ],
 "metadata": {
  "kernelspec": {
   "display_name": "torch",
   "language": "python",
   "name": "python3"
  },
  "language_info": {
   "codemirror_mode": {
    "name": "ipython",
    "version": 3
   },
   "file_extension": ".py",
   "mimetype": "text/x-python",
   "name": "python",
   "nbconvert_exporter": "python",
   "pygments_lexer": "ipython3",
   "version": "3.11.9"
  },
  "toc": {
   "base_numbering": 1,
   "nav_menu": {},
   "number_sections": true,
   "sideBar": true,
   "skip_h1_title": false,
   "title_cell": "Table of Contents",
   "title_sidebar": "Contents",
   "toc_cell": false,
   "toc_position": {},
   "toc_section_display": true,
   "toc_window_display": true
  }
 },
 "nbformat": 4,
 "nbformat_minor": 5
}