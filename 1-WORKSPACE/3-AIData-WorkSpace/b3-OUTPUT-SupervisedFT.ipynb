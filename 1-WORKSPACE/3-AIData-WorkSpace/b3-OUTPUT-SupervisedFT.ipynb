{
 "cells": [
  {
   "cell_type": "markdown",
   "metadata": {},
   "source": [
    "# Space"
   ]
  },
  {
   "cell_type": "code",
   "execution_count": null,
   "metadata": {},
   "outputs": [],
   "source": [
    "import sys\n",
    "import os \n",
    "import logging\n",
    "import pandas as pd\n",
    "from pprint import pprint \n",
    "from IPython.display import display, HTML\n",
    "\n",
    "KEY = '1-WORKSPACE'\n",
    "WORKSPACE_PATH = os.getcwd().split(KEY)[0]\n",
    "print(WORKSPACE_PATH); os.chdir(WORKSPACE_PATH)\n",
    "logger = logging.getLogger(__name__)\n",
    "logging.basicConfig(level=logging.INFO, format='[%(levelname)s:%(asctime)s:(%(filename)s@%(lineno)d %(name)s)]: %(message)s')\n",
    "\n",
    "SPACE = {\n",
    "    'DATA_RAW': f'_Data/0-Data_Raw',\n",
    "    'DATA_RFT': f'_Data/1-Data_RFT',\n",
    "    'DATA_CASE': f'_Data/2-Data_CASE',\n",
    "    'DATA_AIDATA': f'_Data/3-Data_AIDATA',\n",
    "    'DATA_EXTERNAL': f'code/external',\n",
    "    'CODE_FN': f'code/pipeline', \n",
    "}\n",
    "assert os.path.exists(SPACE['CODE_FN']), f'{SPACE[\"CODE_FN\"]} not found'\n",
    "\n",
    "print(SPACE['CODE_FN'])\n",
    "sys.path.append(SPACE['CODE_FN'])"
   ]
  },
  {
   "cell_type": "markdown",
   "metadata": {},
   "source": [
    "# CF Data"
   ]
  },
  {
   "cell_type": "code",
   "execution_count": null,
   "metadata": {},
   "outputs": [],
   "source": [
    "import datasets \n",
    "from recfldtkn.case_base.casefnutils.casefn import Case_Fn #  import AIDATA_ENTRYINPUT_PATH\n",
    "\n",
    "######################## get the CF_DataName list\n",
    "CF_DataName = 'CGMwithDietBf8h-CaseBase-CGM5MinEntry-31ec84c0520b37c1'\n",
    "CohortName_list = [\n",
    "    # 'WellDoc2022CGM',\n",
    "    'WellDoc2025ALS',\n",
    "    # 'WellDoc2025CVS', \n",
    "    # 'WellDoc2025LLY',\n",
    "]\n",
    "######################## \n",
    "\n",
    "######################## get the CF_DataName list\n",
    "CF_DataName_list = [\n",
    "    f'{CF_DataName}/{i}' for i in CohortName_list\n",
    "]\n",
    "########################\n",
    "\n",
    "ds_list = []\n",
    "ref_config = None\n",
    "ref_column_names = None\n",
    "for i, CF_DataName in enumerate(CF_DataName_list):\n",
    "    path = os.path.join(SPACE['DATA_AIDATA'], CF_DataName)\n",
    "    ds = datasets.load_from_disk(path)\n",
    "    print(CF_DataName, ds )\n",
    "    # config = copy.deepcopy(ds.info.config.__dict__) if hasattr(ds.info, 'config') else {}\n",
    "    config = ds.config_name\n",
    "    column_names = ds.column_names\n",
    "    ds_list.append(ds)\n",
    "\n",
    "# pprint(config)\n",
    "dataset = datasets.concatenate_datasets(ds_list)\n",
    "\n",
    "CF_list = list(set([i.split('--')[0] for i in dataset.column_names if '--tid' in i]))\n",
    "CF_fn_list = [Case_Fn(CF, SPACE) for CF in CF_list]\n",
    "CF_to_CFvocab = {CF: CF_fn.COVocab for CF, CF_fn in zip(CF_list, CF_fn_list)}\n",
    "\n",
    "CF_DataName = config['TriggerCaseBaseName']\n",
    "TriggerCaseBaseArgs = config['TriggerCaseBaseName_to_TriggerCaseBaseArgs'][CF_DataName]\n",
    "TriggerName = TriggerCaseBaseArgs['Trigger']['TriggerName']\n",
    "\n",
    "logger.info(f'set up TriggerName: {TriggerName}')\n",
    "logger.info(f'set up CF_Config: {[i for i in config]}')\n",
    "config['CF_to_CFvocab'] = CF_to_CFvocab\n",
    "\n",
    "print('total', dataset)"
   ]
  },
  {
   "cell_type": "code",
   "execution_count": null,
   "metadata": {},
   "outputs": [],
   "source": [
    "Data = {'ds_case': dataset}"
   ]
  },
  {
   "cell_type": "markdown",
   "metadata": {},
   "source": [
    "# OUTPUT 1: UniLabel"
   ]
  },
  {
   "cell_type": "markdown",
   "metadata": {},
   "source": [
    "## Args"
   ]
  },
  {
   "cell_type": "code",
   "execution_count": null,
   "metadata": {},
   "outputs": [],
   "source": [
    "OneEntryArgs = {\n",
    "    # ----------------- Input Part -----------------\n",
    "    'Input_Part': {\n",
    "        'EntryInputMethod': '1TknInStep',\n",
    "        'CF_list': [\n",
    "            'CGMValueBf24h',\n",
    "            'CGMValueAf2h',\n",
    "        ],\n",
    "        'BeforePeriods': ['Bf24h'],\n",
    "        'AfterPeriods': ['Af2h'],\n",
    "        'InferenceMode': False, # True, # True, # False, # True, \n",
    "        'TargetField': 'CGMValue', \n",
    "    }, \n",
    "\n",
    "    # ----------------- Output Part -----------------\n",
    "    'Output_Part': {\n",
    "        'EntryOutputMethod': 'SupervisedFT',\n",
    "        'AfStepNum': 24, \n",
    "        'set_transform': True,\n",
    "        'num_proc': 4, \n",
    "    },\n",
    "}\n",
    "\n",
    "# Data = {'df_case': caseset.df_case, 'ds_case': caseset.ds_case\n",
    "EntryOutputMethod = OneEntryArgs['Output_Part']['EntryOutputMethod']\n",
    "EntryInputMethod = OneEntryArgs['Input_Part']['EntryInputMethod']"
   ]
  },
  {
   "cell_type": "code",
   "execution_count": null,
   "metadata": {},
   "outputs": [],
   "source": [
    "from recfldtkn.aidata_base.entry import EntryAIData_Builder\n",
    "\n",
    "\n",
    "entry = EntryAIData_Builder(OneEntryArgs = OneEntryArgs, \n",
    "                            SPACE = SPACE)\n",
    "\n",
    "tfm_fn_AIInputData = entry.tfm_fn_AIInputData\n",
    "entry_fn_AIInputData = entry.entry_fn_AIInputData"
   ]
  },
  {
   "cell_type": "markdown",
   "metadata": {},
   "source": [
    "## Function"
   ]
  },
  {
   "cell_type": "code",
   "execution_count": null,
   "metadata": {},
   "outputs": [],
   "source": [
    "import inspect\n",
    "\n",
    "def get_OUTPUT_CFs(OneEntryArgs):\n",
    "    if 'Output_Part' not in OneEntryArgs:\n",
    "        return []\n",
    "    else:\n",
    "        return OneEntryArgs['Output_Part'].get('CF_list', [])\n",
    "get_OUTPUT_CFs.fn_string = inspect.getsource(get_OUTPUT_CFs)"
   ]
  },
  {
   "cell_type": "code",
   "execution_count": null,
   "metadata": {},
   "outputs": [],
   "source": [
    "import numpy as np \n",
    "\n",
    "\n",
    "def transform_fn_output(examples, tfm_fn_AIInputData, OneEntryArgs, CF_to_CFvocab):\n",
    "    examples_tfm = tfm_fn_AIInputData(examples, OneEntryArgs, CF_to_CFvocab)\n",
    "    # examples_tfm['labels'] = torch.LongTensor([[i] for i in examples['Labeling']])\n",
    "    AfStepNum = OneEntryArgs['Output_Part']['AfStepNum']\n",
    "    # assert AfStepNum == 24, 'AfStepNum must be 24'\n",
    "    examples_tfm['labels'] = examples_tfm['input_ids'].clone() \n",
    "    examples_tfm['labels'][:, :-AfStepNum] = -100\n",
    "    return examples_tfm\n",
    "\n",
    "transform_fn_output.fn_string = inspect.getsource(transform_fn_output)\n",
    "\n",
    "\n",
    "\n",
    "def entry_fn_AITaskData(Data, \n",
    "                        CF_to_CFvocab, \n",
    "                        OneEntryArgs,\n",
    "                        tfm_fn_AIInputData = None,\n",
    "                        entry_fn_AIInputData = None,\n",
    "                        ):\n",
    "\n",
    "    # InputCFs = OneEntryArgs['Input_FullArgs']['INPUT_CFs_Args']['InputCFs']\n",
    "    transform_fn = lambda examples: transform_fn_output(examples, tfm_fn_AIInputData, OneEntryArgs, CF_to_CFvocab)\n",
    "    ds_case = Data['ds_case']\n",
    "\n",
    "    if type(ds_case) == pd.DataFrame:\n",
    "        ds_case = datasets.Dataset.from_pandas(ds_case)\n",
    "        \n",
    "    # ds_case.set_transform(transform_fn)\n",
    "    # use_map = OneEntryArgs.get('use_map', False)\n",
    "    Output_Part = OneEntryArgs['Output_Part']\n",
    "    num_proc = Output_Part.get('num_proc', 4)\n",
    "    set_transform = Output_Part.get('set_transform', True)\n",
    "    if set_transform == True:\n",
    "        ds_case.set_transform(transform_fn)\n",
    "        ds_tfm = ds_case\n",
    "    else:\n",
    "        ds_tfm = ds_case.map(transform_fn, batched = True, num_proc = num_proc)\n",
    "\n",
    "    Data['ds_tfm'] = ds_tfm\n",
    "    \n",
    "    return Data\n",
    "\n",
    "entry_fn_AITaskData.fn_string = inspect.getsource(entry_fn_AITaskData)  "
   ]
  },
  {
   "cell_type": "code",
   "execution_count": null,
   "metadata": {},
   "outputs": [],
   "source": [
    "Data = entry_fn_AITaskData(Data, \n",
    "                           CF_to_CFvocab, \n",
    "                           OneEntryArgs,\n",
    "                           tfm_fn_AIInputData,\n",
    "                           entry_fn_AIInputData)\n",
    "\n",
    "ds_tfm = Data['ds_tfm']\n",
    "ds_tfm"
   ]
  },
  {
   "cell_type": "code",
   "execution_count": null,
   "metadata": {},
   "outputs": [],
   "source": [
    "batch = ds_tfm[:4]\n",
    "for k, v in batch.items():\n",
    "    print(k, v)"
   ]
  },
  {
   "cell_type": "code",
   "execution_count": null,
   "metadata": {},
   "outputs": [],
   "source": [
    "from recfldtkn.base import Base\n",
    "from recfldtkn.aidata_base.entry import AIDATA_ENTRYOUTPUT_PATH\n",
    "\n",
    "prefix = [\n",
    "    'import torch',\n",
    "    'import pandas as pd', \n",
    "    'import numpy as np', \n",
    "    'import datasets',\n",
    "    ]\n",
    "fn_variables = [\n",
    "    get_OUTPUT_CFs,\n",
    "    entry_fn_AITaskData,\n",
    "]\n",
    "pycode = Base.convert_variables_to_pystirng(fn_variables = fn_variables, prefix = prefix)\n",
    "pypath = os.path.join(SPACE['CODE_FN'], AIDATA_ENTRYOUTPUT_PATH, f'{EntryOutputMethod}.py')\n",
    "print(pypath)\n",
    "if not os.path.exists(os.path.dirname(pypath)): os.makedirs(os.path.dirname(pypath))\n",
    "with open(pypath, 'w') as file: file.write(pycode)"
   ]
  },
  {
   "cell_type": "code",
   "execution_count": null,
   "metadata": {},
   "outputs": [],
   "source": []
  }
 ],
 "metadata": {
  "kernelspec": {
   "display_name": "torch",
   "language": "python",
   "name": "python3"
  },
  "language_info": {
   "codemirror_mode": {
    "name": "ipython",
    "version": 3
   },
   "file_extension": ".py",
   "mimetype": "text/x-python",
   "name": "python",
   "nbconvert_exporter": "python",
   "pygments_lexer": "ipython3",
   "version": "3.11.10"
  }
 },
 "nbformat": 4,
 "nbformat_minor": 2
}