{
 "cells": [
  {
   "cell_type": "markdown",
   "id": "881d73c8-f12f-4a9b-a485-996a76289767",
   "metadata": {},
   "source": [
    "# Space"
   ]
  },
  {
   "cell_type": "code",
   "execution_count": null,
   "id": "d9b19d41",
   "metadata": {},
   "outputs": [],
   "source": [
    "import os\n",
    "import logging\n",
    "import pandas as pd \n",
    "from pprint import pprint \n",
    "from IPython.display import display, HTML\n",
    "pd.set_option('display.max_columns', None)\n",
    "KEY = 'WorkSpace'\n",
    "WORKSPACE_PATH = os.getcwd().split(KEY)[0] + KEY\n",
    "# print(WORKSPACE_PATH)\n",
    "os.chdir(WORKSPACE_PATH)\n",
    "import sys\n",
    "from proj_space import SPACE\n",
    "sys.path.append(SPACE['CODE_FN'])\n",
    "SPACE['WORKSPACE_PATH'] = WORKSPACE_PATH\n",
    "logger = logging.getLogger(__name__)\n",
    "logging.basicConfig(level=logging.INFO, format='[%(levelname)s:%(asctime)s:(%(filename)s@%(lineno)d %(name)s)]: %(message)s')\n",
    "\n",
    "from datasets import disable_caching\n",
    "disable_caching()\n",
    "\n",
    "SPACE['MODEL_ENDPOINT'] = 'vTest'"
   ]
  },
  {
   "cell_type": "code",
   "execution_count": null,
   "id": "ce1eb7cc",
   "metadata": {},
   "outputs": [],
   "source": [
    "%load_ext autoreload\n",
    "%autoreload 2\n"
   ]
  },
  {
   "cell_type": "markdown",
   "id": "57492949",
   "metadata": {},
   "source": [
    "# Part 1: AIData"
   ]
  },
  {
   "cell_type": "code",
   "execution_count": null,
   "id": "14c1b7f5",
   "metadata": {},
   "outputs": [],
   "source": [
    "\n",
    "\n",
    "# Oneday: 288, 24pd. 1/12\n",
    "from datasets import load_from_disk\n",
    "\n",
    "\n",
    "# 24 / 288\n",
    "\n",
    "# AIDataName = 'CGM_32h_24pd_WellDoc_v2_v0323' # CGM, 32h, 24 data per day. \n",
    "# AIDataName = 'CGM_32h_24pd_WellDoc_v2_sample' # CGM, 32h, 24 data per day. \n",
    "AIDataName = 'CGM2EventFood_bf6h_WellDoc_v2_v0323'\n",
    "\n",
    "\n",
    "path = os.path.join(SPACE['DATA_AIDATA'], AIDataName)\n",
    "print(path)\n",
    "dataset = load_from_disk(path)\n",
    "# dataset\n",
    "\n",
    "config = dataset.info.__dict__['config_name']# .features['cf'].feature.vocab\n",
    "print([i for i in config])\n",
    "CF_to_CFvocab = config['CF_to_CFvocab']\n",
    "print([i for i in CF_to_CFvocab])\n",
    "\n",
    "CF_to_CFArgs = config['CaseSettingInfo']['Case_Args_Settings']['CF_to_CFArgs']\n",
    "print([i for i in CF_to_CFArgs])\n",
    "\n",
    "\n",
    "TriggerCaseBaseName = config['TriggerCaseBaseName']\n",
    "TriggerCaseBaseArgs = config['TriggerCaseBaseName_to_TriggerCaseBaseArgs'][TriggerCaseBaseName]\n",
    "TriggerName = TriggerCaseBaseArgs['Trigger']['TriggerName']\n",
    "TriggerName\n",
    "# print(TriggerCaseBaseArgs)\n"
   ]
  },
  {
   "cell_type": "code",
   "execution_count": null,
   "id": "8cc8cc32",
   "metadata": {},
   "outputs": [],
   "source": [
    "# df_tag.columns\n",
    "\n",
    "from recfldtkn.base import assign_caseSplitTag_to_dsCase\n",
    "from recfldtkn.base import apply_multiple_conditions\n",
    "import numpy as np \n",
    "\n",
    "\n",
    "columns = dataset.column_names\n",
    "columns_tag = [i for i in columns if '--' not in i]\n",
    "df_tag = dataset.select_columns(columns_tag).to_pandas()\n",
    "\n",
    "def map_age_to_agegroup(age):\n",
    "    if age < 18:\n",
    "        return '0-17'\n",
    "    elif 18<= age < 40:\n",
    "        return '18-39'\n",
    "    elif 40<= age < 65:\n",
    "        return '40-64'\n",
    "    else:\n",
    "        return '65+'\n",
    "    \n",
    "###### additional tagging columns \n",
    "df_tag['Year'] = df_tag['ObsDT'].dt.year\n",
    "df_tag['Cohort'] = df_tag['PID'].astype(str).str[0]\n",
    "df_tag['Age'] = df_tag['Year'] - df_tag['YearOfBirth']  # .dt.year\n",
    "df_tag['AgeGroup'] = df_tag['Age'].apply(map_age_to_agegroup)\n",
    "##########################\n",
    "\n",
    "\n",
    "# dataset = dataset.add_column('Age', df_tag['Age'].values)\n",
    "# dataset = dataset.add_column('Cohort', df_tag['Cohort'].values)\n",
    "# dataset = dataset.add_column('Year', df_tag['Year'].values)\n",
    "# dataset = dataset.add_column('AgeGroup', df_tag['AgeGroup'].values)\n"
   ]
  },
  {
   "cell_type": "code",
   "execution_count": null,
   "id": "3a274280",
   "metadata": {},
   "outputs": [],
   "source": [
    "Split_to_Selection = {\n",
    "    'Train': {\n",
    "        'Rules': [\n",
    "            ['Age', '>=', 40],\n",
    "            ['Cohort', 'in', ['1', '2', '3']], # <--- add Cohort column\n",
    "            ['Year', 'in', [2020, 2021, 2022, 2023]], # <--- add Year column\n",
    "            ['GenderGroup', 'in', ['Gender.1', 'Gender.2']], \n",
    "            ['ObsDT', '<', '2022-07-01'], \n",
    "            ['ObsDT', '>=', '2021-01-01'],\n",
    "        ], \n",
    "        'Op': 'and',\n",
    "    },\n",
    "    'Val': {\n",
    "        'Rules': [\n",
    "            ['Age', '>=', 40],\n",
    "            ['Cohort', 'in', ['1', '2', '3']], # <--- add Cohort column\n",
    "            ['Year', 'in', [2020, 2021, 2022, 2023]], # <--- add Year column\n",
    "            ['ObsDT', '<', '2023-01-01'], \n",
    "            ['ObsDT', '>=', '2022-07-01'],\n",
    "            ['GenderGroup', 'in', ['Gender.1', 'Gender.2']], \n",
    "        ], \n",
    "        'Op': 'and',\n",
    "    },\n",
    "    'Test': {\n",
    "        'Rules': [\n",
    "            ['Age', '>=', 40],\n",
    "            ['Cohort', 'in', ['1', '2', '3']], # <--- add Cohort column\n",
    "            ['Year', 'in', [2020, 2021, 2022, 2023]], # <--- add Year column\n",
    "            ['ObsDT', '>=', '2023-01-01'], \n",
    "            ['ObsDT', '<', '2024-01-01'],\n",
    "            ['GenderGroup', 'in', ['Gender.1', 'Gender.2']], \n",
    "        ], \n",
    "        'Op': 'and',\n",
    "    }\n",
    "}"
   ]
  },
  {
   "cell_type": "code",
   "execution_count": null,
   "id": "9b755061",
   "metadata": {},
   "outputs": [],
   "source": [
    "split_to_dataset = {}\n",
    "for split_name, Selection in Split_to_Selection.items():\n",
    "    # split_to_dataset[split_name] = dataset.filter(lambda x: apply_multiple_conditions(x, split_config['Rules'], split_config['Op']))\n",
    "    Rules = Selection['Rules']\n",
    "    Op = Selection['Op']\n",
    "\n",
    "    index = apply_multiple_conditions(df_tag, Rules, Op)\n",
    "    indices = np.where(index == 1)[0]\n",
    "    # len(indices)\n",
    "    dataset_selected = dataset.select(indices)\n",
    "    split_to_dataset[split_name] = dataset_selected\n",
    "\n",
    "\n",
    "split_to_dataset"
   ]
  },
  {
   "cell_type": "code",
   "execution_count": null,
   "id": "e6edaad1",
   "metadata": {},
   "outputs": [],
   "source": [
    "Name_to_Data = {}\n",
    "for split, dataset in split_to_dataset.items():\n",
    "    Name_to_Data[split] = {'ds_case': dataset}\n",
    "Name_to_Data"
   ]
  },
  {
   "cell_type": "code",
   "execution_count": null,
   "id": "dc298692",
   "metadata": {},
   "outputs": [],
   "source": [
    "OneEntryArgs = {\n",
    "     # ----------------- Input Part -----------------\n",
    "    'Input_Part': {\n",
    "        'EntryInputMethod': 'Mto1Period_MultiTknInStepNoWgt',\n",
    "        'CF_list': [\n",
    "            'cf.TargetCGM_Bf24H',\n",
    "            # 'cf.TargetCGM_Af2H',\n",
    "\n",
    "            'cf.TimeSparse_Bf24H', \n",
    "            # 'cf.TimeSparse_Af2H',\n",
    "\n",
    "            # 'cf.Diet5MinBaseLMH_Bf24H',\n",
    "            # 'cf.Diet5MinBaseLMH_Af2H',\n",
    "        ],\n",
    "        'TargetField': 'TargetCGM',\n",
    "        'TimeField':   'Time',\n",
    "        # 'EventFields': [\n",
    "        #     # 'Activity',\n",
    "        #     'Diet5MinBaseLMH',\n",
    "        # ],\n",
    "        'BeforePeriods': ['Bf24H'],\n",
    "        # 'AfterPeriods': ['Af2H'],\n",
    "        'InferenceMode': False, # 'WithFutureEvent' #  # 'NoFutureEvent', 'WithFutureEvent', \n",
    "    }, \n",
    "\n",
    "    # ----------------- Output Part -----------------\n",
    "    'Output_Part': {\n",
    "        'EntryOutputMethod': 'EventPred',\n",
    "        \n",
    "        # ------------ one head for time to now ------------\n",
    "        'EventTimeToNow': 'co.Bf24H_Diet5MinInfo:MinToNow',\n",
    "        'label_to_id_head1': {'0h': 0, '1h': 1, '2h': 2, \n",
    "                              '3h': 3, '4h': 4, '5h': 5},\n",
    "        'dimensions_head1': ['food_event_time'],\n",
    "        # ------------ one head for food content ------------\n",
    "        'EventCF_Name': 'cf.Diet5MinBaseLMH_Bf24H',\n",
    "        'label_to_id_head2': {'low': 0, 'medium': 1, 'high': 2},\n",
    "        'dimensions_head2': ['carbs', 'fiber','fat', 'protein', 'sugar'],\n",
    "\n",
    "        'set_transform': True,\n",
    "        'num_proc': 4, \n",
    "    },\n",
    "}\n",
    "\n",
    "\n",
    "from recfldtkn.aidata_base.entry import EntryAIData_Builder\n",
    "\n",
    "entry = EntryAIData_Builder(TriggerName = TriggerName, \n",
    "                            OneEntryArgs = OneEntryArgs, \n",
    "                            SPACE = SPACE)"
   ]
  },
  {
   "cell_type": "code",
   "execution_count": null,
   "id": "03140aa8",
   "metadata": {},
   "outputs": [],
   "source": [
    "Name_to_Data = entry.setup_EntryFn_to_NameToData(Name_to_Data, CF_to_CFvocab, OneEntryArgs)\n",
    "# Name_to_Data"
   ]
  },
  {
   "cell_type": "code",
   "execution_count": null,
   "id": "45fcd6c6",
   "metadata": {},
   "outputs": [],
   "source": [
    "Data = Name_to_Data['Train']\n",
    "\n",
    "# Data\n",
    "ds_tfm = Data['ds_tfm']\n",
    "ds_tfm\n",
    "\n",
    "\n",
    "batch_size = 4\n",
    "batch = ds_tfm[:batch_size]\n",
    "batch.keys()\n"
   ]
  },
  {
   "cell_type": "markdown",
   "id": "f9f1be4a",
   "metadata": {},
   "source": [
    "# Part 2: Model Init"
   ]
  },
  {
   "cell_type": "code",
   "execution_count": null,
   "id": "0e151e67",
   "metadata": {},
   "outputs": [],
   "source": [
    "[CF for CF in CF_to_CFvocab]"
   ]
  },
  {
   "cell_type": "code",
   "execution_count": null,
   "id": "b88e2829",
   "metadata": {},
   "outputs": [],
   "source": [
    "OneEntryArgs"
   ]
  },
  {
   "cell_type": "code",
   "execution_count": null,
   "id": "81da6c72",
   "metadata": {},
   "outputs": [],
   "source": [
    "# InputPart = OneEntryArgs['Input_Part']\n",
    "# TargetField = InputPart['TargetField']\n",
    "# TimeField = InputPart['TimeField']\n",
    "# EventFields = InputPart['EventFields']\n",
    "\n",
    "\n",
    "# CF_list = InputPart['CF_list']  \n",
    "# FieldList = [TimeField] + EventFields\n",
    "# # FieldList\n",
    "\n",
    "# Field_to_CFs = {Field: [CF for CF in CF_list if Field in CF] for Field in FieldList}\n",
    "# # Field_to_CFs\n",
    "\n",
    "\n",
    "# CF_to_CFvocab = CF_to_CFvocab\n",
    "# Field_to_CFvocab = {Field: CF_to_CFvocab[CFs[0]] for Field, CFs in Field_to_CFs.items()}\n",
    "# # Field_to_CFvocab\n",
    "\n",
    "\n",
    "# field_to_vocabsize = {Field: len(Field_to_CFvocab[Field]['input_ids']['tkn2tid']) for Field in FieldList}\n",
    "# field_to_vocabsize\n"
   ]
  },
  {
   "cell_type": "markdown",
   "id": "e2c75762",
   "metadata": {},
   "source": [
    "# Event Prediction"
   ]
  },
  {
   "cell_type": "markdown",
   "id": "ac011e37",
   "metadata": {},
   "source": [
    "## Step 1: model config"
   ]
  },
  {
   "cell_type": "code",
   "execution_count": null,
   "id": "83a285a2",
   "metadata": {},
   "outputs": [],
   "source": [
    "# from nn.cgmlhm.configuration_cgmlhm import CgmLhmConfig \n",
    "from nn.cgmevent.configuration_fieldencoder import FieldEncoderConfig\n",
    "\n",
    "ModelArgs = {\n",
    "    'model_type': 'cgm_encoder',\n",
    "    'num_classes': 6,\n",
    "    'num_hidden_layers': 6,\n",
    "}\n",
    "config = FieldEncoderConfig(**ModelArgs)\n",
    "# print(config)\n",
    "# config.field_to_fieldinfo\n",
    "config"
   ]
  },
  {
   "cell_type": "markdown",
   "id": "e82e8813",
   "metadata": {},
   "source": [
    "## Step 2: model structure"
   ]
  },
  {
   "cell_type": "code",
   "execution_count": null,
   "id": "00f81ba8",
   "metadata": {},
   "outputs": [],
   "source": [
    "from nn.cgmevent.modeling_fieldencoder import FieldEncoderForClassification\n",
    "\n",
    "eventmodel = FieldEncoderForClassification(config)\n",
    "eventmodel"
   ]
  },
  {
   "cell_type": "markdown",
   "id": "804ef1f6",
   "metadata": {},
   "source": [
    "## Step 3: forward"
   ]
  },
  {
   "cell_type": "code",
   "execution_count": null,
   "id": "f2fc2205",
   "metadata": {},
   "outputs": [],
   "source": []
  },
  {
   "cell_type": "code",
   "execution_count": null,
   "id": "3df471ba",
   "metadata": {},
   "outputs": [],
   "source": [
    "\n",
    "\n",
    "\n",
    "\n",
    "eventmodel_input = {\n",
    "    'input_ids': batch['input_ids'],\n",
    "    'labels': batch['food_event_time_labels'],\n",
    "    # 'timestep_ids': batch['Time--timestep_orig_ids'],\n",
    "    # 'attention_mask': batch['attention_mask'],\n",
    "}\n",
    "\n",
    "\n",
    "event_outputs = eventmodel(**eventmodel_input)\n",
    "event_outputs\n"
   ]
  },
  {
   "cell_type": "markdown",
   "id": "90dc9aea",
   "metadata": {},
   "source": [
    "\n",
    "# Food and Carb Model"
   ]
  },
  {
   "cell_type": "markdown",
   "id": "e63c3c02",
   "metadata": {},
   "source": [
    "## Step 1:model config"
   ]
  },
  {
   "cell_type": "code",
   "execution_count": null,
   "id": "f9598ed6",
   "metadata": {},
   "outputs": [],
   "source": [
    "# from nn.cgmlhm.configuration_cgmlhm import CgmLhmConfig \n",
    "from nn.cgmevent.configuration_fieldencoder import FieldEncoderConfig\n",
    "\n",
    "ModelArgs = {\n",
    "    'model_type': 'cgm_encoder',\n",
    "    'num_classes': 6,\n",
    "    'num_hidden_layers': 6,\n",
    "    'quantity_regression':False,\n",
    "    'num_quantity_classes':3\n",
    "}\n",
    "config = FieldEncoderConfig(**ModelArgs)\n",
    "# print(config)\n",
    "# config.field_to_fieldinfo\n",
    "config"
   ]
  },
  {
   "cell_type": "markdown",
   "id": "de4a5067",
   "metadata": {},
   "source": [
    "## Step 2: model structure"
   ]
  },
  {
   "cell_type": "code",
   "execution_count": null,
   "id": "c07656ce",
   "metadata": {},
   "outputs": [],
   "source": [
    "from nn.cgmevent.modeling_fieldencoder import FieldEncoderForClassificationAndRegression\n",
    "\n",
    "eventmodel = FieldEncoderForClassificationAndRegression(config)\n",
    "eventmodel"
   ]
  },
  {
   "cell_type": "markdown",
   "id": "45cf99b2",
   "metadata": {},
   "source": [
    "## step 3: forward"
   ]
  },
  {
   "cell_type": "code",
   "execution_count": null,
   "id": "a6cffe12",
   "metadata": {},
   "outputs": [],
   "source": [
    "\n",
    "\n",
    "eventmodel_input = {\n",
    "    'input_ids': batch['input_ids'],\n",
    "    'labels': batch['food_event_time_labels'],\n",
    "    # 'timestep_ids': batch['Time--timestep_orig_ids'],\n",
    "    'labels_quantity': batch['carbs_labels'],\n",
    "}\n",
    "\n",
    "\n",
    "event_outputs = eventmodel(**eventmodel_input)\n",
    "event_outputs"
   ]
  },
  {
   "cell_type": "code",
   "execution_count": null,
   "id": "9cabf335",
   "metadata": {},
   "outputs": [],
   "source": []
  }
 ],
 "metadata": {
  "kernelspec": {
   "display_name": "alina_env",
   "language": "python",
   "name": "python3"
  },
  "language_info": {
   "codemirror_mode": {
    "name": "ipython",
    "version": 3
   },
   "file_extension": ".py",
   "mimetype": "text/x-python",
   "name": "python",
   "nbconvert_exporter": "python",
   "pygments_lexer": "ipython3",
   "version": "3.12.8"
  },
  "toc-autonumbering": true
 },
 "nbformat": 4,
 "nbformat_minor": 5
}