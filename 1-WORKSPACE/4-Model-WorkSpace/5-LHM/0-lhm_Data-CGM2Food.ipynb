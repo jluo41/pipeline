{
 "cells": [
  {
   "cell_type": "markdown",
   "id": "881d73c8-f12f-4a9b-a485-996a76289767",
   "metadata": {},
   "source": [
    "# Space"
   ]
  },
  {
   "cell_type": "code",
   "execution_count": null,
   "id": "d9b19d41",
   "metadata": {},
   "outputs": [],
   "source": [
    "import os\n",
    "import logging\n",
    "import pandas as pd \n",
    "from pprint import pprint \n",
    "from IPython.display import display, HTML\n",
    "pd.set_option('display.max_columns', None)\n",
    "KEY = 'WorkSpace'\n",
    "WORKSPACE_PATH = os.getcwd().split(KEY)[0] + KEY\n",
    "# print(WORKSPACE_PATH)\n",
    "os.chdir(WORKSPACE_PATH)\n",
    "import sys\n",
    "from proj_space import SPACE\n",
    "sys.path.append(SPACE['CODE_FN'])\n",
    "SPACE['WORKSPACE_PATH'] = WORKSPACE_PATH\n",
    "logger = logging.getLogger(__name__)\n",
    "logging.basicConfig(level=logging.INFO, format='[%(levelname)s:%(asctime)s:(%(filename)s@%(lineno)d %(name)s)]: %(message)s')\n",
    "\n",
    "from datasets import disable_caching\n",
    "disable_caching()\n",
    "\n",
    "SPACE['MODEL_ENDPOINT'] = 'vTest'"
   ]
  },
  {
   "cell_type": "markdown",
   "id": "57492949",
   "metadata": {},
   "source": [
    "# Part 1: AIData"
   ]
  },
  {
   "cell_type": "code",
   "execution_count": null,
   "id": "6f164971",
   "metadata": {},
   "outputs": [],
   "source": [
    "# Oneday: 288, 24pd. 1/12\n",
    "from datasets import load_from_disk\n",
    "\n",
    "AIDataName = 'CGM2EventFood_bf6h_WellDoc_v2_v0323' # v2 6 cohorts. \n",
    "path = os.path.join(SPACE['DATA_AIDATA'], AIDataName)\n",
    "print(path)\n",
    "dataset = load_from_disk(path)\n",
    "dataset\n",
    "\n",
    "config = dataset.info.__dict__['config_name']# .features['cf'].feature.vocab\n",
    "print([i for i in config])\n",
    "CF_to_CFvocab = config['CF_to_CFvocab']\n",
    "print([i for i in CF_to_CFvocab])\n",
    "\n",
    "CF_to_CFArgs = config['CaseSettingInfo']['Case_Args_Settings']['CF_to_CFArgs']\n",
    "print([i for i in CF_to_CFArgs])\n",
    "\n",
    "\n",
    "TriggerCaseBaseName = config['TriggerCaseBaseName']\n",
    "TriggerCaseBaseArgs = config['TriggerCaseBaseName_to_TriggerCaseBaseArgs'][TriggerCaseBaseName]\n",
    "TriggerName = TriggerCaseBaseArgs['Trigger']['TriggerName']\n",
    "TriggerName\n",
    "# print(TriggerCaseBaseArgs)\n"
   ]
  },
  {
   "cell_type": "markdown",
   "id": "aafecd82",
   "metadata": {},
   "source": [
    "## Split"
   ]
  },
  {
   "cell_type": "code",
   "execution_count": null,
   "id": "f1fb6e45",
   "metadata": {},
   "outputs": [],
   "source": [
    "# ds = dataset\n",
    "dataset "
   ]
  },
  {
   "cell_type": "code",
   "execution_count": null,
   "id": "e319e1e7",
   "metadata": {},
   "outputs": [],
   "source": [
    "# df_tag.columns"
   ]
  },
  {
   "cell_type": "code",
   "execution_count": null,
   "id": "307bbf76",
   "metadata": {},
   "outputs": [],
   "source": [
    "from recfldtkn.base import assign_caseSplitTag_to_dsCase\n",
    "from recfldtkn.base import apply_multiple_conditions\n",
    "import numpy as np \n",
    "\n",
    "\n",
    "columns = dataset.column_names\n",
    "columns_tag = [i for i in columns if '--' not in i]\n",
    "df_tag = dataset.select_columns(columns_tag).to_pandas()\n",
    "\n",
    "\n",
    "\n",
    "def map_age_to_agegroup(age):\n",
    "    if age < 18:\n",
    "        return '0-17'\n",
    "    elif 18<= age < 40:\n",
    "        return '18-39'\n",
    "    elif 40<= age < 65:\n",
    "        return '40-64'\n",
    "    else:\n",
    "        return '65+'\n",
    "    \n",
    "###### additional tagging columns \n",
    "df_tag['Year'] = df_tag['ObsDT'].dt.year\n",
    "df_tag['Cohort'] = df_tag['PID'].astype(str).str[0]\n",
    "df_tag['Age'] = df_tag['Year'] - df_tag['YearOfBirth']  # .dt.year\n",
    "df_tag['AgeGroup'] = df_tag['Age'].apply(map_age_to_agegroup)\n",
    "##########################\n",
    "\n",
    "\n",
    "dataset = dataset.add_column('Age', df_tag['Age'].values)\n",
    "dataset = dataset.add_column('Cohort', df_tag['Cohort'].values)\n",
    "dataset = dataset.add_column('Year', df_tag['Year'].values)\n",
    "dataset = dataset.add_column('AgeGroup', df_tag['AgeGroup'].values)"
   ]
  },
  {
   "cell_type": "code",
   "execution_count": null,
   "id": "bfefe818",
   "metadata": {},
   "outputs": [],
   "source": [
    "'cf.Diet5MinBaseN2C_Bf24H--input_ids'\n",
    "# dataset['cf.Diet5MinBaseN2C_Bf24H--input_ids']\n",
    "\n",
    "col = 'cf.Diet5MinBaseLMH_Bf24H--input_ids'\n",
    "\n",
    "df_tag['Check'] = dataset[col]\n",
    "df_tag['Check']"
   ]
  },
  {
   "cell_type": "code",
   "execution_count": null,
   "id": "d54e6d0b",
   "metadata": {},
   "outputs": [],
   "source": [
    "df_tag['Check'] = df_tag['Check'].apply(lambda x: x[-1])\n",
    "df_tag['Check']"
   ]
  },
  {
   "cell_type": "code",
   "execution_count": null,
   "id": "fbab4e4c",
   "metadata": {},
   "outputs": [],
   "source": [
    "df_tag['CheckLength'] = df_tag['Check'].apply(lambda x: len(x))\n",
    "df_tag['CheckLength'].value_counts().sort_index().reset_index()\n",
    "\n",
    "\n",
    "df_tag['CheckIsEmpty'] = df_tag['Check'].apply(lambda x: 0 in x).astype(int)\n",
    "\n",
    "df_tag['CheckIsEmpty'].value_counts().sort_index().reset_index()"
   ]
  },
  {
   "cell_type": "code",
   "execution_count": null,
   "id": "a6f52259",
   "metadata": {},
   "outputs": [],
   "source": [
    "# df_tag[df_tag['CheckEmpty'] == 1]['Check']"
   ]
  },
  {
   "cell_type": "code",
   "execution_count": null,
   "id": "0095d8c4",
   "metadata": {},
   "outputs": [],
   "source": [
    "# s = df_tag[df_tag['CheckLength'] == 1]['Check']\n",
    "# s = s.apply(lambda x: '-'.join([str(i) for i in x]))\n",
    "# s\n",
    "# s.value_counts().sort_index()\n",
    "\n",
    "# s['CheckEmpty']\n"
   ]
  },
  {
   "cell_type": "code",
   "execution_count": null,
   "id": "bd4d5c4f",
   "metadata": {},
   "outputs": [],
   "source": [
    "# CF_to_CFvocab['cf.Diet5MinBaseLMH_Bf24H']"
   ]
  },
  {
   "cell_type": "code",
   "execution_count": null,
   "id": "fb7754a4",
   "metadata": {},
   "outputs": [],
   "source": [
    "# df_tag['Age'].value_counts().sort_index().reset_index()"
   ]
  },
  {
   "cell_type": "code",
   "execution_count": null,
   "id": "7f9f327f",
   "metadata": {},
   "outputs": [],
   "source": [
    "Split_to_Selection = {\n",
    "    'Train': {\n",
    "        'Rules': [\n",
    "            ['Age', '>=', 40],\n",
    "            ['Cohort', 'in', ['1', '2', '3']], # <--- add Cohort column\n",
    "            ['Year', 'in', [2020, 2021, 2022, 2023]], # <--- add Year column\n",
    "            ['ObsDT', '<', '2022-07-01'], \n",
    "            ['ObsDT', '>=', '2021-01-01'],\n",
    "            ['GenderGroup', 'in', ['Gender.1', 'Gender.2']], \n",
    "            ['CheckIsEmpty', '==', 0],\n",
    "        ], \n",
    "        'Op': 'and',\n",
    "    },\n",
    "    'Val': {\n",
    "        'Rules': [\n",
    "            ['Age', '>=', 40],\n",
    "            ['Cohort', 'in', ['1', '2', '3']], # <--- add Cohort column\n",
    "            ['Year', 'in', [2020, 2021, 2022, 2023]], # <--- add Year column\n",
    "            ['ObsDT', '<', '2023-01-01'], \n",
    "            ['ObsDT', '>=', '2022-07-01'],\n",
    "            ['GenderGroup', 'in', ['Gender.1', 'Gender.2']], \n",
    "            ['CheckIsEmpty', '==', 0],\n",
    "        ], \n",
    "        'Op': 'and',\n",
    "    },\n",
    "    'Test': {\n",
    "        'Rules': [\n",
    "            ['Age', '>=', 40],\n",
    "            ['Cohort', 'in', ['1', '2', '3']], # <--- add Cohort column\n",
    "            ['Year', 'in', [2020, 2021, 2022, 2023]], # <--- add Year column\n",
    "            ['ObsDT', '>=', '2023-01-01'], \n",
    "            ['ObsDT', '<', '2024-01-01'],\n",
    "            ['GenderGroup', 'in', ['Gender.1', 'Gender.2']], \n",
    "            ['CheckIsEmpty', '==', 0],\n",
    "        ], \n",
    "        'Op': 'and',\n",
    "    }\n",
    "}"
   ]
  },
  {
   "cell_type": "code",
   "execution_count": null,
   "id": "7023238d",
   "metadata": {},
   "outputs": [],
   "source": [
    "split_to_dataset = {}\n",
    "for split_name, Selection in Split_to_Selection.items():\n",
    "    # split_to_dataset[split_name] = dataset.filter(lambda x: apply_multiple_conditions(x, split_config['Rules'], split_config['Op']))\n",
    "    Rules = Selection['Rules']\n",
    "    Op = Selection['Op']\n",
    "\n",
    "    index = apply_multiple_conditions(df_tag, Rules, Op)\n",
    "    indices = np.where(index == 1)[0]\n",
    "    # len(indices)\n",
    "    dataset_selected = dataset.select(indices)\n",
    "    split_to_dataset[split_name] = dataset_selected\n",
    "\n",
    "\n",
    "split_to_dataset"
   ]
  },
  {
   "cell_type": "code",
   "execution_count": null,
   "id": "f25fa5a3",
   "metadata": {},
   "outputs": [],
   "source": [
    "df_tag['co.Bf24H_Diet5MinInfo:MinToNow'].value_counts().sort_index().reset_index()"
   ]
  },
  {
   "cell_type": "markdown",
   "id": "048514f5",
   "metadata": {},
   "source": [
    "## Data Description"
   ]
  },
  {
   "cell_type": "code",
   "execution_count": null,
   "id": "812c9824",
   "metadata": {},
   "outputs": [],
   "source": [
    "columns = [\n",
    "    'DiseaseTypeGroup', 'GenderGroup', # 'AgeGroup'\n",
    "]\n",
    "\n",
    "for SplitName in Split_to_Selection.keys():\n",
    "    print(f'\\n========== {SplitName} ==========' )\n",
    "\n",
    "    ds = split_to_dataset[SplitName]\n",
    "    columns_tag = ds.column_names\n",
    "    columns_tag\n",
    "    columns_tag = [i for i in columns_tag if '--' not in i]\n",
    "    df_tag = ds.select_columns(columns_tag).to_pandas()\n",
    "\n",
    "    v = df_tag[columns].value_counts().sort_index().reset_index()\n",
    "    display(v)\n",
    "\n",
    "    v = df_tag[['PID'] + columns].drop_duplicates()[columns].value_counts().sort_index().reset_index()\n",
    "    display(v)"
   ]
  },
  {
   "cell_type": "code",
   "execution_count": null,
   "id": "18aa2c0a",
   "metadata": {},
   "outputs": [],
   "source": [
    "Name_to_Data = {}\n",
    "for split, dataset in split_to_dataset.items():\n",
    "    Name_to_Data[split] = {'ds_case': dataset}\n",
    "\n",
    "Name_to_Data"
   ]
  },
  {
   "cell_type": "markdown",
   "id": "e08370af",
   "metadata": {},
   "source": [
    "## Update EntryArgs"
   ]
  },
  {
   "cell_type": "code",
   "execution_count": null,
   "id": "fefbdccc",
   "metadata": {},
   "outputs": [],
   "source": [
    "OneEntryArgs = {\n",
    "     # ----------------- Input Part -----------------\n",
    "    'Input_Part': {\n",
    "        'EntryInputMethod': 'Mto1Period_MultiTknInStepNoWgt',\n",
    "        'CF_list': [\n",
    "            'cf.TargetCGM_Bf24H',\n",
    "            # 'cf.TargetCGM_Af2H',\n",
    "\n",
    "            'cf.TimeSparse_Bf24H', \n",
    "            # 'cf.TimeSparse_Af2H',\n",
    "\n",
    "            # 'cf.Diet5MinBaseLMH_Bf24H',\n",
    "            # 'cf.Diet5MinBaseLMH_Af2H',\n",
    "        ],\n",
    "        'TargetField': 'TargetCGM',\n",
    "        'TimeField':   'Time',\n",
    "        # 'EventFields': [\n",
    "        #     # 'Activity',\n",
    "        #     'Diet5MinBaseLMH',\n",
    "        # ],\n",
    "        'BeforePeriods': ['Bf24H'],\n",
    "        # 'AfterPeriods': ['Af2H'],\n",
    "        'InferenceMode': False, # 'WithFutureEvent' #  # 'NoFutureEvent', 'WithFutureEvent', \n",
    "    }, \n",
    "\n",
    "    # ----------------- Output Part -----------------\n",
    "    'Output_Part': {\n",
    "        'EntryOutputMethod': 'EventPred',\n",
    "        \n",
    "        # ------------ one head for time to now ------------\n",
    "        'EventTimeToNow': 'co.Bf24H_Diet5MinInfo:MinToNow',\n",
    "        'label_to_id_head1': {'0h': 0, '1h': 1, '2h': 2, \n",
    "                              '3h': 3, '4h': 4, '5h': 5},\n",
    "        'dimensions_head1': ['food_event_time'],\n",
    "        # ------------ one head for food content ------------\n",
    "        'EventCF_Name': 'cf.Diet5MinBaseLMH_Bf24H',\n",
    "        'label_to_id_head2': {'low': 0, 'medium': 1, 'high': 2},\n",
    "        'dimensions_head2': ['carbs', 'fiber','fat', 'protein', 'sugar'],\n",
    "\n",
    "        'set_transform': False,\n",
    "        'num_proc': 4, \n",
    "    },\n",
    "}\n",
    "\n",
    "\n",
    "from recfldtkn.aidata_base.entry import EntryAIData_Builder\n",
    "\n",
    "entry = EntryAIData_Builder(TriggerName = TriggerName, \n",
    "                            OneEntryArgs = OneEntryArgs, \n",
    "                            SPACE = SPACE)"
   ]
  },
  {
   "cell_type": "code",
   "execution_count": null,
   "id": "4e622a64",
   "metadata": {},
   "outputs": [],
   "source": [
    "Name_to_Data = entry.setup_EntryFn_to_NameToData(Name_to_Data, CF_to_CFvocab, OneEntryArgs)\n",
    "# Name_to_Data"
   ]
  },
  {
   "cell_type": "code",
   "execution_count": null,
   "id": "d1d05847",
   "metadata": {},
   "outputs": [],
   "source": []
  },
  {
   "cell_type": "markdown",
   "id": "2f0d4ce3",
   "metadata": {},
   "source": [
    "## View A Batch"
   ]
  },
  {
   "cell_type": "code",
   "execution_count": null,
   "id": "80463b9c",
   "metadata": {},
   "outputs": [],
   "source": [
    "Data = Name_to_Data['Train']\n",
    "# Data"
   ]
  },
  {
   "cell_type": "code",
   "execution_count": null,
   "id": "a3aecb96",
   "metadata": {},
   "outputs": [],
   "source": [
    "ds_tfm = Data['ds_tfm']\n",
    "ds_tfm"
   ]
  },
  {
   "cell_type": "code",
   "execution_count": null,
   "id": "045eecbe",
   "metadata": {},
   "outputs": [],
   "source": [
    "ds_tfm"
   ]
  },
  {
   "cell_type": "code",
   "execution_count": null,
   "id": "804abff2",
   "metadata": {},
   "outputs": [],
   "source": [
    "pd.Series(ds_tfm['food_event_time_labels']).value_counts()"
   ]
  },
  {
   "cell_type": "code",
   "execution_count": null,
   "id": "b257f695",
   "metadata": {},
   "outputs": [],
   "source": [
    "batch_size = 26\n",
    "batch = ds_tfm[:batch_size]\n",
    "batch"
   ]
  },
  {
   "cell_type": "code",
   "execution_count": null,
   "id": "be386ea0",
   "metadata": {},
   "outputs": [],
   "source": [
    "import torch\n",
    "for k, v in batch.items():\n",
    "    v = torch.LongTensor(v)\n",
    "    batch[k] = v\n",
    "    print(k, v.shape)"
   ]
  },
  {
   "cell_type": "code",
   "execution_count": null,
   "id": "16dccbc1",
   "metadata": {},
   "outputs": [],
   "source": [
    "batch"
   ]
  },
  {
   "cell_type": "code",
   "execution_count": null,
   "id": "b7bba85d",
   "metadata": {},
   "outputs": [],
   "source": [
    "batch['carbs_labels'] \n",
    "\n",
    "# 0h, 1h, 2h, 3h, 4h, 5h"
   ]
  },
  {
   "cell_type": "code",
   "execution_count": null,
   "id": "257e51e7",
   "metadata": {},
   "outputs": [],
   "source": [
    "batch['input_ids'][0]"
   ]
  },
  {
   "cell_type": "code",
   "execution_count": null,
   "id": "e1fadb1e",
   "metadata": {},
   "outputs": [],
   "source": [
    "batch['input_ids'][0] # .shape # "
   ]
  },
  {
   "cell_type": "code",
   "execution_count": null,
   "id": "357e1dd3",
   "metadata": {},
   "outputs": [],
   "source": [
    "batch['Time--input_ids'][0]"
   ]
  },
  {
   "cell_type": "code",
   "execution_count": null,
   "id": "a30fc20b",
   "metadata": {},
   "outputs": [],
   "source": [
    "batch['Time--timestep_orig_ids'][0]"
   ]
  },
  {
   "cell_type": "code",
   "execution_count": null,
   "id": "76c56a03",
   "metadata": {},
   "outputs": [],
   "source": [
    "# batch['Diet--event_indicators'][0]# .sum(axis = 1)"
   ]
  },
  {
   "cell_type": "code",
   "execution_count": null,
   "id": "98e8ac8e",
   "metadata": {},
   "outputs": [],
   "source": [
    "input_ids = batch['input_ids']\n",
    "input_ids.shape"
   ]
  },
  {
   "cell_type": "code",
   "execution_count": null,
   "id": "f1423e2a",
   "metadata": {},
   "outputs": [],
   "source": [
    "input_ids"
   ]
  },
  {
   "cell_type": "code",
   "execution_count": null,
   "id": "522216e8",
   "metadata": {},
   "outputs": [],
   "source": [
    "input_ids[2, :] # 313 = 288 (24h) +  1 (obspoint) + 24 (2h)"
   ]
  },
  {
   "cell_type": "code",
   "execution_count": null,
   "id": "d7738243",
   "metadata": {},
   "outputs": [],
   "source": [
    "# labels = batch['xxx']\n",
    "# labels.shape"
   ]
  },
  {
   "cell_type": "code",
   "execution_count": null,
   "id": "4d202eab",
   "metadata": {},
   "outputs": [],
   "source": [
    "batch"
   ]
  },
  {
   "cell_type": "code",
   "execution_count": null,
   "id": "0737ce1d",
   "metadata": {},
   "outputs": [],
   "source": []
  },
  {
   "cell_type": "code",
   "execution_count": null,
   "id": "84f75091",
   "metadata": {},
   "outputs": [],
   "source": []
  }
 ],
 "metadata": {
  "kernelspec": {
   "display_name": "torch",
   "language": "python",
   "name": "python3"
  },
  "language_info": {
   "codemirror_mode": {
    "name": "ipython",
    "version": 3
   },
   "file_extension": ".py",
   "mimetype": "text/x-python",
   "name": "python",
   "nbconvert_exporter": "python",
   "pygments_lexer": "ipython3",
   "version": "3.11.9"
  },
  "toc-autonumbering": true
 },
 "nbformat": 4,
 "nbformat_minor": 5
}