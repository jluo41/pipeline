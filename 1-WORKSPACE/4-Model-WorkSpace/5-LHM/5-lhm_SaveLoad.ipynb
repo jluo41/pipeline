{
 "cells": [
  {
   "cell_type": "markdown",
   "id": "881d73c8-f12f-4a9b-a485-996a76289767",
   "metadata": {},
   "source": [
    "# Space"
   ]
  },
  {
   "cell_type": "code",
   "execution_count": null,
   "id": "d9b19d41",
   "metadata": {},
   "outputs": [],
   "source": [
    "import os\n",
    "import logging\n",
    "import pandas as pd \n",
    "from pprint import pprint \n",
    "from IPython.display import display, HTML\n",
    "pd.set_option('display.max_columns', None)\n",
    "KEY = 'WorkSpace'\n",
    "WORKSPACE_PATH = os.getcwd().split(KEY)[0] + KEY\n",
    "# print(WORKSPACE_PATH)\n",
    "os.chdir(WORKSPACE_PATH)\n",
    "import sys\n",
    "from proj_space import SPACE\n",
    "sys.path.append(SPACE['CODE_FN'])\n",
    "SPACE['WORKSPACE_PATH'] = WORKSPACE_PATH\n",
    "logger = logging.getLogger(__name__)\n",
    "logging.basicConfig(level=logging.INFO, format='[%(levelname)s:%(asctime)s:(%(filename)s@%(lineno)d %(name)s)]: %(message)s')\n",
    "\n",
    "from datasets import disable_caching\n",
    "disable_caching()\n",
    "\n",
    "SPACE['MODEL_ENDPOINT'] = 'vTest'"
   ]
  },
  {
   "cell_type": "markdown",
   "id": "57492949",
   "metadata": {},
   "source": [
    "# Part 1: AIData"
   ]
  },
  {
   "cell_type": "markdown",
   "id": "771e64d9",
   "metadata": {},
   "source": [
    "## Step 1. AIData Args"
   ]
  },
  {
   "cell_type": "code",
   "execution_count": null,
   "id": "7ba9863a",
   "metadata": {},
   "outputs": [],
   "source": [
    "\n",
    "###################################\n",
    "HumanRecordRecfeat_Args = {\n",
    "    'P': {\n",
    "        # 'BP': [],\n",
    "        'CGM5Min': ['CGM5Min-N2Cin1'],\n",
    "        # 'Carb': ['Carb-N2Cin20'],\n",
    "        # 'Exercise': ['Exercise-Nume'],\n",
    "        # 'Food': ['Food-NutriNume'],\n",
    "        'P': ['P-DemoCate'],\n",
    "        # 'Sleep': ['Sleep-Nume'],\n",
    "        # 'Step': ['Step-Nume'],\n",
    "        # 'Weight': ['Weight-Nume'],\n",
    "        # 'PHeight': [], \n",
    "    }\n",
    "}\n",
    "\n",
    "CohortName_list = [\n",
    "    # 'WellDoc2022CGM', \n",
    "    # 'WellDoc2023CVSTDC', \n",
    "    'WellDoc2023CVSDeRx',\n",
    "]\n",
    "HumanRecordRecfeat_Args = HumanRecordRecfeat_Args\n",
    "Record_Proc_Config = {'save_data': True, 'load_data':True, 'via_method': 'ds'}\n",
    "Inference_Entry = None # this is not inference mode\n",
    "###################################"
   ]
  },
  {
   "cell_type": "code",
   "execution_count": null,
   "id": "b6d79329",
   "metadata": {},
   "outputs": [],
   "source": [
    "TriggerCaseBaseName = 'Bf24HAf2H_CGM'\n",
    "TriggerCaseBaseArgs =  {\n",
    "    # --------- this three are relatively stable ----------------\n",
    "    'Trigger': {\n",
    "        'TriggerName': 'CGM5MinEntry', \n",
    "        'TagRec': [\n",
    "            'TagRec.PDemoFromP',\n",
    "        ],\n",
    "        'Group': 'GrpGenderDisease', # \n",
    "        'Filter': 'FltBasicDemo',\n",
    "        'ObsTask': {\n",
    "            'TagCF_list': [\n",
    "                'TagCF.Bf24hCGMinfo', \n",
    "                'TagCF.Af2hCGMinfo',\n",
    "            ],\n",
    "            'CF_list':  [],\n",
    "        }\n",
    "    },\n",
    "    # --------------------------------\n",
    "    \n",
    "    # --------------------------------\n",
    "    'FilterCaseSet': {\n",
    "        'Filter': 'FltMiniBfAfCGMRecInfo',\n",
    "        'ObsTask': {\n",
    "            'TagCF_list': [\n",
    "                'TagCF.Bf24hCGMinfo', \n",
    "                'TagCF.Af2hCGMinfo',\n",
    "            ],\n",
    "            'CF_list':  [\n",
    "                'cf.TargetCGM_Bf24H', \n",
    "                'cf.TargetCGM_Af2H',\n",
    "            ],\n",
    "        },\n",
    "    }\n",
    "    # --------------------------------\n",
    "}\n",
    "\n",
    "\n",
    "Case_Proc_Config = {\n",
    "    'max_trigger_case_num': None, \n",
    "    'use_task_cache': False, \n",
    "    'caseset_chunk_size': 200000, # 200k for CGM, 50k for others.\n",
    "    'save_data': True, \n",
    "    'load_data': True, \n",
    "    'load_casecollection': True, \n",
    "    'via_method': 'ds',\n",
    "    'n_cpus': 1, \n",
    "    'batch_size': 1000,  \n",
    "}"
   ]
  },
  {
   "cell_type": "code",
   "execution_count": null,
   "id": "a4beb826",
   "metadata": {},
   "outputs": [],
   "source": [
    "###################################\n",
    "ModelUnitName = 'CGMLSMBf24Af2H-5Min'\n",
    "OneEntryArgsTemplate = {\n",
    "    # ----------------- Task Part -----------------\n",
    "    'Task_Part': {\n",
    "        'TaskCFs_Args': [],\n",
    "        'Tagging': {\n",
    "            'TagName_to_TaggingMethod': {\n",
    "                # TagName: TaggingMethod {Rules: [(x,x,x)], Op: and or}\n",
    "            },\n",
    "            'ColumnsAddToDsCase': [],\n",
    "            'TagFilter': True,\n",
    "            'TagSplit': True, \n",
    "        },\n",
    "\n",
    "        'Filtering': {\n",
    "            # 'FilterTagging': None,\n",
    "            'FilterTagging': None,\n",
    "        }, \n",
    "        \n",
    "        'Splitting': {\n",
    "            'SplitTagging': {\n",
    "                'RANDOM_SEED': 32,\n",
    "                'out_ratio': 0.1,\n",
    "                'test_ratio': 'tail0.1',\n",
    "                'valid_ratio': 0.1\n",
    "            },\n",
    "            'TrainEvals': {\n",
    "                'TrainSetName': 'In-Train', \n",
    "                'EvalSetNames': ['In-Test', 'In-Valid', 'Out']\n",
    "            },\n",
    "        }\n",
    "    },\n",
    "\n",
    "    # ----------------- Input Part -----------------\n",
    "    'Input_Part': {\n",
    "        'EntryInputMethod': 'Mto1Period_1TknInStep',\n",
    "        'InputCFs_Args': [\n",
    "            'cf.TargetCGM_Bf24H',\n",
    "            'cf.TargetCGM_Af2H',\n",
    "        ],\n",
    "    }, \n",
    "\n",
    "    # ----------------- Output Part -----------------\n",
    "    'Output_Part': {\n",
    "        'EntryOutputMethod': 'NTP',\n",
    "        'OutputCFs_Args': [],\n",
    "    },\n",
    "}\n",
    "\n",
    "\n",
    "SubAIDataName_to_Args = {\n",
    "    # 'RandomDownSample0.1': {\n",
    "    #     'Task_Part:Filtering:FilterTagging': {\n",
    "    #         \"Rules\": [('RandDownSample', '<=', 0.1)], \n",
    "    #         'Op': 'and',\n",
    "    #     },\n",
    "    # },\n",
    "    'FullDataNoFiltering': {\n",
    "        'Task_Part:Filtering:FilterTagging': None,\n",
    "    },\n",
    "}\n",
    "\n",
    "# EntryInputMethod  = OneEntryArgs['Input_Part']['EntryInputMethod']\n",
    "# EntryOutputMethod = OneEntryArgs['Output_Part']['EntryOutputMethod']"
   ]
  },
  {
   "cell_type": "markdown",
   "id": "2ab2d138",
   "metadata": {},
   "source": [
    "## Step 2: AIData Base"
   ]
  },
  {
   "cell_type": "code",
   "execution_count": null,
   "id": "593ed4cc",
   "metadata": {},
   "outputs": [],
   "source": [
    "from config.config_record.Cohort import CohortName_to_OneCohortArgs\n",
    "from config.config_case.CKPD import Ckpd_to_CkpdObsConfig\n",
    "from recfldtkn.record_base import Record_Base\n",
    "\n",
    "record_base = Record_Base(\n",
    "    CohortName_list, \n",
    "    HumanRecordRecfeat_Args,\n",
    "    CohortName_to_OneCohortArgs,\n",
    "    SPACE = SPACE, \n",
    "    Inference_Entry = Inference_Entry,\n",
    "    Record_Proc_Config = Record_Proc_Config,\n",
    ")"
   ]
  },
  {
   "cell_type": "code",
   "execution_count": null,
   "id": "c6e66972",
   "metadata": {},
   "outputs": [],
   "source": [
    "from config.config_case.GROUP import GROUP_TO_GROUPMethodArgs\n",
    "from config.config_case.CF import CF_to_CFArgs\n",
    "from config.config_case.CKPD import Ckpd_to_CkpdObsConfig\n",
    "from config.config_case.TagRec import TagRec_to_TagRecArgs\n",
    "from config.config_case.TagCF import TagCF_to_TagCFArgs \n",
    "from config.config_case.Flt import FltName_to_FltArgs\n",
    "from config.config_case.CASE import TriggerCaseBaseName_to_TriggerCaseBaseArgs\n",
    "from recfldtkn.case_base.case_base import Case_Base\n",
    "\n",
    "Case_Args_Settings = {\n",
    "    'Ckpd_to_CkpdObsConfig': Ckpd_to_CkpdObsConfig,\n",
    "    'CF_to_CFArgs': CF_to_CFArgs,\n",
    "    'TagCF_to_TagCFArgs': TagCF_to_TagCFArgs,\n",
    "    'TagRec_to_TagRecArgs': TagRec_to_TagRecArgs,\n",
    "    'FltName_to_FltArgs': FltName_to_FltArgs,\n",
    "    'GROUP_TO_GROUPMethodArgs': GROUP_TO_GROUPMethodArgs,\n",
    "}\n",
    "\n",
    "TriggerCaseBaseName_to_CohortNameList = {TriggerCaseBaseName: CohortName_list}\n",
    "TriggerCaseBaseName_to_TriggerCaseBaseArgs[TriggerCaseBaseName] = TriggerCaseBaseArgs\n",
    "TriggerCaseBaseName_to_CohortNameList = {TriggerCaseBaseName: CohortName_list,}\n",
    "\n",
    "# 2min 1 cpu\n",
    "# 1m40s 8 cpus\n",
    "case_base = Case_Base(\n",
    "    record_base = record_base, \n",
    "    TriggerCaseBaseName_to_CohortNameList = TriggerCaseBaseName_to_CohortNameList, \n",
    "    TriggerCaseBaseName_to_TriggerCaseBaseArgs = TriggerCaseBaseName_to_TriggerCaseBaseArgs,\n",
    "    Case_Proc_Config = Case_Proc_Config,\n",
    "    Case_Args_Settings = Case_Args_Settings, \n",
    ")"
   ]
  },
  {
   "cell_type": "code",
   "execution_count": null,
   "id": "7ed97323",
   "metadata": {},
   "outputs": [],
   "source": [
    "from recfldtkn.aidata_base.aidata_base import get_OneAIDataName_to_OneAIDataArgs\n",
    "from recfldtkn.aidata_base.aidata_base import AIData_Base\n",
    "\n",
    "# SeriesName = 'UnilabelWeightpredAf1M' \n",
    "# OneEntryArgsTemplate = SeriesName_to_OneEntryArgsTemplate[SeriesName]\n",
    "####################\n",
    "OneAIDataName_to_OneAIDataArgs = get_OneAIDataName_to_OneAIDataArgs(ModelUnitName, \n",
    "                                                                    CohortName_list, \n",
    "                                                                    TriggerCaseBaseName,\n",
    "                                                                    TriggerCaseBaseArgs, \n",
    "                                                                    OneEntryArgsTemplate, \n",
    "                                                                    SubAIDataName_to_Args)\n",
    "####################\n",
    "\n",
    "\n",
    "\n",
    "pprint(OneAIDataName_to_OneAIDataArgs, sort_dicts=False)\n",
    "\n",
    "\n",
    "\n",
    "aidata_base = AIData_Base(\n",
    "    case_base = case_base, \n",
    "    OneAIDataName_to_OneAIDataArgs = OneAIDataName_to_OneAIDataArgs,\n",
    "    SPACE = SPACE, \n",
    ")   "
   ]
  },
  {
   "cell_type": "markdown",
   "id": "77765ead",
   "metadata": {},
   "source": [
    "## Step 3: AIData "
   ]
  },
  {
   "cell_type": "code",
   "execution_count": null,
   "id": "ee91de44",
   "metadata": {},
   "outputs": [],
   "source": [
    "OneAIDataName = aidata_base.get_AIDataName_list()[0]\n",
    "pprint(OneAIDataName)\n",
    "\n",
    "OneAIData_Args = aidata_base.get_OneAIDataArgs_from_OneAIDataName(OneAIDataName)\n",
    "pprint(OneAIData_Args, sort_dicts=False)"
   ]
  },
  {
   "cell_type": "code",
   "execution_count": null,
   "id": "7362a00b",
   "metadata": {},
   "outputs": [],
   "source": [
    "aidata = aidata_base.get_aidata_from_OneAIDataName(OneAIDataName)\n",
    "aidata"
   ]
  },
  {
   "cell_type": "code",
   "execution_count": null,
   "id": "2aea1a2c",
   "metadata": {},
   "outputs": [],
   "source": [
    "Name_to_Data = aidata.Name_to_Data\n",
    "for Name, Data in Name_to_Data.items():\n",
    "    print(Name, ':', Data['ds_tfm'])\n",
    "\n",
    "# hold-out\n",
    "# hold-in"
   ]
  },
  {
   "cell_type": "markdown",
   "id": "2f0d4ce3",
   "metadata": {},
   "source": [
    "## Step 4: Prepare A Batch"
   ]
  },
  {
   "cell_type": "code",
   "execution_count": null,
   "id": "80463b9c",
   "metadata": {},
   "outputs": [],
   "source": [
    "# aidata.Name_to_DsAIData\n",
    "split_name = [i for i in  aidata.Name_to_Data][0]\n",
    "dataset = aidata.Name_to_Data[split_name]\n",
    "df_case = dataset['df_case']\n",
    "df_case.head()"
   ]
  },
  {
   "cell_type": "code",
   "execution_count": null,
   "id": "a3aecb96",
   "metadata": {},
   "outputs": [],
   "source": [
    "ds_tfm = dataset['ds_tfm']\n",
    "ds_tfm"
   ]
  },
  {
   "cell_type": "code",
   "execution_count": null,
   "id": "b257f695",
   "metadata": {},
   "outputs": [],
   "source": [
    "batch_size = 4\n",
    "batch = ds_tfm[:batch_size]\n",
    "batch"
   ]
  },
  {
   "cell_type": "code",
   "execution_count": null,
   "id": "98e8ac8e",
   "metadata": {},
   "outputs": [],
   "source": [
    "input_ids = batch['input_ids']\n",
    "input_ids.shape"
   ]
  },
  {
   "cell_type": "code",
   "execution_count": null,
   "id": "f1423e2a",
   "metadata": {},
   "outputs": [],
   "source": [
    "input_ids"
   ]
  },
  {
   "cell_type": "code",
   "execution_count": null,
   "id": "522216e8",
   "metadata": {},
   "outputs": [],
   "source": [
    "input_ids[2, :] # 313 = 288 (24h) +  1 (obspoint) + 24 (2h)"
   ]
  },
  {
   "cell_type": "code",
   "execution_count": null,
   "id": "d7738243",
   "metadata": {},
   "outputs": [],
   "source": [
    "labels = batch['labels']\n",
    "labels.shape"
   ]
  },
  {
   "cell_type": "code",
   "execution_count": null,
   "id": "4d202eab",
   "metadata": {},
   "outputs": [],
   "source": [
    "batch"
   ]
  },
  {
   "cell_type": "markdown",
   "id": "f9f1be4a",
   "metadata": {},
   "source": [
    "# Part 2: Model Init"
   ]
  },
  {
   "cell_type": "markdown",
   "id": "8be4677e",
   "metadata": {},
   "source": [
    "## Step 1: init_model"
   ]
  },
  {
   "cell_type": "code",
   "execution_count": null,
   "id": "b7f46c8b",
   "metadata": {},
   "outputs": [],
   "source": [
    "import os\n",
    "\n",
    "os.environ[\"CUDA_VISIBLE_DEVICES\"] = \"1\""
   ]
  },
  {
   "cell_type": "code",
   "execution_count": null,
   "id": "1616be6b",
   "metadata": {},
   "outputs": [],
   "source": [
    "ModelArgs = {\n",
    "    'model_type': 'cgmgpt_lm',\n",
    "}"
   ]
  },
  {
   "cell_type": "code",
   "execution_count": null,
   "id": "e9028ab2",
   "metadata": {},
   "outputs": [],
   "source": [
    "import transformers\n",
    "import logging\n",
    "from transformers import (\n",
    "    CONFIG_MAPPING,\n",
    "    MODEL_FOR_CAUSAL_LM_MAPPING,\n",
    "    AutoConfig,\n",
    "    HfArgumentParser,\n",
    "    TrainingArguments,\n",
    ")\n",
    "MODEL_CONFIG_CLASSES = list(MODEL_FOR_CAUSAL_LM_MAPPING.keys())\n",
    "# MODEL_CONFIG_CLASSES\n",
    "MODEL_TYPES = tuple(conf.model_type for conf in MODEL_CONFIG_CLASSES)\n",
    "# MODEL_TYPES\n",
    "\n",
    "############# this is the NN development that showing our novelty #############\n",
    "from nn.cgmlsm.configuration_cgmgpt import CgmGptConfig\n",
    "from nn.cgmlsm.modeling_cgmgpt import CgmGptLMHeadModel\n",
    "#################################################################"
   ]
  },
  {
   "cell_type": "code",
   "execution_count": null,
   "id": "6572891d",
   "metadata": {},
   "outputs": [],
   "source": [
    "# ----- within the method of init_model.\n",
    "CF_to_CFvocab = aidata.CF_to_CFvocab\n",
    "CF = list(CF_to_CFvocab.keys())[0]\n",
    "CFvocab = CF_to_CFvocab[CF]\n",
    "tkn2tid = CFvocab['input_ids']['tkn2tid']\n",
    "\n",
    "config_kwargs = {\n",
    "    # \"cache_dir\": model_args.cache_dir,\n",
    "    # \"revision\": model_args.model_revision,\n",
    "    # \"token\": model_args.token,\n",
    "    # \"trust_remote_code\": model_args.trust_remote_code,\n",
    "    ###########\n",
    "    'vocab_size': len(tkn2tid),\n",
    "    'bos_token_id': tkn2tid['[BOS]'],\n",
    "    'eos_token_id': tkn2tid['[EOS]'],\n",
    "    'pad_token_id':  0,\n",
    "    ###########\n",
    "}\n",
    "\n",
    "ModelArgs.update(config_kwargs)\n",
    "\n",
    "pprint(ModelArgs)\n",
    "config = CgmGptConfig(**ModelArgs)\n",
    "pprint(config)"
   ]
  },
  {
   "cell_type": "code",
   "execution_count": null,
   "id": "1be85e80",
   "metadata": {},
   "outputs": [],
   "source": [
    "import torch \n",
    "\n",
    "model = CgmGptLMHeadModel(config) \n",
    "total_params = sum(p.numel() for p in model.parameters())\n",
    "print(total_params)\n",
    "\n",
    "\n",
    "device = torch.device(\"cuda\" if torch.cuda.is_available() else \"cpu\")\n",
    "print(device)\n",
    "model.to(device)\n",
    "\n",
    "print(model)"
   ]
  },
  {
   "cell_type": "markdown",
   "id": "2321508b",
   "metadata": {},
   "source": [
    "# Part 3: Save and Load"
   ]
  },
  {
   "cell_type": "markdown",
   "id": "bb7bc219",
   "metadata": {},
   "source": [
    "## Step 1. Save"
   ]
  },
  {
   "cell_type": "code",
   "execution_count": null,
   "id": "9183202a",
   "metadata": {},
   "outputs": [],
   "source": [
    "##########\n",
    "model_checkpoint_path = '_test2'\n",
    "##########"
   ]
  },
  {
   "cell_type": "code",
   "execution_count": null,
   "id": "9c92ff63",
   "metadata": {},
   "outputs": [],
   "source": [
    "ds_case = aidata.Name_to_Data[split_name]['ds_case']\n",
    "ds_case"
   ]
  },
  {
   "cell_type": "code",
   "execution_count": null,
   "id": "81f962c2",
   "metadata": {},
   "outputs": [],
   "source": [
    "ds_case._format_kwargs"
   ]
  },
  {
   "cell_type": "code",
   "execution_count": null,
   "id": "c2efa417",
   "metadata": {},
   "outputs": [],
   "source": [
    "# -----------  save aidata -----------\n",
    "data_path = os.path.join(model_checkpoint_path, 'Data')\n",
    "if not os.path.exists(data_path): os.makedirs(data_path)\n",
    "aidata.save_aidata(data_path)"
   ]
  },
  {
   "cell_type": "code",
   "execution_count": null,
   "id": "40b9af11",
   "metadata": {},
   "outputs": [],
   "source": [
    "# save ModelInstance \n",
    "#######################\n",
    "model = model\n",
    "#######################\n",
    "\n",
    "\n",
    "if not os.path.exists(model_checkpoint_path): os.makedirs(model_checkpoint_path)\n",
    "model_path = os.path.join(model_checkpoint_path, 'Model')\n",
    "\n",
    "########################### TODO: update this.\n",
    "model.save_pretrained(model_path)\n",
    "###########################"
   ]
  },
  {
   "cell_type": "code",
   "execution_count": null,
   "id": "81049de2",
   "metadata": {},
   "outputs": [],
   "source": [
    "# ----------- save ModelInstanceArgs -----------\n",
    "# ModelInstanceArgs = self.ModelInstanceArgs  \n",
    "import json \n",
    "\n",
    "ModelInstanceArgs = {\n",
    "    'ModelArgs': ModelArgs,\n",
    "    # 'TrainingArgs': TrainingArgs,\n",
    "    # 'InferenceArgs': InferenceArgs,\n",
    "    # 'EvaluationArgs': EvaluationArgs,\n",
    "    'SPACE': SPACE,\n",
    "}\n",
    "\n",
    "ModelInstanceArgs_path = os.path.join(model_checkpoint_path, 'ModelInstanceArgs.json')\n",
    "with open(ModelInstanceArgs_path, 'w') as f:\n",
    "    json.dump(ModelInstanceArgs, f, indent = 4)"
   ]
  },
  {
   "cell_type": "markdown",
   "id": "8828db1a",
   "metadata": {},
   "source": [
    "## Step 2: Load"
   ]
  },
  {
   "cell_type": "code",
   "execution_count": null,
   "id": "6ba4efe8",
   "metadata": {},
   "outputs": [],
   "source": [
    "# model_checkpoint_path = '../_Model/vTestCGMFull/models/CGMOnlyLSM/checkpoint-8401' \n",
    "\n",
    "model_checkpoint_path = model_checkpoint_path"
   ]
  },
  {
   "cell_type": "code",
   "execution_count": null,
   "id": "3d0bc376",
   "metadata": {},
   "outputs": [],
   "source": [
    "# model\n",
    "assert model \n",
    "model_path = os.path.join(model_checkpoint_path, 'Model')     \n",
    "model = model.from_pretrained(model_path)\n",
    "# print(id(model), id(model2))\n",
    "model"
   ]
  },
  {
   "cell_type": "code",
   "execution_count": null,
   "id": "4d1d6ea8",
   "metadata": {},
   "outputs": [],
   "source": []
  }
 ],
 "metadata": {
  "kernelspec": {
   "display_name": "torch",
   "language": "python",
   "name": "python3"
  },
  "language_info": {
   "codemirror_mode": {
    "name": "ipython",
    "version": 3
   },
   "file_extension": ".py",
   "mimetype": "text/x-python",
   "name": "python",
   "nbconvert_exporter": "python",
   "pygments_lexer": "ipython3",
   "version": "3.11.9"
  },
  "toc-autonumbering": true
 },
 "nbformat": 4,
 "nbformat_minor": 5
}