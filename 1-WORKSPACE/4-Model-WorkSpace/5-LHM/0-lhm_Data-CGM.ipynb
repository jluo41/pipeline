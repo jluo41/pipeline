{
 "cells": [
  {
   "cell_type": "markdown",
   "id": "881d73c8-f12f-4a9b-a485-996a76289767",
   "metadata": {},
   "source": [
    "# Space"
   ]
  },
  {
   "cell_type": "code",
   "execution_count": null,
   "id": "d9b19d41",
   "metadata": {},
   "outputs": [],
   "source": [
    "import os\n",
    "import logging\n",
    "import pandas as pd \n",
    "from pprint import pprint \n",
    "from IPython.display import display, HTML\n",
    "pd.set_option('display.max_columns', None)\n",
    "KEY = 'WorkSpace'\n",
    "WORKSPACE_PATH = os.getcwd().split(KEY)[0] + KEY\n",
    "# print(WORKSPACE_PATH)\n",
    "os.chdir(WORKSPACE_PATH)\n",
    "import sys\n",
    "from proj_space import SPACE\n",
    "sys.path.append(SPACE['CODE_FN'])\n",
    "SPACE['WORKSPACE_PATH'] = WORKSPACE_PATH\n",
    "logger = logging.getLogger(__name__)\n",
    "logging.basicConfig(level=logging.INFO, format='[%(levelname)s:%(asctime)s:(%(filename)s@%(lineno)d %(name)s)]: %(message)s')\n",
    "\n",
    "from datasets import disable_caching\n",
    "disable_caching()\n",
    "\n",
    "SPACE['MODEL_ENDPOINT'] = 'vTest'"
   ]
  },
  {
   "cell_type": "markdown",
   "id": "57492949",
   "metadata": {},
   "source": [
    "# Part 1: AIData"
   ]
  },
  {
   "cell_type": "code",
   "execution_count": null,
   "id": "86bc766c",
   "metadata": {},
   "outputs": [],
   "source": [
    "# df_tag.columns\n",
    "\n",
    "from recfldtkn.base import assign_caseSplitTag_to_dsCase\n",
    "from recfldtkn.base import apply_multiple_conditions\n",
    "import numpy as np \n"
   ]
  },
  {
   "cell_type": "markdown",
   "id": "7f45f149",
   "metadata": {},
   "source": [
    "## Eval: Food Event"
   ]
  },
  {
   "cell_type": "code",
   "execution_count": null,
   "id": "311c7669",
   "metadata": {},
   "outputs": [],
   "source": [
    "from datasets import load_from_disk\n",
    "\n",
    "######## based patients with before 24h food event ###########\n",
    "AIDataName = 'EventFood2CGM_bf5min_WellDoc_v2_v0323'\n",
    "path = os.path.join(SPACE['DATA_AIDATA'], AIDataName)\n",
    "print(path)\n",
    "dataset = load_from_disk(path)"
   ]
  },
  {
   "cell_type": "code",
   "execution_count": null,
   "id": "38fa5fc4",
   "metadata": {},
   "outputs": [],
   "source": [
    "columns = dataset.column_names\n",
    "columns_tag = [i for i in columns if '--' not in i]\n",
    "df_tag = dataset.select_columns(columns_tag).to_pandas()\n",
    "\n",
    "\n",
    "df_pid = dataset.select_columns(['PID', 'GenderGroup', 'DiseaseTypeGroup', 'AgeGroup']).to_pandas()\n",
    "df_pid = df_pid.drop_duplicates()\n",
    "df_pid = df_pid[df_pid['GenderGroup'].isin(['Gender.1', 'Gender.2'])].reset_index(drop=True)\n",
    "df_pid = df_pid[df_pid['DiseaseTypeGroup'].isin(['DiseaseType.1.0', 'DiseaseType.2.0'])].reset_index(drop=True)\n",
    "df_display = df_pid.groupby(['GenderGroup', 'DiseaseTypeGroup', 'AgeGroup']).count().reset_index()# .sample(5)\n",
    "display(df_display)\n",
    "\n",
    "pid_selected = list(set(df_pid['PID'].values))\n",
    "print(len(pid_selected)) # 647\n",
    "\n",
    "PID_with_food_full = list(set(dataset['PID']))\n",
    "print(len(PID_with_food_full)) # 654"
   ]
  },
  {
   "cell_type": "code",
   "execution_count": null,
   "id": "ba1a39b1",
   "metadata": {},
   "outputs": [],
   "source": [
    "len(df_tag)\n",
    "6 / 28"
   ]
  },
  {
   "cell_type": "code",
   "execution_count": null,
   "id": "99d74a7e",
   "metadata": {},
   "outputs": [],
   "source": [
    "df_tag['Year'].value_counts().sort_index()"
   ]
  },
  {
   "cell_type": "code",
   "execution_count": null,
   "id": "654a5d30",
   "metadata": {},
   "outputs": [],
   "source": [
    "Split_to_Selection_Food = {\n",
    "    'eval_food_t1d_train': {\n",
    "        'Rules': [\n",
    "            # ['PID', 'in', pid_selected],\n",
    "            # ['GenderGroup', '==', 'Gender.1'],\n",
    "            ['DiseaseTypeGroup', '==', 'DiseaseType.1.0'],\n",
    "            # ['AgeGroup', '==', '40-64'],\n",
    "            ['Split', '==', 'Train'],\n",
    "        ], \n",
    "        'Op': 'and',\n",
    "    },\n",
    "\n",
    "    'eval_food_t2d_train': {\n",
    "        'Rules': [\n",
    "            # ['PID', 'in', pid_selected],\n",
    "            # ['GenderGroup', '==', 'Gender.1'],\n",
    "            ['DiseaseTypeGroup', '==', 'DiseaseType.2.0'],\n",
    "            # ['AgeGroup', '==', '40-64'],\n",
    "            ['Split', '==', 'Train'],\n",
    "        ], \n",
    "        'Op': 'and',\n",
    "    },\n",
    "\n",
    "\n",
    "    'eval_food_t1d_valid': {\n",
    "        'Rules': [\n",
    "            # ['PID', 'in', pid_selected],\n",
    "            # ['GenderGroup', '==', 'Gender.2'],\n",
    "            ['DiseaseTypeGroup', '==', 'DiseaseType.1.0'],\n",
    "            # ['AgeGroup', '==', '40-64'],\n",
    "            ['Split', '==', 'Valid'],\n",
    "        ], \n",
    "        'Op': 'and',\n",
    "    },\n",
    "\n",
    "    'eval_food_t2d_valid': {\n",
    "        'Rules': [\n",
    "            # ['PID', 'in', pid_selected],\n",
    "            # ['GenderGroup', '==', 'Gender.2'],\n",
    "            ['DiseaseTypeGroup', '==', 'DiseaseType.2.0'],\n",
    "            # ['AgeGroup', '==', '40-64'],\n",
    "            ['Split', '==', 'Valid'],\n",
    "        ], \n",
    "        'Op': 'and',\n",
    "    },\n",
    "\n",
    "    'eval_food_t1d_test': {\n",
    "        'Rules': [\n",
    "            # ['PID', 'in', pid_selected],\n",
    "            # ['GenderGroup', '==', 'Gender.2'],\n",
    "            ['DiseaseTypeGroup', '==', 'DiseaseType.1.0'],\n",
    "            # ['AgeGroup', '==', '40-64'],\n",
    "            ['Split', '==', 'Test'],\n",
    "        ], \n",
    "        'Op': 'and',\n",
    "    },\n",
    "\n",
    "    'eval_food_t2d_test': {\n",
    "        'Rules': [\n",
    "            # ['PID', 'in', pid_selected],\n",
    "            # ['GenderGroup', '==', 'Gender.2'],\n",
    "            ['DiseaseTypeGroup', '==', 'DiseaseType.2.0'],\n",
    "            # ['AgeGroup', '==', '40-64'],\n",
    "            ['Split', '==', 'Test'],\n",
    "        ], \n",
    "        'Op': 'and',\n",
    "    },\n",
    "}\n",
    "\n",
    "split_to_dataset = {}\n",
    "for split_name, Selection in Split_to_Selection_Food.items():\n",
    "    # split_to_dataset[split_name] = dataset.filter(lambda x: apply_multiple_conditions(x, split_config['Rules'], split_config['Op']))\n",
    "    Rules = Selection['Rules']\n",
    "    Op = Selection['Op']\n",
    "\n",
    "    index = apply_multiple_conditions(df_tag, Rules, Op)\n",
    "    indices = np.where(index == 1)[0]\n",
    "    # len(indices)\n",
    "    dataset_selected = dataset.select(indices)\n",
    "    split_to_dataset[split_name] = dataset_selected\n",
    "\n",
    "split_to_dataset_food = split_to_dataset\n",
    "print(split_to_dataset_food)"
   ]
  },
  {
   "cell_type": "markdown",
   "id": "990be1da",
   "metadata": {},
   "source": [
    "# Train: T1D & T2D in 123 Before 2023"
   ]
  },
  {
   "cell_type": "code",
   "execution_count": null,
   "id": "6f164971",
   "metadata": {},
   "outputs": [],
   "source": [
    "# Oneday: 288, 24pd. 1/12\n",
    "from datasets import load_from_disk\n",
    "\n",
    "# 24 / 288\n",
    "AIDataName = 'CGM_32h_24pd_WellDoc_v2_v0323' # CGM, 32h, 24 data per day. \n",
    "\n",
    "path = os.path.join(SPACE['DATA_AIDATA'], AIDataName)\n",
    "print(path)\n",
    "dataset = load_from_disk(path)\n",
    "# dataset\n",
    "\n",
    "config = dataset.info.__dict__['config_name']# .features['cf'].feature.vocab\n",
    "print([i for i in config])\n",
    "CF_to_CFvocab = config['CF_to_CFvocab']\n",
    "print([i for i in CF_to_CFvocab])\n",
    "\n",
    "CF_to_CFArgs = config['CaseSettingInfo']['Case_Args_Settings']['CF_to_CFArgs']\n",
    "print([i for i in CF_to_CFArgs])\n",
    "\n",
    "TriggerCaseBaseName = config['TriggerCaseBaseName']\n",
    "TriggerCaseBaseArgs = config['TriggerCaseBaseName_to_TriggerCaseBaseArgs'][TriggerCaseBaseName]\n",
    "TriggerName = TriggerCaseBaseArgs['Trigger']['TriggerName']\n",
    "TriggerName\n",
    "# print(TriggerCaseBaseArgs)"
   ]
  },
  {
   "cell_type": "code",
   "execution_count": null,
   "id": "e319e1e7",
   "metadata": {},
   "outputs": [],
   "source": [
    "columns = dataset.column_names\n",
    "columns_tag = [i for i in columns if '--' not in i]\n",
    "df_tag = dataset.select_columns(columns_tag).to_pandas()"
   ]
  },
  {
   "cell_type": "code",
   "execution_count": null,
   "id": "7f9f327f",
   "metadata": {},
   "outputs": [],
   "source": [
    "Split_to_Selection = {\n",
    "    'Train': {\n",
    "        'Rules': [\n",
    "            ['PID', 'not in', PID_with_food_full],\n",
    "            # ['Age', '>=', 40],\n",
    "            ['Cohort', 'in', ['1', '2', '3']], # <--- add Cohort column\n",
    "            ['Year', 'in', [2020, 2021, 2022, 2023]], # <--- add Year column\n",
    "            ['GenderGroup', 'in', ['Gender.1', 'Gender.2']], \n",
    "            ['DiseaseTypeGroup', 'in', ['DiseaseType.1.0', 'DiseaseType.2.0']],\n",
    "            ['ObsDT', '<',  '2022-07-01'], \n",
    "            ['ObsDT', '>=', '2021-01-01'],\n",
    "        ], \n",
    "        'Op': 'and',\n",
    "    },\n",
    "\n",
    "\n",
    "    'Val_T1D': {\n",
    "        'Rules': [\n",
    "            ['PID', 'not in', PID_with_food_full],\n",
    "            # ['Age', '>=', 40],\n",
    "            ['Cohort', 'in', ['1', '2', '3']], # <--- add Cohort column\n",
    "            ['Year', 'in', [2020, 2021, 2022, 2023]], # <--- add Year column\n",
    "            ['ObsDT', '<',  '2023-01-01'], \n",
    "            ['ObsDT', '>=', '2022-07-01'],\n",
    "            ['GenderGroup', 'in', ['Gender.1', 'Gender.2']], \n",
    "            ['DiseaseTypeGroup', 'in', ['DiseaseType.1.0']],\n",
    "        ], \n",
    "        'Op': 'and',\n",
    "    },\n",
    "\n",
    "    'Val_T2D': {\n",
    "        'Rules': [\n",
    "            ['PID', 'not in', PID_with_food_full],\n",
    "            # ['Age', '>=', 40],\n",
    "            ['Cohort', 'in', ['1', '2', '3']], # <--- add Cohort column\n",
    "            ['Year', 'in', [2020, 2021, 2022, 2023]], # <--- add Year column\n",
    "            ['ObsDT', '<',  '2023-01-01'], \n",
    "            ['ObsDT', '>=', '2022-07-01'],\n",
    "            ['GenderGroup', 'in', ['Gender.1', 'Gender.2']], \n",
    "            ['DiseaseTypeGroup', 'in', ['DiseaseType.2.0']],\n",
    "        ], \n",
    "        'Op': 'and',\n",
    "    },\n",
    "\n",
    "    \n",
    "    'Test_T1D': {\n",
    "        'Rules': [\n",
    "            ['PID', 'not in', PID_with_food_full],\n",
    "            # ['Age', '>=', 40],\n",
    "            ['Cohort', 'in', ['1', '2', '3']], # <--- add Cohort column\n",
    "            ['Year', 'in', [2020, 2021, 2022, 2023]], # <--- add Year column\n",
    "            ['ObsDT', '>=', '2023-01-01'], \n",
    "            ['ObsDT', '<',  '2024-01-01'],\n",
    "            ['GenderGroup', 'in', ['Gender.1', 'Gender.2']], \n",
    "            ['DiseaseTypeGroup', 'in', ['DiseaseType.1.0']],\n",
    "        ], \n",
    "        'Op': 'and',\n",
    "    },\n",
    "    'Test_T2D': {\n",
    "        'Rules': [\n",
    "            ['PID', 'not in', PID_with_food_full],\n",
    "            # ['Age', '>=', 40],\n",
    "            ['Cohort', 'in', ['1', '2', '3']], # <--- add Cohort column\n",
    "            ['Year', 'in', [2020, 2021, 2022, 2023]], # <--- add Year column\n",
    "            ['ObsDT', '>=', '2023-01-01'], \n",
    "            ['ObsDT', '<',  '2024-01-01'],\n",
    "            ['GenderGroup', 'in', ['Gender.1', 'Gender.2']], \n",
    "            ['DiseaseTypeGroup', 'in', ['DiseaseType.2.0']],\n",
    "        ], \n",
    "        'Op': 'and',\n",
    "    }\n",
    "}"
   ]
  },
  {
   "cell_type": "code",
   "execution_count": null,
   "id": "7023238d",
   "metadata": {},
   "outputs": [],
   "source": [
    "split_to_dataset = {}\n",
    "for split_name, Selection in Split_to_Selection.items():\n",
    "    # split_to_dataset[split_name] = dataset.filter(lambda x: apply_multiple_conditions(x, split_config['Rules'], split_config['Op']))\n",
    "    Rules = Selection['Rules']\n",
    "    Op = Selection['Op']\n",
    "\n",
    "    index = apply_multiple_conditions(df_tag, Rules, Op)\n",
    "    indices = np.where(index == 1)[0]\n",
    "    # len(indices)\n",
    "    dataset_selected = dataset.select(indices)\n",
    "    split_to_dataset[split_name] = dataset_selected\n",
    "\n",
    "split_to_dataset"
   ]
  },
  {
   "cell_type": "markdown",
   "id": "d207579d",
   "metadata": {},
   "source": [
    "## Data Description"
   ]
  },
  {
   "cell_type": "code",
   "execution_count": null,
   "id": "e1008f80",
   "metadata": {},
   "outputs": [],
   "source": [
    "for k, v in split_to_dataset_food.items():\n",
    "    split_to_dataset[k] = v \n",
    "\n",
    "split_to_dataset"
   ]
  },
  {
   "cell_type": "code",
   "execution_count": null,
   "id": "2360f178",
   "metadata": {},
   "outputs": [],
   "source": [
    "columns = [\n",
    "    'DiseaseTypeGroup', 'GenderGroup', 'AgeGroup'\n",
    "]\n",
    "\n",
    "for SplitName in Split_to_Selection.keys():\n",
    "    print(f'\\n========== {SplitName} ==========' )\n",
    "\n",
    "    ds = split_to_dataset[SplitName]\n",
    "    columns_tag = ds.column_names\n",
    "    columns_tag = [i for i in columns_tag if '--' not in i]\n",
    "    df_tag = ds.select_columns(columns_tag).to_pandas()\n",
    "\n",
    "    v = df_tag[columns].value_counts().sort_index().reset_index()\n",
    "    display(v)\n",
    "\n",
    "    v = df_tag[['PID'] + columns].drop_duplicates()[columns].value_counts().sort_index().reset_index()\n",
    "    display(v)"
   ]
  },
  {
   "cell_type": "code",
   "execution_count": null,
   "id": "812c9824",
   "metadata": {},
   "outputs": [],
   "source": [
    "Name_to_Data = {}\n",
    "for split, dataset in split_to_dataset.items():\n",
    "    Name_to_Data[split] = {'ds_case': dataset}\n",
    "Name_to_Data"
   ]
  },
  {
   "cell_type": "markdown",
   "id": "e08370af",
   "metadata": {},
   "source": [
    "## Set Transform"
   ]
  },
  {
   "cell_type": "code",
   "execution_count": null,
   "id": "fefbdccc",
   "metadata": {},
   "outputs": [],
   "source": [
    "OneEntryArgs = {\n",
    "     # ----------------- Input Part -----------------\n",
    "    'Input_Part': {\n",
    "        'EntryInputMethod': 'Mto1Period_MultiTknInStepNoWgt',\n",
    "        'CF_list': [\n",
    "            'cf.TargetCGM_Bf24H',\n",
    "            'cf.TargetCGM_Af2H',\n",
    "            # 'cf.TargetCGM_Af2Hto8H',\n",
    "        ],\n",
    "        'TargetField': 'TargetCGM',\n",
    "        'BeforePeriods': ['Bf24H'],\n",
    "        'AfterPeriods': ['Af2H'],\n",
    "        'InferenceMode': False, # 'WithFutureEvent' #  # 'NoFutureEvent', 'WithFutureEvent', \n",
    "    }, \n",
    "\n",
    "    # ----------------- Output Part -----------------\n",
    "    # 'Output_Part': {\n",
    "    #     'EntryOutputMethod': 'CausalLM',\n",
    "    #     'set_transform': True,\n",
    "    #     'num_proc': 4, \n",
    "    # },\n",
    "\n",
    "    # 'Output_Part': {\n",
    "    #     'EntryOutputMethod': 'MaskedLM',\n",
    "    #     'MaskingRate': 0.15,\n",
    "    #     'set_transform': True,\n",
    "    #     'num_proc': 4, \n",
    "    # },\n",
    "\n",
    "    'Output_Part': {\n",
    "        'EntryOutputMethod': 'SupervisedFT',\n",
    "        'AfStepNum': 24, # 12, # assert AfterPeriods Af2H,so 12 * 2 = 24\n",
    "        'set_transform': True,\n",
    "        'num_proc': 4, \n",
    "    },\n",
    "}\n",
    "\n",
    "from recfldtkn.aidata_base.entry import EntryAIData_Builder\n",
    "\n",
    "entry = EntryAIData_Builder(TriggerName = TriggerName, \n",
    "                            OneEntryArgs = OneEntryArgs, \n",
    "                            SPACE = SPACE)"
   ]
  },
  {
   "cell_type": "code",
   "execution_count": null,
   "id": "a48a841f",
   "metadata": {},
   "outputs": [],
   "source": [
    "Name_to_Data = entry.setup_EntryFn_to_NameToData(Name_to_Data, CF_to_CFvocab, OneEntryArgs)\n",
    "Name_to_Data"
   ]
  },
  {
   "cell_type": "markdown",
   "id": "2f0d4ce3",
   "metadata": {},
   "source": [
    "## View A Batch"
   ]
  },
  {
   "cell_type": "code",
   "execution_count": null,
   "id": "475bd8e3",
   "metadata": {},
   "outputs": [],
   "source": [
    "Data = Name_to_Data['Train']\n",
    "# Data\n",
    "\n",
    "Data"
   ]
  },
  {
   "cell_type": "code",
   "execution_count": null,
   "id": "a3aecb96",
   "metadata": {},
   "outputs": [],
   "source": [
    "ds_tfm = Data['ds_tfm']\n",
    "ds_tfm"
   ]
  },
  {
   "cell_type": "code",
   "execution_count": null,
   "id": "b257f695",
   "metadata": {},
   "outputs": [],
   "source": [
    "batch_size = 4\n",
    "batch = ds_tfm[:batch_size]\n",
    "batch"
   ]
  },
  {
   "cell_type": "code",
   "execution_count": null,
   "id": "23664aa4",
   "metadata": {},
   "outputs": [],
   "source": [
    "for k, v in batch.items():\n",
    "    print(k, v.shape)\n",
    "\n",
    "# 4: batch size \n",
    "# 313: 288 (24h) +  1 (obspoint) + 24 (2h) # sequence length\n",
    "\n",
    "\n",
    "# input_ids torch.Size([4, 313])\n",
    "# labels torch.Size([4, 313])"
   ]
  },
  {
   "cell_type": "code",
   "execution_count": null,
   "id": "0e8492e3",
   "metadata": {},
   "outputs": [],
   "source": [
    "32 * 12 + 1"
   ]
  },
  {
   "cell_type": "code",
   "execution_count": null,
   "id": "e1fadb1e",
   "metadata": {},
   "outputs": [],
   "source": [
    "batch['input_ids'][0] # .shape # "
   ]
  },
  {
   "cell_type": "code",
   "execution_count": null,
   "id": "3520cc89",
   "metadata": {},
   "outputs": [],
   "source": [
    "# softmax ignore -100\n",
    "batch['labels'][0]"
   ]
  },
  {
   "cell_type": "code",
   "execution_count": null,
   "id": "76c56a03",
   "metadata": {},
   "outputs": [],
   "source": [
    "# batch['Diet--event_indicators'][0]# .sum(axis = 1)"
   ]
  },
  {
   "cell_type": "code",
   "execution_count": null,
   "id": "98e8ac8e",
   "metadata": {},
   "outputs": [],
   "source": [
    "input_ids = batch['input_ids']\n",
    "input_ids.shape"
   ]
  },
  {
   "cell_type": "code",
   "execution_count": null,
   "id": "f1423e2a",
   "metadata": {},
   "outputs": [],
   "source": [
    "input_ids"
   ]
  },
  {
   "cell_type": "code",
   "execution_count": null,
   "id": "522216e8",
   "metadata": {},
   "outputs": [],
   "source": [
    "input_ids[2, :] # 313 = 288 (24h) +  1 (obspoint) + 24 (2h)"
   ]
  },
  {
   "cell_type": "code",
   "execution_count": null,
   "id": "d7738243",
   "metadata": {},
   "outputs": [],
   "source": [
    "labels = batch['labels']\n",
    "labels.shape"
   ]
  },
  {
   "cell_type": "code",
   "execution_count": null,
   "id": "0737ce1d",
   "metadata": {},
   "outputs": [],
   "source": []
  },
  {
   "cell_type": "code",
   "execution_count": null,
   "id": "84f75091",
   "metadata": {},
   "outputs": [],
   "source": []
  }
 ],
 "metadata": {
  "kernelspec": {
   "display_name": "torch",
   "language": "python",
   "name": "python3"
  },
  "language_info": {
   "codemirror_mode": {
    "name": "ipython",
    "version": 3
   },
   "file_extension": ".py",
   "mimetype": "text/x-python",
   "name": "python",
   "nbconvert_exporter": "python",
   "pygments_lexer": "ipython3",
   "version": "3.11.9"
  },
  "toc-autonumbering": true
 },
 "nbformat": 4,
 "nbformat_minor": 5
}